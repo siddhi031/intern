{
 "cells": [
  {
   "cell_type": "code",
   "execution_count": 1,
   "id": "1472f24a-cc50-404a-b8be-6fab77a843b1",
   "metadata": {},
   "outputs": [
    {
     "name": "stdout",
     "output_type": "stream",
     "text": [
      "pune\n",
      "pune\n",
      "pune\n",
      "pune\n",
      "pune\n"
     ]
    }
   ],
   "source": [
    "count = 0\n",
    "while count < 5:\n",
    "    print(\"pune\")\n",
    "    count +=1"
   ]
  },
  {
   "cell_type": "code",
   "execution_count": null,
   "id": "c6ce722b-c913-47d8-b60d-032a67c417fe",
   "metadata": {},
   "outputs": [],
   "source": [
    "# find addition of odd no from 1 to 20 using while loop"
   ]
  },
  {
   "cell_type": "code",
   "execution_count": 2,
   "id": "2bb88c9e-4b3f-42fc-ad8e-90da78d05343",
   "metadata": {},
   "outputs": [
    {
     "name": "stdout",
     "output_type": "stream",
     "text": [
      "100\n"
     ]
    }
   ],
   "source": [
    "count = 1\n",
    "add = 0\n",
    "while count <= 20:\n",
    " add = add + count\n",
    " count += 2\n",
    "print(add)"
   ]
  },
  {
   "cell_type": "code",
   "execution_count": null,
   "id": "0a899262-d62a-46cd-9e6c-8c61bcf7bd80",
   "metadata": {},
   "outputs": [],
   "source": [
    "# intentional infinite loop\n",
    "#while True:\n",
    "#print(\"hi\")"
   ]
  },
  {
   "cell_type": "code",
   "execution_count": null,
   "id": "2b01a436-1e99-4710-8fb1-ef2e0edee679",
   "metadata": {},
   "outputs": [],
   "source": [
    "#find the factorial no of user "
   ]
  },
  {
   "cell_type": "code",
   "execution_count": 3,
   "id": "5c705558-a642-4874-8be9-88cbdc68c9ca",
   "metadata": {},
   "outputs": [
    {
     "name": "stdin",
     "output_type": "stream",
     "text": [
      " enter the number for factorial no : 7\n"
     ]
    },
    {
     "name": "stdout",
     "output_type": "stream",
     "text": [
      "The factorial of 7 is 5040\n"
     ]
    }
   ],
   "source": [
    "num = int(input(\" enter the number for factorial no :\"))\n",
    "factorial = 1 \n",
    "\n",
    "for i in range(1, num + 1):\n",
    "    factorial = factorial * i\n",
    "print(\"The factorial of\", num, \"is\", factorial)"
   ]
  },
  {
   "cell_type": "code",
   "execution_count": null,
   "id": "b2a5e2ba-9ead-40d8-94a1-a4313ff9d640",
   "metadata": {},
   "outputs": [],
   "source": [
    "# find the addition of the digit in the number\n",
    "#12345== 1+2+3+4+5 = 15"
   ]
  },
  {
   "cell_type": "code",
   "execution_count": 4,
   "id": "00cf71af-cd1b-4760-b2d6-9f3279e57b27",
   "metadata": {},
   "outputs": [
    {
     "data": {
      "text/plain": [
       "123"
      ]
     },
     "execution_count": 4,
     "metadata": {},
     "output_type": "execute_result"
    }
   ],
   "source": [
    "1234//10"
   ]
  },
  {
   "cell_type": "code",
   "execution_count": 9,
   "id": "ea1f4244-98a4-48ef-b74c-5b36218d0d92",
   "metadata": {},
   "outputs": [
    {
     "name": "stdin",
     "output_type": "stream",
     "text": [
      "enter the no: 8900\n"
     ]
    },
    {
     "name": "stdout",
     "output_type": "stream",
     "text": [
      "addition is :  0\n",
      "addition is :  0\n",
      "addition is :  9\n",
      "addition is :  17\n"
     ]
    }
   ],
   "source": [
    "num = int(input(\"enter the no:\"))\n",
    "add = 0\n",
    "while num > 0:\n",
    "    rem = num % 10\n",
    "    add = add + rem\n",
    "    num = num // 10\n",
    "    print(\"addition is : \",(add))"
   ]
  },
  {
   "cell_type": "code",
   "execution_count": null,
   "id": "059b3152-65b9-4b72-ad84-bc8a495b1155",
   "metadata": {},
   "outputs": [],
   "source": [
    "# for loop "
   ]
  },
  {
   "cell_type": "code",
   "execution_count": null,
   "id": "20bb0a0f-d46f-4591-8dbc-07d01c5333cd",
   "metadata": {},
   "outputs": [],
   "source": [
    "for n in 12 ,3 , 4, 5:\n",
    "    print (n)"
   ]
  },
  {
   "cell_type": "code",
   "execution_count": null,
   "id": "a20acb56-6a4e-4ffc-b684-fb00d2f325c8",
   "metadata": {},
   "outputs": [],
   "source": [
    "# iterate over a sequence and print half of those value "
   ]
  },
  {
   "cell_type": "code",
   "execution_count": 3,
   "id": "b777d966-aecc-4dd8-a3b0-7891407eb6d2",
   "metadata": {},
   "outputs": [
    {
     "name": "stdout",
     "output_type": "stream",
     "text": [
      "6.0 1.5 2.0 2.5 "
     ]
    }
   ],
   "source": [
    "for n in 12 ,3 , 4, 5:\n",
    "    print ( n / 2 ,end = ' ')"
   ]
  },
  {
   "cell_type": "code",
   "execution_count": null,
   "id": "efae9812-2efe-4e4a-86b3-77f85e4e3b3d",
   "metadata": {},
   "outputs": [],
   "source": [
    "# range "
   ]
  },
  {
   "cell_type": "code",
   "execution_count": null,
   "id": "feeaea17-651a-4042-bc0a-1069dbee03b9",
   "metadata": {},
   "outputs": [],
   "source": [
    "list(range(10))"
   ]
  },
  {
   "cell_type": "code",
   "execution_count": null,
   "id": "c1b2cf2a-3d68-4e7d-bead-f8388ae8b9a3",
   "metadata": {},
   "outputs": [],
   "source": [
    "list(range(1,10))"
   ]
  },
  {
   "cell_type": "code",
   "execution_count": 2,
   "id": "d1b4e611-b420-4476-ab6f-26b0bf466927",
   "metadata": {},
   "outputs": [
    {
     "data": {
      "text/plain": [
       "[1, 3, 5, 7, 9, 11]"
      ]
     },
     "execution_count": 2,
     "metadata": {},
     "output_type": "execute_result"
    }
   ],
   "source": [
    "list(range(1,12,2))\n",
    "# start,end ,step"
   ]
  },
  {
   "cell_type": "code",
   "execution_count": 1,
   "id": "91505c42-17f6-4024-a0f2-ee7eda9ca09f",
   "metadata": {},
   "outputs": [
    {
     "name": "stdout",
     "output_type": "stream",
     "text": [
      "1 2 3 4 5 6 7 8 9 10 "
     ]
    }
   ],
   "source": [
    "for n in range(1,11):\n",
    "    print(n, end = ' ')"
   ]
  },
  {
   "cell_type": "code",
   "execution_count": null,
   "id": "81982d4d-55c4-4077-b6f2-d816c37609e3",
   "metadata": {},
   "outputs": [],
   "source": [
    "# find the addition of 1 to 10 no using for loop "
   ]
  },
  {
   "cell_type": "code",
   "execution_count": null,
   "id": "c9f56e39-97f8-4219-87f3-d9f5fef7ee3c",
   "metadata": {},
   "outputs": [],
   "source": [
    "\n",
    "sum = 0\n",
    "\n",
    "for num in range(1, 11):  \n",
    "    sum = num+sum   \n",
    "\n",
    "print(\"The sum of numbers from 1 to 10 is:\", sum)\n"
   ]
  },
  {
   "cell_type": "code",
   "execution_count": null,
   "id": "a5a646e5-2252-4f84-a3c9-307bd3f5011f",
   "metadata": {},
   "outputs": [],
   "source": [
    "for i in \"pune\":\n",
    "    print(i)"
   ]
  },
  {
   "cell_type": "code",
   "execution_count": null,
   "id": "9d85798a-351a-45b5-b2e2-ce6ed1b24781",
   "metadata": {},
   "outputs": [],
   "source": [
    "for i in \"pune\" , \"mumbai\":\n",
    "    print(i)"
   ]
  },
  {
   "cell_type": "code",
   "execution_count": null,
   "id": "6f091f95-1a04-45db-b35a-d16a1291635c",
   "metadata": {},
   "outputs": [],
   "source": [
    "# find factorial using for loop"
   ]
  },
  {
   "cell_type": "code",
   "execution_count": 3,
   "id": "7c3f3c85-4090-40e4-b89d-bbfabc3949d0",
   "metadata": {},
   "outputs": [
    {
     "name": "stdout",
     "output_type": "stream",
     "text": [
      "The factorial of 4 is 24\n"
     ]
    }
   ],
   "source": [
    "num = 4\n",
    "factorial = 1 \n",
    "\n",
    "for i in range(1, num + 1):\n",
    "    factorial = factorial * i\n",
    "print(\"The factorial of\", num, \"is\", factorial)"
   ]
  },
  {
   "cell_type": "code",
   "execution_count": null,
   "id": "6c8f57da-9a8a-459e-9ffe-3687601f06b3",
   "metadata": {},
   "outputs": [],
   "source": [
    "#### loop control statement "
   ]
  },
  {
   "cell_type": "code",
   "execution_count": null,
   "id": "4cd8f28e-a6d8-464a-bc5b-e401f8a5de48",
   "metadata": {},
   "outputs": [],
   "source": [
    "# break"
   ]
  },
  {
   "cell_type": "code",
   "execution_count": 2,
   "id": "a85c3a59-dc8e-4f28-bd38-679e053a4220",
   "metadata": {},
   "outputs": [
    {
     "name": "stdout",
     "output_type": "stream",
     "text": [
      "1\n",
      "2\n",
      "3\n",
      "4\n",
      "5\n",
      "6\n"
     ]
    }
   ],
   "source": [
    "for i in range ( 1, 11):\n",
    "    print(i)\n",
    "    if i == 6:\n",
    "        break"
   ]
  },
  {
   "cell_type": "code",
   "execution_count": 1,
   "id": "d4669939-f8f0-46e1-aaac-1e5d327b42d4",
   "metadata": {},
   "outputs": [
    {
     "name": "stdout",
     "output_type": "stream",
     "text": [
      "1\n",
      "2\n",
      "3\n",
      "4\n",
      "5\n",
      "6\n"
     ]
    }
   ],
   "source": [
    "count = 1\n",
    "while count < 11:\n",
    "    print(count)\n",
    "    if count == 6:\n",
    "        break\n",
    "    count += 1\n"
   ]
  },
  {
   "cell_type": "code",
   "execution_count": 4,
   "id": "c8a5ea74-b281-40b8-97ad-dc8810ca75ad",
   "metadata": {},
   "outputs": [],
   "source": [
    "# continue"
   ]
  },
  {
   "cell_type": "code",
   "execution_count": 9,
   "id": "daf55705-fd65-4401-9410-a637ea5a0c81",
   "metadata": {},
   "outputs": [
    {
     "name": "stdout",
     "output_type": "stream",
     "text": [
      "1\n",
      "2\n",
      "3\n",
      "4\n",
      "5\n",
      "7\n",
      "8\n",
      "9\n",
      "10\n"
     ]
    }
   ],
   "source": [
    "for i in range(1,11):\n",
    "    if i == 6:\n",
    "        continue\n",
    "    print(i)  "
   ]
  },
  {
   "cell_type": "code",
   "execution_count": 14,
   "id": "0a96a79a-fd75-48ad-8dfe-d3fdf5075741",
   "metadata": {},
   "outputs": [
    {
     "name": "stdin",
     "output_type": "stream",
     "text": [
      "enter the no of row : 7\n"
     ]
    },
    {
     "name": "stdout",
     "output_type": "stream",
     "text": [
      "*\n",
      "**\n",
      "***\n",
      "****\n",
      "*****\n",
      "******\n",
      "*******\n"
     ]
    }
   ],
   "source": [
    "rows =int(input(\"enter the no of row :\"))\n",
    "for i in range(1, rows + 1):\n",
    "    print('*' * i)"
   ]
  },
  {
   "cell_type": "code",
   "execution_count": 17,
   "id": "e30098dc-0a57-4709-ba6f-60e6f4e54cd3",
   "metadata": {},
   "outputs": [
    {
     "name": "stdin",
     "output_type": "stream",
     "text": [
      "enter the no of row : 5\n"
     ]
    },
    {
     "name": "stdout",
     "output_type": "stream",
     "text": [
      "* \n",
      "** ** \n",
      "*** *** *** \n",
      "**** **** **** **** \n",
      "***** ***** ***** ***** ***** \n"
     ]
    }
   ],
   "source": [
    "rows =int(input(\"enter the no of row :\"))\n",
    "for i in range(1, rows + 1):\n",
    "    for j in range(1, i + 1):\n",
    "                        print('*' * i, end = \" \")\n",
    "    print()"
   ]
  },
  {
   "cell_type": "code",
   "execution_count": null,
   "id": "3f3fbc74-3f78-4363-b5d6-46203b9fd7a1",
   "metadata": {},
   "outputs": [],
   "source": []
  }
 ],
 "metadata": {
  "kernelspec": {
   "display_name": "Python [conda env:base] *",
   "language": "python",
   "name": "conda-base-py"
  },
  "language_info": {
   "codemirror_mode": {
    "name": "ipython",
    "version": 3
   },
   "file_extension": ".py",
   "mimetype": "text/x-python",
   "name": "python",
   "nbconvert_exporter": "python",
   "pygments_lexer": "ipython3",
   "version": "3.12.7"
  }
 },
 "nbformat": 4,
 "nbformat_minor": 5
}
