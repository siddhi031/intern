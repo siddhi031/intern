{
 "cells": [
  {
   "cell_type": "code",
   "execution_count": 1,
   "id": "f3bde224-b0f4-4f5c-aee6-6d5a3952997e",
   "metadata": {},
   "outputs": [],
   "source": [
    "a = 2\n",
    "b = 3"
   ]
  },
  {
   "cell_type": "code",
   "execution_count": 2,
   "id": "f7d4abee-c4e6-43d2-bb8c-f02d6e36fd38",
   "metadata": {},
   "outputs": [
    {
     "data": {
      "text/plain": [
       "5"
      ]
     },
     "execution_count": 2,
     "metadata": {},
     "output_type": "execute_result"
    }
   ],
   "source": [
    "a+b"
   ]
  },
  {
   "cell_type": "code",
   "execution_count": 3,
   "id": "136590b2-cdee-4da0-8d70-839421d1ddf5",
   "metadata": {},
   "outputs": [
    {
     "data": {
      "text/plain": [
       "-1"
      ]
     },
     "execution_count": 3,
     "metadata": {},
     "output_type": "execute_result"
    }
   ],
   "source": [
    "a-b"
   ]
  },
  {
   "cell_type": "code",
   "execution_count": 4,
   "id": "3f8e5107-d3cc-47f9-8553-e199c6eede9a",
   "metadata": {},
   "outputs": [
    {
     "data": {
      "text/plain": [
       "0.6666666666666666"
      ]
     },
     "execution_count": 4,
     "metadata": {},
     "output_type": "execute_result"
    }
   ],
   "source": [
    "a/b"
   ]
  },
  {
   "cell_type": "code",
   "execution_count": 5,
   "id": "a775c940-4af9-4701-9153-bb017976aa99",
   "metadata": {},
   "outputs": [
    {
     "data": {
      "text/plain": [
       "0"
      ]
     },
     "execution_count": 5,
     "metadata": {},
     "output_type": "execute_result"
    }
   ],
   "source": [
    "a//b"
   ]
  },
  {
   "cell_type": "code",
   "execution_count": 6,
   "id": "0a008f80-9962-4f23-9a8d-168199c24a37",
   "metadata": {},
   "outputs": [
    {
     "data": {
      "text/plain": [
       "2"
      ]
     },
     "execution_count": 6,
     "metadata": {},
     "output_type": "execute_result"
    }
   ],
   "source": [
    "a%b"
   ]
  },
  {
   "cell_type": "code",
   "execution_count": 7,
   "id": "c984b4af-3fe2-44b2-ab1a-db7fd34b1f7a",
   "metadata": {},
   "outputs": [
    {
     "data": {
      "text/plain": [
       "6"
      ]
     },
     "execution_count": 7,
     "metadata": {},
     "output_type": "execute_result"
    }
   ],
   "source": [
    "a*b"
   ]
  },
  {
   "cell_type": "code",
   "execution_count": 8,
   "id": "b7afecbc-a390-490d-9bbf-2ec7857dab46",
   "metadata": {
    "scrolled": true
   },
   "outputs": [
    {
     "data": {
      "text/plain": [
       "'0b1101'"
      ]
     },
     "execution_count": 8,
     "metadata": {},
     "output_type": "execute_result"
    }
   ],
   "source": [
    "bin(13)"
   ]
  },
  {
   "cell_type": "code",
   "execution_count": 9,
   "id": "5dcd72b9-159f-4276-b6fd-8383032b4e52",
   "metadata": {},
   "outputs": [],
   "source": [
    "a1 = 13  \n",
    "b2 = 15"
   ]
  },
  {
   "cell_type": "code",
   "execution_count": 10,
   "id": "74b190e0-b4df-4678-8931-9f089fad0f52",
   "metadata": {},
   "outputs": [
    {
     "data": {
      "text/plain": [
       "13"
      ]
     },
     "execution_count": 10,
     "metadata": {},
     "output_type": "execute_result"
    }
   ],
   "source": [
    "a & b"
   ]
  },
  {
   "cell_type": "code",
   "execution_count": 13,
   "id": "798b72dd-f828-4ab6-b39e-44c80e8173b0",
   "metadata": {},
   "outputs": [
    {
     "data": {
      "text/plain": [
       "2"
      ]
     },
     "execution_count": 13,
     "metadata": {},
     "output_type": "execute_result"
    }
   ],
   "source": [
    "a ^ b"
   ]
  },
  {
   "cell_type": "code",
   "execution_count": 14,
   "id": "95a6aa10-df08-4fd5-8173-40fcc461d548",
   "metadata": {},
   "outputs": [
    {
     "data": {
      "text/plain": [
       "13"
      ]
     },
     "execution_count": 14,
     "metadata": {},
     "output_type": "execute_result"
    }
   ],
   "source": [
    "a "
   ]
  },
  {
   "cell_type": "code",
   "execution_count": 15,
   "id": "33b90b1d-b139-4740-84a7-47ef885cc1fc",
   "metadata": {},
   "outputs": [
    {
     "data": {
      "text/plain": [
       "15"
      ]
     },
     "execution_count": 15,
     "metadata": {},
     "output_type": "execute_result"
    }
   ],
   "source": [
    "a | b\n"
   ]
  },
  {
   "cell_type": "code",
   "execution_count": 16,
   "id": "23aa50bb-730c-418c-a3cb-3db14fd47c28",
   "metadata": {},
   "outputs": [
    {
     "data": {
      "text/plain": [
       "3"
      ]
     },
     "execution_count": 16,
     "metadata": {},
     "output_type": "execute_result"
    }
   ],
   "source": [
    "a >> 2"
   ]
  },
  {
   "cell_type": "code",
   "execution_count": 17,
   "id": "fc034728-ffce-4cf8-a0c4-d594f746d041",
   "metadata": {},
   "outputs": [
    {
     "data": {
      "text/plain": [
       "30"
      ]
     },
     "execution_count": 17,
     "metadata": {},
     "output_type": "execute_result"
    }
   ],
   "source": [
    "b << 1"
   ]
  },
  {
   "cell_type": "code",
   "execution_count": 19,
   "id": "f6f2c25b-d323-4086-9479-55d61ebd9e9d",
   "metadata": {},
   "outputs": [],
   "source": [
    "a //= 8"
   ]
  },
  {
   "cell_type": "code",
   "execution_count": 20,
   "id": "dc8319e4-c5a3-44cf-9032-7fa0ec0e91a7",
   "metadata": {},
   "outputs": [
    {
     "data": {
      "text/plain": [
       "1"
      ]
     },
     "execution_count": 20,
     "metadata": {},
     "output_type": "execute_result"
    }
   ],
   "source": [
    "a"
   ]
  },
  {
   "cell_type": "code",
   "execution_count": 21,
   "id": "35fcb281-242f-47ac-93aa-5898b2064871",
   "metadata": {},
   "outputs": [
    {
     "data": {
      "text/plain": [
       "1"
      ]
     },
     "execution_count": 21,
     "metadata": {},
     "output_type": "execute_result"
    }
   ],
   "source": [
    "a %= 8\n",
    "a"
   ]
  },
  {
   "cell_type": "code",
   "execution_count": 22,
   "id": "455e28ea-c222-40cd-85f2-f85b3c4a93d3",
   "metadata": {},
   "outputs": [
    {
     "data": {
      "text/plain": [
       "(10, 15)"
      ]
     },
     "execution_count": 22,
     "metadata": {},
     "output_type": "execute_result"
    }
   ],
   "source": [
    "a = 10 ; a,b \n"
   ]
  },
  {
   "cell_type": "code",
   "execution_count": 23,
   "id": "91f1f944-1dff-4331-82d0-46435575abcd",
   "metadata": {},
   "outputs": [
    {
     "data": {
      "text/plain": [
       "False"
      ]
     },
     "execution_count": 23,
     "metadata": {},
     "output_type": "execute_result"
    }
   ],
   "source": [
    "a == b"
   ]
  },
  {
   "cell_type": "code",
   "execution_count": 24,
   "id": "3ac27df4-9add-4c32-ac00-5bfd0832cd0c",
   "metadata": {},
   "outputs": [
    {
     "data": {
      "text/plain": [
       "True"
      ]
     },
     "execution_count": 24,
     "metadata": {},
     "output_type": "execute_result"
    }
   ],
   "source": [
    "a != b"
   ]
  },
  {
   "cell_type": "code",
   "execution_count": 25,
   "id": "5734798d-6849-4a12-b3c8-4d4325fff0e7",
   "metadata": {},
   "outputs": [
    {
     "data": {
      "text/plain": [
       "False"
      ]
     },
     "execution_count": 25,
     "metadata": {},
     "output_type": "execute_result"
    }
   ],
   "source": [
    "a >= b"
   ]
  },
  {
   "cell_type": "code",
   "execution_count": 27,
   "id": "9ab58770-5301-44bc-b155-0175fcace00e",
   "metadata": {},
   "outputs": [
    {
     "data": {
      "text/plain": [
       "True"
      ]
     },
     "execution_count": 27,
     "metadata": {},
     "output_type": "execute_result"
    }
   ],
   "source": [
    "a <= b"
   ]
  },
  {
   "cell_type": "code",
   "execution_count": 28,
   "id": "f0e569b6-eb01-4c1b-bc90-362f6680e917",
   "metadata": {},
   "outputs": [
    {
     "data": {
      "text/plain": [
       "15"
      ]
     },
     "execution_count": 28,
     "metadata": {},
     "output_type": "execute_result"
    }
   ],
   "source": [
    "a and b"
   ]
  },
  {
   "cell_type": "code",
   "execution_count": 29,
   "id": "dccd6c26-57ed-4dea-bebf-779cca0990f6",
   "metadata": {},
   "outputs": [
    {
     "data": {
      "text/plain": [
       "10"
      ]
     },
     "execution_count": 29,
     "metadata": {},
     "output_type": "execute_result"
    }
   ],
   "source": [
    "a or b "
   ]
  },
  {
   "cell_type": "code",
   "execution_count": 31,
   "id": "34b910f8-0629-4c3f-bd92-794848b07528",
   "metadata": {},
   "outputs": [],
   "source": [
    "a = True \n",
    "b = False "
   ]
  },
  {
   "cell_type": "code",
   "execution_count": 32,
   "id": "7d54d350-a195-4c46-8860-05da5510c58a",
   "metadata": {},
   "outputs": [
    {
     "data": {
      "text/plain": [
       "False"
      ]
     },
     "execution_count": 32,
     "metadata": {},
     "output_type": "execute_result"
    }
   ],
   "source": [
    "a and b "
   ]
  },
  {
   "cell_type": "code",
   "execution_count": 33,
   "id": "a6fa7857-a049-440c-8346-ce4ba7d64f51",
   "metadata": {},
   "outputs": [
    {
     "data": {
      "text/plain": [
       "True"
      ]
     },
     "execution_count": 33,
     "metadata": {},
     "output_type": "execute_result"
    }
   ],
   "source": [
    "a or b"
   ]
  },
  {
   "cell_type": "code",
   "execution_count": 34,
   "id": "deb10a44-fbe7-480b-8f91-76ce95ccd406",
   "metadata": {},
   "outputs": [],
   "source": [
    "# identity"
   ]
  },
  {
   "cell_type": "code",
   "execution_count": 35,
   "id": "bd913188-39b7-4cac-84ca-6b85a77b6189",
   "metadata": {},
   "outputs": [],
   "source": [
    "# is , is not"
   ]
  },
  {
   "cell_type": "code",
   "execution_count": 36,
   "id": "b78d5085-0113-46f3-a810-190cd79a8d1e",
   "metadata": {},
   "outputs": [],
   "source": [
    "a = 3\n",
    "b = 3"
   ]
  },
  {
   "cell_type": "code",
   "execution_count": 37,
   "id": "fb9847f9-8862-4097-8e75-584600ca500b",
   "metadata": {},
   "outputs": [
    {
     "data": {
      "text/plain": [
       "True"
      ]
     },
     "execution_count": 37,
     "metadata": {},
     "output_type": "execute_result"
    }
   ],
   "source": [
    "a is b "
   ]
  },
  {
   "cell_type": "code",
   "execution_count": 38,
   "id": "a785c2ec-a315-43d1-b3b6-0ffee312b9c3",
   "metadata": {},
   "outputs": [
    {
     "data": {
      "text/plain": [
       "False"
      ]
     },
     "execution_count": 38,
     "metadata": {},
     "output_type": "execute_result"
    }
   ],
   "source": [
    "a is not b "
   ]
  },
  {
   "cell_type": "code",
   "execution_count": 39,
   "id": "75b9f8e6-ae80-4840-9f6e-30994b6d521d",
   "metadata": {},
   "outputs": [],
   "source": [
    "x = ( 1 ,2)\n",
    "y = (1, 2)"
   ]
  },
  {
   "cell_type": "code",
   "execution_count": 40,
   "id": "3fafc238-1760-4684-b746-4865da6fa6e0",
   "metadata": {},
   "outputs": [
    {
     "data": {
      "text/plain": [
       "False"
      ]
     },
     "execution_count": 40,
     "metadata": {},
     "output_type": "execute_result"
    }
   ],
   "source": [
    "x is y "
   ]
  },
  {
   "cell_type": "code",
   "execution_count": 41,
   "id": "9f0d02f1-8083-4205-8a9c-a7da098fec51",
   "metadata": {},
   "outputs": [
    {
     "data": {
      "text/plain": [
       "True"
      ]
     },
     "execution_count": 41,
     "metadata": {},
     "output_type": "execute_result"
    }
   ],
   "source": [
    "x == y "
   ]
  },
  {
   "cell_type": "code",
   "execution_count": 44,
   "id": "83d49c3e-7ccd-433d-a29f-8816e94b389c",
   "metadata": {},
   "outputs": [
    {
     "data": {
      "text/plain": [
       "(2109787873152, 2109757114432)"
      ]
     },
     "execution_count": 44,
     "metadata": {},
     "output_type": "execute_result"
    }
   ],
   "source": [
    "id(x) , id(y)"
   ]
  },
  {
   "cell_type": "code",
   "execution_count": 45,
   "id": "4ceb63c6-b3ff-49d7-a494-130a6bca37e6",
   "metadata": {},
   "outputs": [
    {
     "data": {
      "text/plain": [
       "140711475489272"
      ]
     },
     "execution_count": 45,
     "metadata": {},
     "output_type": "execute_result"
    }
   ],
   "source": [
    "id(a)\n",
    "id(b)"
   ]
  },
  {
   "cell_type": "code",
   "execution_count": 46,
   "id": "3c448761-006b-4d56-b1fd-ae990f66dca6",
   "metadata": {},
   "outputs": [
    {
     "data": {
      "text/plain": [
       "(140711475489272, 140711475489272)"
      ]
     },
     "execution_count": 46,
     "metadata": {},
     "output_type": "execute_result"
    }
   ],
   "source": [
    "id(a) , id(b)"
   ]
  },
  {
   "cell_type": "code",
   "execution_count": 47,
   "id": "744ba7ff-d558-41a6-9713-33695aa19e79",
   "metadata": {},
   "outputs": [],
   "source": [
    " z = x"
   ]
  },
  {
   "cell_type": "code",
   "execution_count": 48,
   "id": "b18af2ba-a576-49c6-b1eb-0fc695212a72",
   "metadata": {},
   "outputs": [
    {
     "data": {
      "text/plain": [
       "True"
      ]
     },
     "execution_count": 48,
     "metadata": {},
     "output_type": "execute_result"
    }
   ],
   "source": [
    " z is x"
   ]
  },
  {
   "cell_type": "code",
   "execution_count": 52,
   "id": "3e9adc59-2a29-4cae-a305-ad23def312a0",
   "metadata": {},
   "outputs": [
    {
     "data": {
      "text/plain": [
       "(2109787873152, 2109787873152)"
      ]
     },
     "execution_count": 52,
     "metadata": {},
     "output_type": "execute_result"
    }
   ],
   "source": [
    "id(x) ,id (z)"
   ]
  },
  {
   "cell_type": "code",
   "execution_count": 53,
   "id": "b2b78d56-04a4-415f-aaa6-ab7dc78192c8",
   "metadata": {},
   "outputs": [],
   "source": [
    "# in , in not \n"
   ]
  },
  {
   "cell_type": "code",
   "execution_count": 54,
   "id": "ed011072-0a15-4186-96cc-a989f2cc9f5d",
   "metadata": {},
   "outputs": [],
   "source": [
    "l = [12 , 13,10 ]"
   ]
  },
  {
   "cell_type": "code",
   "execution_count": 56,
   "id": "99a59a42-a1e0-41b1-aac1-74d4c732c018",
   "metadata": {},
   "outputs": [
    {
     "data": {
      "text/plain": [
       "True"
      ]
     },
     "execution_count": 56,
     "metadata": {},
     "output_type": "execute_result"
    }
   ],
   "source": [
    "10 in l"
   ]
  },
  {
   "cell_type": "code",
   "execution_count": 58,
   "id": "7b548cd2-edd3-4ab7-b61e-043b26af13a7",
   "metadata": {},
   "outputs": [
    {
     "data": {
      "text/plain": [
       "False"
      ]
     },
     "execution_count": 58,
     "metadata": {},
     "output_type": "execute_result"
    }
   ],
   "source": [
    "10  not in l"
   ]
  },
  {
   "cell_type": "code",
   "execution_count": 59,
   "id": "047d9504-4e70-4032-9542-b37403d5eabc",
   "metadata": {},
   "outputs": [
    {
     "data": {
      "text/plain": [
       "4"
      ]
     },
     "execution_count": 59,
     "metadata": {},
     "output_type": "execute_result"
    }
   ],
   "source": [
    "2 ** 2 ** 1 \n"
   ]
  },
  {
   "cell_type": "code",
   "execution_count": 60,
   "id": "0d6949a0-083d-4e24-b8fe-9eff18472434",
   "metadata": {},
   "outputs": [
    {
     "data": {
      "text/plain": [
       "16"
      ]
     },
     "execution_count": 60,
     "metadata": {},
     "output_type": "execute_result"
    }
   ],
   "source": [
    "2 << 2<< 1"
   ]
  },
  {
   "cell_type": "code",
   "execution_count": 61,
   "id": "10f44ee3-f01c-4598-a6b1-26290a83351a",
   "metadata": {},
   "outputs": [
    {
     "data": {
      "text/plain": [
       "256"
      ]
     },
     "execution_count": 61,
     "metadata": {},
     "output_type": "execute_result"
    }
   ],
   "source": [
    "2 ** 2 ** 3 "
   ]
  },
  {
   "cell_type": "code",
   "execution_count": 63,
   "id": "cead55d0-1527-47c5-9390-b15a03e57a98",
   "metadata": {},
   "outputs": [
    {
     "data": {
      "text/plain": [
       "4"
      ]
     },
     "execution_count": 63,
     "metadata": {},
     "output_type": "execute_result"
    }
   ],
   "source": [
    "2 ** 3 // 2"
   ]
  },
  {
   "cell_type": "code",
   "execution_count": 64,
   "id": "4a30b371-073b-4bda-86b8-d17490fb73d3",
   "metadata": {},
   "outputs": [],
   "source": [
    "# print function "
   ]
  },
  {
   "cell_type": "code",
   "execution_count": 65,
   "id": "29eb3b4c-0db3-4877-91c9-7481fa6365a2",
   "metadata": {},
   "outputs": [],
   "source": [
    "name = \"sia\"\n",
    "marks = 75"
   ]
  },
  {
   "cell_type": "code",
   "execution_count": 68,
   "id": "4c1dc85e-85d5-4d46-ad68-badfc460c31a",
   "metadata": {},
   "outputs": [
    {
     "data": {
      "text/plain": [
       "'my name issia'"
      ]
     },
     "execution_count": 68,
     "metadata": {},
     "output_type": "execute_result"
    }
   ],
   "source": [
    "\"my name is\" + name"
   ]
  },
  {
   "cell_type": "code",
   "execution_count": 74,
   "id": "302e1894-aa66-4eb5-93e2-8b06203ed1da",
   "metadata": {},
   "outputs": [
    {
     "name": "stdout",
     "output_type": "stream",
     "text": [
      "name is sia and marks is 75\n"
     ]
    }
   ],
   "source": [
    "print(\"name is\", name, \"and marks is\", marks)"
   ]
  },
  {
   "cell_type": "code",
   "execution_count": 75,
   "id": "d5403933-cd9b-4053-89c0-2f38be41eb29",
   "metadata": {},
   "outputs": [
    {
     "name": "stdout",
     "output_type": "stream",
     "text": [
      "Help on built-in function strip:\n",
      "\n",
      "strip(chars=None, /) method of builtins.str instance\n",
      "    Return a copy of the string with leading and trailing whitespace removed.\n",
      "\n",
      "    If chars is given and not None, remove characters in chars instead.\n",
      "\n"
     ]
    }
   ],
   "source": [
    "help(name.strip)"
   ]
  },
  {
   "cell_type": "code",
   "execution_count": 76,
   "id": "f00b33d6-4a0e-4a7a-8efd-8d97a30e9eff",
   "metadata": {},
   "outputs": [],
   "source": [
    "#ascii"
   ]
  },
  {
   "cell_type": "code",
   "execution_count": 77,
   "id": "f5362a73-711f-4534-a80f-08a8fd1eb260",
   "metadata": {},
   "outputs": [
    {
     "data": {
      "text/plain": [
       "97"
      ]
     },
     "execution_count": 77,
     "metadata": {},
     "output_type": "execute_result"
    }
   ],
   "source": [
    "ord(\"a\")"
   ]
  },
  {
   "cell_type": "code",
   "execution_count": 78,
   "id": "59f95ece-ef8b-44e7-a3fa-d2b7569528cc",
   "metadata": {},
   "outputs": [
    {
     "data": {
      "text/plain": [
       "50"
      ]
     },
     "execution_count": 78,
     "metadata": {},
     "output_type": "execute_result"
    }
   ],
   "source": [
    "ord(\"2\")"
   ]
  },
  {
   "cell_type": "code",
   "execution_count": 79,
   "id": "2eb17b61-7d3e-4127-867c-4fff61def60e",
   "metadata": {},
   "outputs": [
    {
     "data": {
      "text/plain": [
       "'r'"
      ]
     },
     "execution_count": 79,
     "metadata": {},
     "output_type": "execute_result"
    }
   ],
   "source": [
    "chr(114)"
   ]
  },
  {
   "cell_type": "code",
   "execution_count": 80,
   "id": "06bb8800-4797-4b0c-932b-3b3880d09b5c",
   "metadata": {},
   "outputs": [
    {
     "data": {
      "text/plain": [
       "'\\x07'"
      ]
     },
     "execution_count": 80,
     "metadata": {},
     "output_type": "execute_result"
    }
   ],
   "source": [
    "chr(7)"
   ]
  },
  {
   "cell_type": "code",
   "execution_count": 81,
   "id": "2f8e2c73-3d2a-459d-a7d9-5550b41db574",
   "metadata": {},
   "outputs": [
    {
     "data": {
      "text/plain": [
       "'ǈ'"
      ]
     },
     "execution_count": 81,
     "metadata": {},
     "output_type": "execute_result"
    }
   ],
   "source": [
    "chr(456)"
   ]
  },
  {
   "cell_type": "code",
   "execution_count": 82,
   "id": "d4a6ce44-7484-47aa-b71a-5d1d57f87a1b",
   "metadata": {},
   "outputs": [],
   "source": [
    "#typecasting"
   ]
  },
  {
   "cell_type": "code",
   "execution_count": 83,
   "id": "1534c41f-624a-4e10-8b67-b1bf0e727e51",
   "metadata": {},
   "outputs": [],
   "source": [
    "a = 12\n",
    "b = 23.45\n",
    "c = \"sia\""
   ]
  },
  {
   "cell_type": "code",
   "execution_count": 84,
   "id": "e2e8a2ba-5e6c-4ce2-80fb-8b36417ecd9f",
   "metadata": {},
   "outputs": [
    {
     "data": {
      "text/plain": [
       "12.0"
      ]
     },
     "execution_count": 84,
     "metadata": {},
     "output_type": "execute_result"
    }
   ],
   "source": [
    "float(a)"
   ]
  },
  {
   "cell_type": "code",
   "execution_count": 85,
   "id": "3a69b5f5-ff04-4225-aa95-5028eeae6237",
   "metadata": {},
   "outputs": [
    {
     "data": {
      "text/plain": [
       "23"
      ]
     },
     "execution_count": 85,
     "metadata": {},
     "output_type": "execute_result"
    }
   ],
   "source": [
    "int(b)\n"
   ]
  },
  {
   "cell_type": "code",
   "execution_count": 86,
   "id": "2df98ab6-9f6f-426e-b414-fa36393edada",
   "metadata": {},
   "outputs": [
    {
     "data": {
      "text/plain": [
       "'23.45'"
      ]
     },
     "execution_count": 86,
     "metadata": {},
     "output_type": "execute_result"
    }
   ],
   "source": [
    "str(b)"
   ]
  },
  {
   "cell_type": "code",
   "execution_count": 88,
   "id": "fa728f8c-7360-46c2-8f04-e4ae45f16813",
   "metadata": {},
   "outputs": [
    {
     "data": {
      "text/plain": [
       "'12'"
      ]
     },
     "execution_count": 88,
     "metadata": {},
     "output_type": "execute_result"
    }
   ],
   "source": [
    "str(a)"
   ]
  },
  {
   "cell_type": "code",
   "execution_count": 89,
   "id": "b540e824-09cc-42ca-b2e8-2140e0c877e7",
   "metadata": {},
   "outputs": [
    {
     "data": {
      "text/plain": [
       "'23.45'"
      ]
     },
     "execution_count": 89,
     "metadata": {},
     "output_type": "execute_result"
    }
   ],
   "source": [
    "str(b)"
   ]
  },
  {
   "cell_type": "code",
   "execution_count": 90,
   "id": "d6675e41-4bbc-45ed-8814-83648c33aa1c",
   "metadata": {},
   "outputs": [],
   "source": [
    "# user input"
   ]
  },
  {
   "cell_type": "code",
   "execution_count": 91,
   "id": "d7f411d9-11a3-48eb-a6ee-fa31a6a14245",
   "metadata": {},
   "outputs": [
    {
     "name": "stdout",
     "output_type": "stream",
     "text": [
      "30\n"
     ]
    }
   ],
   "source": [
    "a = 10\n",
    "b = 20\n",
    "\n",
    "res = a+b\n",
    "print(res)"
   ]
  },
  {
   "cell_type": "code",
   "execution_count": 94,
   "id": "22c32ce7-ddfa-4b01-a727-845fb46b499b",
   "metadata": {},
   "outputs": [
    {
     "name": "stdin",
     "output_type": "stream",
     "text": [
      "enter the no 10\n",
      " enter the sec no 20\n"
     ]
    },
    {
     "name": "stdout",
     "output_type": "stream",
     "text": [
      "30\n"
     ]
    }
   ],
   "source": [
    "a = int(input(\"enter the no\"))\n",
    "b = int(input (\" enter the sec no\"))\n",
    "\n",
    "res = a + b \n",
    "print(res)"
   ]
  },
  {
   "cell_type": "code",
   "execution_count": 104,
   "id": "1bacd7eb-6d80-48e5-80d2-01a4ac6b8183",
   "metadata": {},
   "outputs": [
    {
     "name": "stdin",
     "output_type": "stream",
     "text": [
      "enter the sec timing 124\n"
     ]
    },
    {
     "name": "stdout",
     "output_type": "stream",
     "text": [
      "0 : 2 : 2\n"
     ]
    }
   ],
   "source": [
    "sec = int(input(\"enter the sec timing\"))\n",
    "hr = sec//3600\n",
    "mins = (sec%3600)//60\n",
    "sec1=(sec%3600)//60\n",
    "print(hr,\":\",mins,\":\",sec1)"
   ]
  },
  {
   "cell_type": "code",
   "execution_count": 103,
   "id": "a96028f5-b56c-45a3-8384-5596dc83af49",
   "metadata": {},
   "outputs": [
    {
     "name": "stdin",
     "output_type": "stream",
     "text": [
      "enter the sec timing 124\n"
     ]
    },
    {
     "name": "stdout",
     "output_type": "stream",
     "text": [
      "0 : 2 : 2\n"
     ]
    }
   ],
   "source": [
    "sec = int(input(\"enter the sec timing\"))\n",
    "hr = sec//3600\n",
    "mins = sec//60\n",
    "sec1=sec//60\n",
    "print(hr,\":\",mins,\":\",sec1)"
   ]
  },
  {
   "cell_type": "code",
   "execution_count": null,
   "id": "41e8a03c-b9c1-4c4d-9a46-508fa311f0b4",
   "metadata": {},
   "outputs": [],
   "source": [
    "# pdf programs "
   ]
  },
  {
   "cell_type": "code",
   "execution_count": 105,
   "id": "7b609c76-03e8-465f-b586-3fd01ed20328",
   "metadata": {},
   "outputs": [
    {
     "name": "stdout",
     "output_type": "stream",
     "text": [
      "Welcome to Python Programming!\n"
     ]
    }
   ],
   "source": [
    "print(\"Welcome to Python Programming!\")\n",
    "#print() function print the statement mentioned in braket"
   ]
  },
  {
   "cell_type": "code",
   "execution_count": 106,
   "id": "4501f9fb-8a9e-47ff-9ca4-210e15526677",
   "metadata": {},
   "outputs": [],
   "source": [
    "is_member = True\n",
    "has_discount = False\n"
   ]
  },
  {
   "cell_type": "code",
   "execution_count": 111,
   "id": "f43633d0-ac57-42f2-990e-197dd401e1fc",
   "metadata": {},
   "outputs": [
    {
     "data": {
      "text/plain": [
       "False"
      ]
     },
     "execution_count": 111,
     "metadata": {},
     "output_type": "execute_result"
    }
   ],
   "source": [
    "is_member and has_discount\n",
    "#returns true if both are true"
   ]
  },
  {
   "cell_type": "code",
   "execution_count": 112,
   "id": "e6d0ae63-cbfc-4d79-8b46-781f28123279",
   "metadata": {},
   "outputs": [
    {
     "data": {
      "text/plain": [
       "True"
      ]
     },
     "execution_count": 112,
     "metadata": {},
     "output_type": "execute_result"
    }
   ],
   "source": [
    "is_member or has_discount\n",
    "#returns true if either one is true"
   ]
  },
  {
   "cell_type": "code",
   "execution_count": 113,
   "id": "0b6d0aa9-78fc-4b6e-ad8f-ab3e0efe7934",
   "metadata": {},
   "outputs": [
    {
     "data": {
      "text/plain": [
       "True"
      ]
     },
     "execution_count": 113,
     "metadata": {},
     "output_type": "execute_result"
    }
   ],
   "source": [
    "is_member and not has_discount\n",
    "#returns true if false"
   ]
  },
  {
   "cell_type": "code",
   "execution_count": 121,
   "id": "93d39755-a9f1-4c97-86d5-67b9d6b55094",
   "metadata": {},
   "outputs": [
    {
     "name": "stdout",
     "output_type": "stream",
     "text": [
      "You have purchased 2 units of pencil at 10.0 each.\n"
     ]
    }
   ],
   "source": [
    "product_name = \"pencil\"\n",
    "quantity = 2  \n",
    "unit_price = 10.00\n",
    "print(\"You have purchased\", quantity, \"units of\", product_name, \"at\", unit_price, \"each.\")"
   ]
  },
  {
   "cell_type": "code",
   "execution_count": 122,
   "id": "96defea4-06be-4e3e-a4a2-35e21e7aefed",
   "metadata": {},
   "outputs": [
    {
     "name": "stdout",
     "output_type": "stream",
     "text": [
      "True\n"
     ]
    }
   ],
   "source": [
    "is_active_user = True\n",
    "print(is_active_user)"
   ]
  },
  {
   "cell_type": "code",
   "execution_count": 123,
   "id": "efb24bcd-bc72-4d7a-bbaf-4922e570af04",
   "metadata": {},
   "outputs": [],
   "source": [
    "#5"
   ]
  },
  {
   "cell_type": "code",
   "execution_count": 124,
   "id": "581aee35-7179-4470-85db-341da6189e5c",
   "metadata": {},
   "outputs": [
    {
     "name": "stdin",
     "output_type": "stream",
     "text": [
      "enter the length for rectangle 4\n",
      "enter the width for rectangle  5\n"
     ]
    },
    {
     "name": "stdout",
     "output_type": "stream",
     "text": [
      "area of rectangle is  20\n"
     ]
    }
   ],
   "source": [
    "length = int(input(\"enter the length for rectangle\"))\n",
    "width = int(input(\"enter the width for rectangle \"))\n",
    "area = length * width \n",
    "print(\"area of rectangle is \",area)"
   ]
  },
  {
   "cell_type": "code",
   "execution_count": 125,
   "id": "de5dfe91-c367-4b9e-9af8-0dcf598966c9",
   "metadata": {},
   "outputs": [],
   "source": [
    "#6\n"
   ]
  },
  {
   "cell_type": "code",
   "execution_count": 129,
   "id": "51e4e8e4-d545-45d4-afb6-b046a06a0604",
   "metadata": {},
   "outputs": [
    {
     "name": "stdout",
     "output_type": "stream",
     "text": [
      "True\n"
     ]
    }
   ],
   "source": [
    " initial_balance = 1000\n",
    "initial_balance = initial_balance + 250\n",
    "initial_balance1 = initial_balance % 2\n",
    "result = initial_balance1 < 600\n",
    "print(result)"
   ]
  },
  {
   "cell_type": "code",
   "execution_count": null,
   "id": "c2247b5b-971d-4483-a74d-533b445cd2b3",
   "metadata": {},
   "outputs": [],
   "source": [
    "#7"
   ]
  },
  {
   "cell_type": "code",
   "execution_count": 3,
   "id": "b65a5c27-e19f-498e-8b2a-7f8104117a22",
   "metadata": {},
   "outputs": [
    {
     "name": "stdout",
     "output_type": "stream",
     "text": [
      "The result of the expression 15 - 4 * 3 + 9 / 3 is: 6.0\n"
     ]
    }
   ],
   "source": [
    "# Step 1: Evaluate multiplication (*) and division (/), from left to right.\n",
    "# 4 * 3 = 12\n",
    "# 9 / 3 = 3.0 \n",
    "\n",
    "# Step 2: Substitute the results back into the expression:\n",
    "# 15 - 12 + 3.0\n",
    "\n",
    "# Step 3: Evaluate addition (+) and subtraction (-).\n",
    "# 15 - 12 = 3\n",
    "# 3 + 3.0 = 6.0 \n",
    "\n",
    "# Final result: 6.0\n",
    "\n",
    "result = 15 - 4 * 3 + 9 / 3\n",
    "\n",
    "# Print the final result\n",
    "print(\"The result of the expression 15 - 4 * 3 + 9 / 3 is:\", result)"
   ]
  },
  {
   "cell_type": "code",
   "execution_count": null,
   "id": "cc138d0d-6774-4482-94fc-f49e7dfc80ae",
   "metadata": {},
   "outputs": [],
   "source": [
    "#9"
   ]
  },
  {
   "cell_type": "code",
   "execution_count": 5,
   "id": "609d7d01-b6b1-49a2-a8b9-bc3902e0b0af",
   "metadata": {},
   "outputs": [
    {
     "name": "stdin",
     "output_type": "stream",
     "text": [
      "enter your favourite colour : lilac\n"
     ]
    },
    {
     "name": "stdout",
     "output_type": "stream",
     "text": [
      "Your favorite color is: lilac\n"
     ]
    }
   ],
   "source": [
    "fvrt_color = input(\"enter your favourite colour :\")\n",
    "print( \"Your favorite color is:\" , fvrt_color)"
   ]
  },
  {
   "cell_type": "code",
   "execution_count": 6,
   "id": "c01ae9e3-a08e-4405-8e28-daf4299b4eab",
   "metadata": {},
   "outputs": [],
   "source": [
    "#10"
   ]
  },
  {
   "cell_type": "code",
   "execution_count": 9,
   "id": "81964cf8-72b0-4543-bf4b-e93b4d188672",
   "metadata": {},
   "outputs": [
    {
     "name": "stdin",
     "output_type": "stream",
     "text": [
      "enter your first name : s\n",
      "enter your last name: j\n",
      "enter your phone number: 18268108\n"
     ]
    },
    {
     "name": "stdout",
     "output_type": "stream",
     "text": [
      "Contact information saved for: s j Phone: 18268108\n"
     ]
    }
   ],
   "source": [
    "first_name = input(\"enter your first name :\")\n",
    "sec_name = input(\"enter your last name:\")\n",
    "phone_no = input(\"enter your phone number:\")\n",
    "print( \"Contact information saved for:\" ,first_name,\n",
    "sec_name ,\" | Phone:\", phone_no)"
   ]
  },
  {
   "cell_type": "code",
   "execution_count": null,
   "id": "7e480052-35d7-4ddd-a2f5-ca66b0566088",
   "metadata": {},
   "outputs": [],
   "source": []
  }
 ],
 "metadata": {
  "kernelspec": {
   "display_name": "Python [conda env:base] *",
   "language": "python",
   "name": "conda-base-py"
  },
  "language_info": {
   "codemirror_mode": {
    "name": "ipython",
    "version": 3
   },
   "file_extension": ".py",
   "mimetype": "text/x-python",
   "name": "python",
   "nbconvert_exporter": "python",
   "pygments_lexer": "ipython3",
   "version": "3.12.7"
  }
 },
 "nbformat": 4,
 "nbformat_minor": 5
}
