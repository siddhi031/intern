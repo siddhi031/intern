{
 "cells": [
  {
   "cell_type": "code",
   "execution_count": 1,
   "id": "24e4013d-80da-416a-b12f-0331f2c1f28b",
   "metadata": {},
   "outputs": [],
   "source": [
    "# check if the no is greater than 50 or not "
   ]
  },
  {
   "cell_type": "code",
   "execution_count": 5,
   "id": "2f0874ee-5197-4c07-b2b5-4a7aee1bed1b",
   "metadata": {},
   "outputs": [
    {
     "name": "stdin",
     "output_type": "stream",
     "text": [
      "enter the no : 90\n"
     ]
    },
    {
     "name": "stdout",
     "output_type": "stream",
     "text": [
      "ok\n"
     ]
    }
   ],
   "source": [
    "num = int(input(\"enter the no :\"))\n",
    "if num > 50:\n",
    "    print(\"ok\")"
   ]
  },
  {
   "cell_type": "code",
   "execution_count": 3,
   "id": "af053c25-436c-4555-9a08-a25bf534e525",
   "metadata": {},
   "outputs": [
    {
     "name": "stdin",
     "output_type": "stream",
     "text": [
      "enter the no : 5\n"
     ]
    },
    {
     "name": "stdout",
     "output_type": "stream",
     "text": [
      "no is smaller than no\n"
     ]
    }
   ],
   "source": [
    "num = int(input(\"enter the no :\"))\n",
    "if num > 50:\n",
    "    print(\"ok\")\n",
    "else:\n",
    "    print(\"no is smaller than no\")"
   ]
  },
  {
   "cell_type": "code",
   "execution_count": 6,
   "id": "b6bed0b5-8f58-4a4f-ab1a-0d80c9e659f3",
   "metadata": {},
   "outputs": [],
   "source": [
    "# check no is positive or negative"
   ]
  },
  {
   "cell_type": "code",
   "execution_count": 11,
   "id": "73178c4c-d3a2-4da0-94e5-f2a64b5e62ae",
   "metadata": {},
   "outputs": [
    {
     "name": "stdin",
     "output_type": "stream",
     "text": [
      "enter the no : 0\n"
     ]
    },
    {
     "name": "stdout",
     "output_type": "stream",
     "text": [
      "negative\n",
      "not ok!\n"
     ]
    }
   ],
   "source": [
    "num = int(input(\"enter the no :\"))\n",
    "if num > 0:\n",
    "    print(\"positive\")\n",
    "    print(\"ok!\")\n",
    "else:\n",
    "    print(\"negative\")\n",
    "    print(\"not ok!\")"
   ]
  },
  {
   "cell_type": "code",
   "execution_count": null,
   "id": "acdf5873-5347-4e0b-aa9e-5e9682ce1e23",
   "metadata": {},
   "outputs": [],
   "source": [
    "# elif statement"
   ]
  },
  {
   "cell_type": "code",
   "execution_count": 16,
   "id": "5ea71985-5857-4d23-a173-7dd80ad32121",
   "metadata": {},
   "outputs": [
    {
     "name": "stdin",
     "output_type": "stream",
     "text": [
      "enter the no : -5\n"
     ]
    },
    {
     "name": "stdout",
     "output_type": "stream",
     "text": [
      "negative\n",
      "not ok!\n"
     ]
    }
   ],
   "source": [
    "num = int(input(\"enter the no :\"))\n",
    "if num > 0:\n",
    "    print(\"positive\")\n",
    "    print(\"ok!\")\n",
    "elif num == 0:\n",
    "    print(\"zero\")\n",
    "else:\n",
    "    print(\"negative\")\n",
    "    print(\"not ok!\")"
   ]
  },
  {
   "cell_type": "code",
   "execution_count": 18,
   "id": "0129cd90-a553-4db5-b6f4-09214f19d509",
   "metadata": {},
   "outputs": [],
   "source": [
    "# check if no is even or odd"
   ]
  },
  {
   "cell_type": "code",
   "execution_count": 19,
   "id": "0b040500-a4c4-48c8-9e08-85b092ecf187",
   "metadata": {},
   "outputs": [
    {
     "name": "stdin",
     "output_type": "stream",
     "text": [
      "enter the no : 4\n"
     ]
    },
    {
     "name": "stdout",
     "output_type": "stream",
     "text": [
      "even\n",
      "ok!\n"
     ]
    }
   ],
   "source": [
    "num = int(input(\"enter the no :\"))\n",
    "if num % 2 ==0:\n",
    "    print(\"even\")\n",
    "    print(\"ok!\")\n",
    "else:\n",
    "    print(\"odd\")\n",
    "    print(\"not ok!\")"
   ]
  },
  {
   "cell_type": "code",
   "execution_count": 20,
   "id": "ec05602f-0c85-43b0-9b52-303dab9a402f",
   "metadata": {},
   "outputs": [
    {
     "data": {
      "text/plain": [
       "1"
      ]
     },
     "execution_count": 20,
     "metadata": {},
     "output_type": "execute_result"
    }
   ],
   "source": [
    "int(True)"
   ]
  },
  {
   "cell_type": "code",
   "execution_count": 21,
   "id": "bf6247ff-23a4-4811-a418-5c41dea8fa76",
   "metadata": {},
   "outputs": [
    {
     "data": {
      "text/plain": [
       "0"
      ]
     },
     "execution_count": 21,
     "metadata": {},
     "output_type": "execute_result"
    }
   ],
   "source": [
    "int(False)"
   ]
  },
  {
   "cell_type": "code",
   "execution_count": 22,
   "id": "7c70419e-44bd-4f01-9ceb-309fadb6e818",
   "metadata": {},
   "outputs": [
    {
     "data": {
      "text/plain": [
       "2"
      ]
     },
     "execution_count": 22,
     "metadata": {},
     "output_type": "execute_result"
    }
   ],
   "source": [
    "True + True "
   ]
  },
  {
   "cell_type": "code",
   "execution_count": 23,
   "id": "c9536e3d-ab3e-4a69-9a9c-ae44a64a1422",
   "metadata": {},
   "outputs": [
    {
     "name": "stdout",
     "output_type": "stream",
     "text": [
      "exists\n"
     ]
    }
   ],
   "source": [
    "a = 20\n",
    "if a:\n",
    "    print(\"exists\")"
   ]
  },
  {
   "cell_type": "code",
   "execution_count": 34,
   "id": "774cb15a-683b-42ff-8958-f0ea996c6daa",
   "metadata": {},
   "outputs": [],
   "source": [
    "# check using nested if if no is between 50 and 100 "
   ]
  },
  {
   "cell_type": "code",
   "execution_count": 33,
   "id": "be98ab52-1ad3-4462-9a01-8db16b772a1c",
   "metadata": {},
   "outputs": [
    {
     "name": "stdin",
     "output_type": "stream",
     "text": [
      "enter the no: 10\n"
     ]
    },
    {
     "name": "stdout",
     "output_type": "stream",
     "text": [
      "less than 50\n"
     ]
    }
   ],
   "source": [
    "num = int(input(\"enter the no:\"))\n",
    "if num > 50:\n",
    "    if num < 100:\n",
    "       print (\"no is betwen 50 and 100\")\n",
    "    else:\n",
    "       print(\"not between 50 and 100\")\n",
    "else:\n",
    "    print (\"less than 50\")\n",
    "    "
   ]
  },
  {
   "cell_type": "code",
   "execution_count": 35,
   "id": "668918a3-465a-49c7-8e4f-3dd2864e0bd6",
   "metadata": {},
   "outputs": [],
   "source": [
    "# read the purchase and selling cost from user\n",
    "# find the profit and loss and how much "
   ]
  },
  {
   "cell_type": "code",
   "execution_count": 39,
   "id": "111e7ec0-5a26-4462-87ac-48a15570246e",
   "metadata": {},
   "outputs": [
    {
     "name": "stdin",
     "output_type": "stream",
     "text": [
      "enter the purchase cost of product: 89\n",
      "enter the selling cost of product: 90\n"
     ]
    },
    {
     "name": "stdout",
     "output_type": "stream",
     "text": [
      "profit of  1\n"
     ]
    }
   ],
   "source": [
    "purchase_cost = int(input(\"enter the purchase cost of product:\"))\n",
    "selling_cost = int(input(\"enter the selling cost of product:\"))  \n",
    "if selling_cost > purchase_cost:\n",
    "    print(\"profit of \", (selling_cost - purchase_cost))\n",
    "else:\n",
    "    print(\"your loss on product is\", (purchase_cost - selling_cost))"
   ]
  },
  {
   "cell_type": "code",
   "execution_count": 40,
   "id": "f52b0035-9021-41c5-9032-cea19881d083",
   "metadata": {},
   "outputs": [],
   "source": [
    "#read 3 num and find the largest \n",
    "# use nested if only"
   ]
  },
  {
   "cell_type": "code",
   "execution_count": 78,
   "id": "ad0f4bfd-6500-4b4b-ba0f-c8ec4bf35031",
   "metadata": {},
   "outputs": [
    {
     "name": "stdin",
     "output_type": "stream",
     "text": [
      "Enter the first number:  5\n",
      "Enter the second number:  9\n",
      "Enter the third number:  10\n"
     ]
    },
    {
     "name": "stdout",
     "output_type": "stream",
     "text": [
      "largest third no is : 10.0\n"
     ]
    }
   ],
   "source": [
    "\n",
    "num1 = float(input(\"Enter the first number: \"))\n",
    "num2 = float(input(\"Enter the second number: \"))\n",
    "num3 = float(input(\"Enter the third number: \"))\n",
    "\n",
    "# Find the largest using nested if statements\n",
    "if num1 > num2:\n",
    "    if num1 > num3:\n",
    "       print(\" largest is first no:\", num1)\n",
    "    else:\n",
    "       print(\" largest is third no:\",num3)\n",
    "else:\n",
    "     if num2 >  num3:\n",
    "         print(\"largest is sec no :\",num2)\n",
    "     else:\n",
    "         print(\"largest third no is :\",num3)\n"
   ]
  },
  {
   "cell_type": "code",
   "execution_count": 49,
   "id": "78607571-2271-481e-af55-adfd4254e2f5",
   "metadata": {},
   "outputs": [],
   "source": [
    "# 2020 == leap\n",
    "# 2017 == not leap\n",
    "# 2000 == leap\n",
    "#1900 == not leap \n",
    "# use nested if "
   ]
  },
  {
   "cell_type": "code",
   "execution_count": 55,
   "id": "9257261c-8dd7-4424-bfc1-1bb8bab9785c",
   "metadata": {},
   "outputs": [
    {
     "name": "stdin",
     "output_type": "stream",
     "text": [
      "Enter a year:  2000\n"
     ]
    },
    {
     "name": "stdout",
     "output_type": "stream",
     "text": [
      "2000 is a leap century year.\n"
     ]
    }
   ],
   "source": [
    " # Check if a year is a leap year\n",
    "year = int(input(\"Enter a year: \"))\n",
    "\n",
    "if year % 4 == 0:\n",
    "    if year % 100 == 0:\n",
    "        if year % 400 == 0:\n",
    "            print(year ,\"is a leap century year.\")\n",
    "        else:\n",
    "            print(year,\"is not a leap year.\")\n",
    "    else:\n",
    "        print(year,\"is leap year.\")      \n",
    "else:\n",
    "    print(year ,\"is not a leap year.\")\n"
   ]
  },
  {
   "cell_type": "code",
   "execution_count": 56,
   "id": "7fa44bbb-fcfb-4289-af6d-0a71175c3bb8",
   "metadata": {},
   "outputs": [],
   "source": [
    "#grade according to marks\n",
    "# take marks for phy, chem,maths\n",
    "# if avg marks > 90 == dist, 70 to 80 == a,60 TO 70 == B,50 to 60==C\n",
    "#< 50 == fail "
   ]
  },
  {
   "cell_type": "code",
   "execution_count": 66,
   "id": "e2aa537e-45d4-4929-a462-498ad9fe3c18",
   "metadata": {},
   "outputs": [
    {
     "name": "stdin",
     "output_type": "stream",
     "text": [
      "Enter a physic marks:  67\n",
      "Enter a chemistry marks:  90\n",
      "Enter a maths marks:  78\n"
     ]
    },
    {
     "name": "stdout",
     "output_type": "stream",
     "text": [
      "A\n"
     ]
    }
   ],
   "source": [
    "phy_mrk = int(input(\"Enter a physic marks: \"))\n",
    "chemistry_mrk = int(input(\"Enter a chemistry marks: \"))\n",
    "maths_mrk = int(input(\"Enter a maths marks: \"))\n",
    "avg = (phy_mrk + chemistry_mrk + maths_mrk )// 3\n",
    "if avg == 90:\n",
    "    print(\"distinction\")\n",
    "elif 70<avg<80:\n",
    "     print(\"A\")\n",
    "elif 60<avg<70:\n",
    "     print(\"B\")\n",
    "elif 50<avg<60:\n",
    "     print(\"C\")\n",
    "elif avg<50:\n",
    "     print(\"D\")\n",
    "else:\n",
    "    print(\"fail\")\n",
    "\n",
    "    "
   ]
  },
  {
   "cell_type": "code",
   "execution_count": 67,
   "id": "790b8da5-eb4a-4355-a1c4-80f2b8048372",
   "metadata": {},
   "outputs": [],
   "source": [
    "# menu driven program"
   ]
  },
  {
   "cell_type": "code",
   "execution_count": 69,
   "id": "77ff2c98-dc87-4450-aec1-6f342f262a24",
   "metadata": {},
   "outputs": [
    {
     "name": "stdout",
     "output_type": "stream",
     "text": [
      "welcome !\n"
     ]
    },
    {
     "name": "stdin",
     "output_type": "stream",
     "text": [
      "enter the number: 9\n"
     ]
    },
    {
     "name": "stdout",
     "output_type": "stream",
     "text": [
      "menu<< \n",
      "1 square\n",
      "2  cube\n",
      "3 positive\n",
      "4 negative\n"
     ]
    },
    {
     "name": "stdin",
     "output_type": "stream",
     "text": [
      "enter your choice: 3\n"
     ]
    },
    {
     "name": "stdout",
     "output_type": "stream",
     "text": [
      "no is positive\n"
     ]
    }
   ],
   "source": [
    "print(\"welcome !\")\n",
    "num = int(input(\"enter the number:\"))\n",
    "print(\"menu<< \\n1 square\\n2  cube\\n3 positive\\n4 negative\")\n",
    "\n",
    "ch = int(input(\"enter your choice:\"))\n",
    "\n",
    "if ch==1:\n",
    "    print(\"square is:\",num**2)\n",
    "elif ch == 2:\n",
    "       print(\"cube is :\", num**3)\n",
    "elif ch == 3:\n",
    "    if num>0:\n",
    "        print(\"no is positive\")\n",
    "elif ch ==4:\n",
    "    if num<0:\n",
    "        print(\"negative\")\n",
    "else:\n",
    "     print(\"invalid choice\")"
   ]
  },
  {
   "cell_type": "code",
   "execution_count": 70,
   "id": "bbba08d7-50e6-4313-b21d-25f688c66116",
   "metadata": {},
   "outputs": [],
   "source": [
    "# problem statement if else"
   ]
  },
  {
   "cell_type": "code",
   "execution_count": 82,
   "id": "ba2760f0-02b0-45a8-9064-133571fc6d64",
   "metadata": {},
   "outputs": [],
   "source": [
    "#1to find maximum between two number"
   ]
  },
  {
   "cell_type": "code",
   "execution_count": 75,
   "id": "87206acd-182e-46cc-86de-1faf6b50bc96",
   "metadata": {},
   "outputs": [
    {
     "name": "stdin",
     "output_type": "stream",
     "text": [
      "enter the first number: 6\n",
      "enter the second number: 9\n"
     ]
    },
    {
     "name": "stdout",
     "output_type": "stream",
     "text": [
      " second number is maximum:\n"
     ]
    }
   ],
   "source": [
    "num1 = int(input(\"enter the first number:\"))\n",
    "num2 = int(input(\"enter the second number:\"))\n",
    "if num1 < num2:\n",
    "   print(\" second number is maximum:\")\n",
    "else:\n",
    "   print(\"first number is maximum\")"
   ]
  },
  {
   "cell_type": "code",
   "execution_count": 83,
   "id": "7c36d3ba-10fe-4ba6-9e1a-77c97bd5fb30",
   "metadata": {},
   "outputs": [],
   "source": [
    "# 2 check whether the no is negative ,positive , zero "
   ]
  },
  {
   "cell_type": "code",
   "execution_count": 76,
   "id": "138bce49-e01c-4ec6-9faf-ce378d9ae560",
   "metadata": {},
   "outputs": [
    {
     "name": "stdin",
     "output_type": "stream",
     "text": [
      "enter the no : 6\n"
     ]
    },
    {
     "name": "stdout",
     "output_type": "stream",
     "text": [
      "positive\n",
      "ok!\n"
     ]
    }
   ],
   "source": [
    "num = int(input(\"enter the no :\"))\n",
    "if num > 0:\n",
    "    print(\"positive\")\n",
    "    print(\"ok!\")\n",
    "elif num == 0:\n",
    "    print(\"zero\")\n",
    "else:\n",
    "    print(\"negative\")\n",
    "    print(\"not ok!\")"
   ]
  },
  {
   "cell_type": "code",
   "execution_count": 81,
   "id": "4200526f-d4ed-4365-9088-0c839bf4e267",
   "metadata": {},
   "outputs": [],
   "source": [
    "# 2  maximum of three no "
   ]
  },
  {
   "cell_type": "code",
   "execution_count": 80,
   "id": "8a58f2bc-d80c-4608-9dc8-8d8c70beb5ac",
   "metadata": {},
   "outputs": [
    {
     "name": "stdin",
     "output_type": "stream",
     "text": [
      "Enter the first number:  34\n",
      "Enter the second number:  9\n",
      "Enter the third number:  78\n"
     ]
    },
    {
     "name": "stdout",
     "output_type": "stream",
     "text": [
      " maximum is third no: 78\n"
     ]
    }
   ],
   "source": [
    "num1 = int(input(\"Enter the first number: \"))\n",
    "num2 = int(input(\"Enter the second number: \"))\n",
    "num3 = int(input(\"Enter the third number: \"))\n",
    "\n",
    "if num1 > num2:\n",
    "    if num1 > num3:\n",
    "       print(\" maximumi s first no:\", num1)\n",
    "    else:\n",
    "       print(\" maximum is third no:\",num3)\n",
    "else:\n",
    "     if num2 >  num3:\n",
    "         print(\"maximum is sec no :\",num2)\n",
    "     else:\n",
    "         print(\"maximum third no is :\",num3)"
   ]
  },
  {
   "cell_type": "code",
   "execution_count": null,
   "id": "0530e658-572f-4745-8a9b-8213d50a75d3",
   "metadata": {},
   "outputs": [],
   "source": []
  }
 ],
 "metadata": {
  "kernelspec": {
   "display_name": "Python [conda env:base] *",
   "language": "python",
   "name": "conda-base-py"
  },
  "language_info": {
   "codemirror_mode": {
    "name": "ipython",
    "version": 3
   },
   "file_extension": ".py",
   "mimetype": "text/x-python",
   "name": "python",
   "nbconvert_exporter": "python",
   "pygments_lexer": "ipython3",
   "version": "3.12.7"
  }
 },
 "nbformat": 4,
 "nbformat_minor": 5
}
