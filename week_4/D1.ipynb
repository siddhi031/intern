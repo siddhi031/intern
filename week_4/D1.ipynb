{
 "cells": [
  {
   "cell_type": "markdown",
   "id": "6c75af34-91fb-409e-b592-5e156458a495",
   "metadata": {},
   "source": [
    "## numerical python"
   ]
  },
  {
   "cell_type": "code",
   "execution_count": 1,
   "id": "14dda42d-3660-4a82-b8ef-e49bfbcf48d5",
   "metadata": {},
   "outputs": [],
   "source": [
    "import numpy as np"
   ]
  },
  {
   "cell_type": "code",
   "execution_count": 2,
   "id": "d0d0293a-121f-413b-a470-d6a77672b966",
   "metadata": {},
   "outputs": [],
   "source": [
    "arr = np.array([23,45,67,89])"
   ]
  },
  {
   "cell_type": "code",
   "execution_count": 3,
   "id": "1c6c98b9-b995-47b2-aee7-9641600d176f",
   "metadata": {},
   "outputs": [
    {
     "name": "stdout",
     "output_type": "stream",
     "text": [
      "[23 45 67 89]\n"
     ]
    }
   ],
   "source": [
    "print (arr)"
   ]
  },
  {
   "cell_type": "code",
   "execution_count": 4,
   "id": "d6633979-8236-4d9d-a468-7254377ebba7",
   "metadata": {},
   "outputs": [
    {
     "data": {
      "text/plain": [
       "array([23, 45, 67, 89])"
      ]
     },
     "execution_count": 4,
     "metadata": {},
     "output_type": "execute_result"
    }
   ],
   "source": [
    "arr"
   ]
  },
  {
   "cell_type": "code",
   "execution_count": 5,
   "id": "3dcfcb26-fc8f-49dd-83a9-0b56740de5c1",
   "metadata": {},
   "outputs": [
    {
     "data": {
      "text/plain": [
       "numpy.ndarray"
      ]
     },
     "execution_count": 5,
     "metadata": {},
     "output_type": "execute_result"
    }
   ],
   "source": [
    "type(arr)"
   ]
  },
  {
   "cell_type": "code",
   "execution_count": 6,
   "id": "746f89ef-c09a-48ce-981b-9c439d46c578",
   "metadata": {},
   "outputs": [
    {
     "data": {
      "text/plain": [
       "67"
      ]
     },
     "execution_count": 6,
     "metadata": {},
     "output_type": "execute_result"
    }
   ],
   "source": [
    "arr[2]"
   ]
  },
  {
   "cell_type": "code",
   "execution_count": 7,
   "id": "a087d20c-680a-44f8-874e-b8be2ed2fc0f",
   "metadata": {},
   "outputs": [],
   "source": [
    "arr[1]=32"
   ]
  },
  {
   "cell_type": "code",
   "execution_count": 8,
   "id": "42e93772-b082-4c25-bfc6-9ae447188779",
   "metadata": {},
   "outputs": [
    {
     "data": {
      "text/plain": [
       "32"
      ]
     },
     "execution_count": 8,
     "metadata": {},
     "output_type": "execute_result"
    }
   ],
   "source": [
    "arr[1]"
   ]
  },
  {
   "cell_type": "code",
   "execution_count": 9,
   "id": "fd4d7f2e-780f-4608-9e1a-945364a7d507",
   "metadata": {},
   "outputs": [
    {
     "data": {
      "text/plain": [
       "array([23, 32, 67, 89])"
      ]
     },
     "execution_count": 9,
     "metadata": {},
     "output_type": "execute_result"
    }
   ],
   "source": [
    "arr"
   ]
  },
  {
   "cell_type": "code",
   "execution_count": 10,
   "id": "e2ac76ba-8b5e-4966-bf53-e213c2ad23a1",
   "metadata": {},
   "outputs": [],
   "source": [
    "arr[3]=32"
   ]
  },
  {
   "cell_type": "code",
   "execution_count": 11,
   "id": "e5e8830e-a9e9-4eba-aae3-0f40a0bbb6db",
   "metadata": {},
   "outputs": [
    {
     "data": {
      "text/plain": [
       "array([23, 32, 67, 32])"
      ]
     },
     "execution_count": 11,
     "metadata": {},
     "output_type": "execute_result"
    }
   ],
   "source": [
    "arr"
   ]
  },
  {
   "cell_type": "code",
   "execution_count": 12,
   "id": "72d80468-38c0-4d34-b350-8f18ff6083e2",
   "metadata": {},
   "outputs": [],
   "source": [
    "arr1=([23,'pune',56,89])       ## homogenous"
   ]
  },
  {
   "cell_type": "code",
   "execution_count": 13,
   "id": "3a648885-d931-4a8f-a835-55039ff8df88",
   "metadata": {},
   "outputs": [
    {
     "data": {
      "text/plain": [
       "[23, 'pune', 56, 89]"
      ]
     },
     "execution_count": 13,
     "metadata": {},
     "output_type": "execute_result"
    }
   ],
   "source": [
    "arr1"
   ]
  },
  {
   "cell_type": "code",
   "execution_count": 15,
   "id": "a8c514e7-8681-401b-84bf-60f588cd6a3b",
   "metadata": {},
   "outputs": [
    {
     "data": {
      "text/plain": [
       "array([ 46,  64, 134,  64])"
      ]
     },
     "execution_count": 15,
     "metadata": {},
     "output_type": "execute_result"
    }
   ],
   "source": [
    "arr*2"
   ]
  },
  {
   "cell_type": "markdown",
   "id": "3dc9f585-f844-4f02-9625-01097e8a47ae",
   "metadata": {},
   "source": [
    "## check which one is faster . list or array"
   ]
  },
  {
   "cell_type": "code",
   "execution_count": 16,
   "id": "a04fcacf-c835-4d3e-b262-4ef859906d27",
   "metadata": {},
   "outputs": [],
   "source": [
    "import time"
   ]
  },
  {
   "cell_type": "code",
   "execution_count": 17,
   "id": "2c3bd144-aeff-4554-b9c2-dab1e937a3bc",
   "metadata": {},
   "outputs": [
    {
     "data": {
      "text/plain": [
       "1752832673.62016"
      ]
     },
     "execution_count": 17,
     "metadata": {},
     "output_type": "execute_result"
    }
   ],
   "source": [
    "time.time()"
   ]
  },
  {
   "cell_type": "code",
   "execution_count": 18,
   "id": "f0d7fd93-400e-46b3-aabb-05716ca45d55",
   "metadata": {},
   "outputs": [],
   "source": [
    "s = 100000\n",
    "\n",
    "list1 = list(range (s))\n",
    "\n",
    "arr1=np.array(list1)"
   ]
  },
  {
   "cell_type": "markdown",
   "id": "a907d20c-8e97-4ff7-a840-e78917198674",
   "metadata": {},
   "source": [
    "### for list"
   ]
  },
  {
   "cell_type": "code",
   "execution_count": 19,
   "id": "b7e58c87-8d30-4161-8e9a-55734a65b7a5",
   "metadata": {},
   "outputs": [
    {
     "name": "stdout",
     "output_type": "stream",
     "text": [
      "time taken by list 0.011992454528808594\n"
     ]
    }
   ],
   "source": [
    "start_time = time.time()\n",
    "doubled_list = [i * 2 for i in list1]\n",
    "time_list = time.time() - start_time\n",
    "print(\"time taken by list\",time_list)\n"
   ]
  },
  {
   "cell_type": "markdown",
   "id": "82ed8c50-2545-450b-83e3-eb7d5fd33741",
   "metadata": {},
   "source": [
    "### for array"
   ]
  },
  {
   "cell_type": "code",
   "execution_count": 20,
   "id": "1047a86b-e71a-4eb7-a959-c24fd3831a34",
   "metadata": {},
   "outputs": [
    {
     "name": "stdout",
     "output_type": "stream",
     "text": [
      "time taken by list 0.02898240089416504\n"
     ]
    }
   ],
   "source": [
    "start_time = time.time()\n",
    "doubled_array = [i * 2 for i in arr1]\n",
    "time_array = time.time() - start_time\n",
    "print(\"time taken by list\",time_array)"
   ]
  },
  {
   "cell_type": "code",
   "execution_count": 21,
   "id": "365c4de1-66f9-4376-ace4-b116cb72a828",
   "metadata": {},
   "outputs": [
    {
     "data": {
      "text/plain": [
       "0.41378402612680054"
      ]
     },
     "execution_count": 21,
     "metadata": {},
     "output_type": "execute_result"
    }
   ],
   "source": [
    "time_list / time_array"
   ]
  },
  {
   "cell_type": "markdown",
   "id": "d43e0c56-889c-4d25-9f3c-f1aebeed6506",
   "metadata": {},
   "source": [
    "# arange "
   ]
  },
  {
   "cell_type": "code",
   "execution_count": 22,
   "id": "9a948fb8-06da-4045-899e-dddf2610f3d5",
   "metadata": {},
   "outputs": [
    {
     "data": {
      "text/plain": [
       "array([ 0,  1,  2,  3,  4,  5,  6,  7,  8,  9, 10])"
      ]
     },
     "execution_count": 22,
     "metadata": {},
     "output_type": "execute_result"
    }
   ],
   "source": [
    "a = np.arange(11)\n",
    "a"
   ]
  },
  {
   "cell_type": "code",
   "execution_count": 23,
   "id": "2c7d0aa9-3fa9-4adf-9f6c-a1006ada61c4",
   "metadata": {},
   "outputs": [
    {
     "data": {
      "text/plain": [
       "array([ 5,  6,  7,  8,  9, 10, 11, 12, 13, 14])"
      ]
     },
     "execution_count": 23,
     "metadata": {},
     "output_type": "execute_result"
    }
   ],
   "source": [
    "np.arange(5,15)"
   ]
  },
  {
   "cell_type": "code",
   "execution_count": 24,
   "id": "879a6f8d-4257-493e-8591-3b77aa91ca12",
   "metadata": {},
   "outputs": [
    {
     "data": {
      "text/plain": [
       "array([-5. , -4.5, -4. , -3.5, -3. , -2.5, -2. , -1.5, -1. , -0.5,  0. ,\n",
       "        0.5,  1. ,  1.5,  2. ,  2.5,  3. ,  3.5,  4. ,  4.5])"
      ]
     },
     "execution_count": 24,
     "metadata": {},
     "output_type": "execute_result"
    }
   ],
   "source": [
    "np.arange(-5,5,0.5)"
   ]
  },
  {
   "cell_type": "code",
   "execution_count": 25,
   "id": "19c13fd5-5f0d-41c0-9417-8a11ee011fda",
   "metadata": {},
   "outputs": [
    {
     "data": {
      "text/plain": [
       "array([0., 0., 0., 0., 0.])"
      ]
     },
     "execution_count": 25,
     "metadata": {},
     "output_type": "execute_result"
    }
   ],
   "source": [
    "np.zeros(5)"
   ]
  },
  {
   "cell_type": "code",
   "execution_count": 26,
   "id": "7ab0694b-a998-4b7c-af81-d380356ef0cd",
   "metadata": {},
   "outputs": [
    {
     "data": {
      "text/plain": [
       "array([1., 1., 1., 1., 1.])"
      ]
     },
     "execution_count": 26,
     "metadata": {},
     "output_type": "execute_result"
    }
   ],
   "source": [
    "np.ones(5)"
   ]
  },
  {
   "cell_type": "code",
   "execution_count": 27,
   "id": "bdbb564d-5bc9-48fe-b863-ecc04aee5666",
   "metadata": {},
   "outputs": [
    {
     "data": {
      "text/plain": [
       "1"
      ]
     },
     "execution_count": 27,
     "metadata": {},
     "output_type": "execute_result"
    }
   ],
   "source": [
    "arr.ndim   ## dimension"
   ]
  },
  {
   "cell_type": "markdown",
   "id": "e4998a20-34ac-4c9d-a49c-60ae3cc1db1c",
   "metadata": {},
   "source": [
    "## 2.d array"
   ]
  },
  {
   "cell_type": "code",
   "execution_count": 28,
   "id": "2ec27666-086e-4dfb-b622-4cbdb8382edc",
   "metadata": {},
   "outputs": [
    {
     "data": {
      "text/plain": [
       "array([[ 1,  2,  3],\n",
       "       [ 4,  5,  6],\n",
       "       [ 9, 80, 10],\n",
       "       [ 6,  8, 89]])"
      ]
     },
     "execution_count": 28,
     "metadata": {},
     "output_type": "execute_result"
    }
   ],
   "source": [
    "arr = np.array([[1,2,3],[4,5,6],[9,80,10],[6,8,89]])\n",
    "arr"
   ]
  },
  {
   "cell_type": "code",
   "execution_count": 29,
   "id": "e402ce03-77d5-490c-b863-6df8ae9ac7b4",
   "metadata": {},
   "outputs": [
    {
     "data": {
      "text/plain": [
       "2"
      ]
     },
     "execution_count": 29,
     "metadata": {},
     "output_type": "execute_result"
    }
   ],
   "source": [
    "arr.ndim"
   ]
  },
  {
   "cell_type": "code",
   "execution_count": 30,
   "id": "63789249-980e-4502-92a7-a7824b3556e7",
   "metadata": {},
   "outputs": [
    {
     "data": {
      "text/plain": [
       "12"
      ]
     },
     "execution_count": 30,
     "metadata": {},
     "output_type": "execute_result"
    }
   ],
   "source": [
    "arr.size   ## elements"
   ]
  },
  {
   "cell_type": "code",
   "execution_count": 31,
   "id": "fbe78d25-4af1-409c-bd6b-d5c15ec322a2",
   "metadata": {},
   "outputs": [
    {
     "data": {
      "text/plain": [
       "(4, 3)"
      ]
     },
     "execution_count": 31,
     "metadata": {},
     "output_type": "execute_result"
    }
   ],
   "source": [
    "arr.shape  ## no of rows & columns"
   ]
  },
  {
   "cell_type": "code",
   "execution_count": 32,
   "id": "47f4b822-490c-4a86-9012-473f64c982cd",
   "metadata": {},
   "outputs": [
    {
     "data": {
      "text/plain": [
       "array([ 1,  2,  3,  4,  5,  6,  9, 80, 10,  6,  8, 89])"
      ]
     },
     "execution_count": 32,
     "metadata": {},
     "output_type": "execute_result"
    }
   ],
   "source": [
    "arr.flatten()"
   ]
  },
  {
   "cell_type": "code",
   "execution_count": 33,
   "id": "bf45d70f-4813-4b6a-9c9c-ff3480abdb0b",
   "metadata": {},
   "outputs": [
    {
     "data": {
      "text/plain": [
       "1"
      ]
     },
     "execution_count": 33,
     "metadata": {},
     "output_type": "execute_result"
    }
   ],
   "source": [
    "arr.flatten().ndim"
   ]
  },
  {
   "cell_type": "code",
   "execution_count": 34,
   "id": "a5cb00ab-7489-46cc-af55-246e6df17453",
   "metadata": {},
   "outputs": [
    {
     "data": {
      "text/plain": [
       "array([[ 1,  2,  3],\n",
       "       [ 4,  5,  6],\n",
       "       [ 9, 80, 10],\n",
       "       [ 6,  8, 89]])"
      ]
     },
     "execution_count": 34,
     "metadata": {},
     "output_type": "execute_result"
    }
   ],
   "source": [
    "arr"
   ]
  },
  {
   "cell_type": "code",
   "execution_count": 35,
   "id": "69ad941d-5785-423e-97a6-6f91ee737a9d",
   "metadata": {},
   "outputs": [
    {
     "data": {
      "text/plain": [
       "array([[ 1,  2,  3,  4,  5,  6],\n",
       "       [ 9, 80, 10,  6,  8, 89]])"
      ]
     },
     "execution_count": 35,
     "metadata": {},
     "output_type": "execute_result"
    }
   ],
   "source": [
    "arr.reshape(2,-1)"
   ]
  },
  {
   "cell_type": "markdown",
   "id": "1a0456d2-82ef-4a16-b937-59e8a7638010",
   "metadata": {},
   "source": [
    "## 3.d array"
   ]
  },
  {
   "cell_type": "code",
   "execution_count": 36,
   "id": "e8538805-fb01-4d2a-9849-012d7b92203b",
   "metadata": {},
   "outputs": [],
   "source": [
    "arr1 = np.array([[1,2,3],[4,5,6],[9,80,10],[6,8,89]])"
   ]
  },
  {
   "cell_type": "code",
   "execution_count": 37,
   "id": "32d12bb7-840a-4c5a-888b-8a20810d065f",
   "metadata": {},
   "outputs": [
    {
     "data": {
      "text/plain": [
       "array([[ 1,  2],\n",
       "       [ 3,  4],\n",
       "       [ 5,  6],\n",
       "       [ 9, 80],\n",
       "       [10,  6],\n",
       "       [ 8, 89]])"
      ]
     },
     "execution_count": 37,
     "metadata": {},
     "output_type": "execute_result"
    }
   ],
   "source": [
    " arr1.reshape(6,2)"
   ]
  },
  {
   "cell_type": "code",
   "execution_count": 38,
   "id": "84706364-3909-43a1-b17c-2e2f336a97a8",
   "metadata": {},
   "outputs": [
    {
     "data": {
      "text/plain": [
       "array([[ 1,  2,  3],\n",
       "       [ 4,  5,  6],\n",
       "       [ 9, 80, 10],\n",
       "       [ 6,  8, 89]])"
      ]
     },
     "execution_count": 38,
     "metadata": {},
     "output_type": "execute_result"
    }
   ],
   "source": [
    "arr1.reshape(4,3)"
   ]
  },
  {
   "cell_type": "code",
   "execution_count": 39,
   "id": "0bdc3cd0-0464-4d1a-ba37-9137f4108cbb",
   "metadata": {},
   "outputs": [
    {
     "data": {
      "text/plain": [
       "2"
      ]
     },
     "execution_count": 39,
     "metadata": {},
     "output_type": "execute_result"
    }
   ],
   "source": [
    "arr1.ndim"
   ]
  },
  {
   "cell_type": "code",
   "execution_count": 40,
   "id": "75d65f88-d7db-4764-b251-f9caaf9f9c54",
   "metadata": {},
   "outputs": [
    {
     "data": {
      "text/plain": [
       "array([[[ 1,  2],\n",
       "        [ 3,  4]],\n",
       "\n",
       "       [[ 5,  6],\n",
       "        [ 9, 80]],\n",
       "\n",
       "       [[10,  6],\n",
       "        [ 8, 89]]])"
      ]
     },
     "execution_count": 40,
     "metadata": {},
     "output_type": "execute_result"
    }
   ],
   "source": [
    "arr1.reshape(3,2,2)"
   ]
  },
  {
   "cell_type": "code",
   "execution_count": 41,
   "id": "7629de7f-7155-4495-b5b8-69f2669841cd",
   "metadata": {},
   "outputs": [
    {
     "data": {
      "text/plain": [
       "2"
      ]
     },
     "execution_count": 41,
     "metadata": {},
     "output_type": "execute_result"
    }
   ],
   "source": [
    "arr1.ndim"
   ]
  },
  {
   "cell_type": "markdown",
   "id": "e3efc9e2-24b9-4d44-a7c3-bc8646690c32",
   "metadata": {},
   "source": [
    "## slicing"
   ]
  },
  {
   "cell_type": "code",
   "execution_count": 42,
   "id": "3d00338d-4bc8-41a2-8590-f183d7d0b4d5",
   "metadata": {},
   "outputs": [
    {
     "data": {
      "text/plain": [
       "array([ 3,  4,  5,  6,  7,  8,  9, 10, 11, 12])"
      ]
     },
     "execution_count": 42,
     "metadata": {},
     "output_type": "execute_result"
    }
   ],
   "source": [
    "arr2=np.arange(3,13)\n",
    "arr2"
   ]
  },
  {
   "cell_type": "code",
   "execution_count": 43,
   "id": "c9fd1592-6b4d-4444-b602-53ce4174ef32",
   "metadata": {},
   "outputs": [
    {
     "data": {
      "text/plain": [
       "array([6, 7, 8, 9])"
      ]
     },
     "execution_count": 43,
     "metadata": {},
     "output_type": "execute_result"
    }
   ],
   "source": [
    "arr2[3:7]"
   ]
  },
  {
   "cell_type": "code",
   "execution_count": 44,
   "id": "379d264c-b99f-4fe3-8d49-79052f3cdbfa",
   "metadata": {},
   "outputs": [
    {
     "data": {
      "text/plain": [
       "array([[ 1,  2,  3],\n",
       "       [ 4,  5,  6],\n",
       "       [ 9, 80, 10],\n",
       "       [ 6,  8, 89]])"
      ]
     },
     "execution_count": 44,
     "metadata": {},
     "output_type": "execute_result"
    }
   ],
   "source": [
    "arr1"
   ]
  },
  {
   "cell_type": "code",
   "execution_count": 45,
   "id": "671341a9-3c3e-4f1d-a17d-0383bdcfc8a7",
   "metadata": {},
   "outputs": [
    {
     "data": {
      "text/plain": [
       "array([[ 4,  5],\n",
       "       [ 9, 80]])"
      ]
     },
     "execution_count": 45,
     "metadata": {},
     "output_type": "execute_result"
    }
   ],
   "source": [
    "arr1[1:3,0:2]"
   ]
  },
  {
   "cell_type": "code",
   "execution_count": 46,
   "id": "7d2326f0-5c37-4f52-929f-819fa665f0af",
   "metadata": {},
   "outputs": [
    {
     "data": {
      "text/plain": [
       "array([[ 1,  2,  3],\n",
       "       [ 4,  5,  6],\n",
       "       [ 9, 80, 10],\n",
       "       [ 6,  8, 89]])"
      ]
     },
     "execution_count": 46,
     "metadata": {},
     "output_type": "execute_result"
    }
   ],
   "source": [
    "arr"
   ]
  },
  {
   "cell_type": "code",
   "execution_count": 47,
   "id": "15ed39b6-0ad7-4766-9d2a-baf1d2af7cf8",
   "metadata": {},
   "outputs": [
    {
     "data": {
      "text/plain": [
       "array([[ 4,  5,  6],\n",
       "       [ 9, 80, 10]])"
      ]
     },
     "execution_count": 47,
     "metadata": {},
     "output_type": "execute_result"
    }
   ],
   "source": [
    "arr1[1:3,0:3]"
   ]
  },
  {
   "cell_type": "code",
   "execution_count": 48,
   "id": "dca78188-e95a-4394-9716-26b995b8d309",
   "metadata": {},
   "outputs": [
    {
     "data": {
      "text/plain": [
       "array([[ 1,  2,  3],\n",
       "       [ 4,  5,  6],\n",
       "       [ 9, 80, 10],\n",
       "       [ 6,  8, 89]])"
      ]
     },
     "execution_count": 48,
     "metadata": {},
     "output_type": "execute_result"
    }
   ],
   "source": [
    "arr"
   ]
  },
  {
   "cell_type": "code",
   "execution_count": 49,
   "id": "e325a230-e444-4e56-b216-131f37103450",
   "metadata": {},
   "outputs": [
    {
     "data": {
      "text/plain": [
       "18.583333333333332"
      ]
     },
     "execution_count": 49,
     "metadata": {},
     "output_type": "execute_result"
    }
   ],
   "source": [
    "np.mean(arr)"
   ]
  },
  {
   "cell_type": "code",
   "execution_count": 50,
   "id": "e89af611-fa02-4f6c-beca-b3a31774b623",
   "metadata": {},
   "outputs": [
    {
     "data": {
      "text/plain": [
       "29.649222399396734"
      ]
     },
     "execution_count": 50,
     "metadata": {},
     "output_type": "execute_result"
    }
   ],
   "source": [
    "np.std(arr)"
   ]
  },
  {
   "cell_type": "markdown",
   "id": "a0cece63-83ec-4890-b0a8-1d54836c6b2f",
   "metadata": {},
   "source": [
    "### linear alg"
   ]
  },
  {
   "cell_type": "code",
   "execution_count": 51,
   "id": "44384e72-75ac-4b4f-8f2a-2f290209d0d8",
   "metadata": {},
   "outputs": [],
   "source": [
    "a = np.array([[1,4],[4,9]])\n",
    "b= np.array([[3,3],[10,1]])"
   ]
  },
  {
   "cell_type": "code",
   "execution_count": 52,
   "id": "deef7269-498d-4a7a-9de3-fc20499362f5",
   "metadata": {},
   "outputs": [
    {
     "data": {
      "text/plain": [
       "array([[1, 4],\n",
       "       [4, 9]])"
      ]
     },
     "execution_count": 52,
     "metadata": {},
     "output_type": "execute_result"
    }
   ],
   "source": [
    "a"
   ]
  },
  {
   "cell_type": "code",
   "execution_count": 53,
   "id": "dee8531b-f56e-4ac6-8e8f-cff0affcc007",
   "metadata": {},
   "outputs": [
    {
     "data": {
      "text/plain": [
       "array([[ 43,   7],\n",
       "       [102,  21]])"
      ]
     },
     "execution_count": 53,
     "metadata": {},
     "output_type": "execute_result"
    }
   ],
   "source": [
    "np.dot(a,b)"
   ]
  },
  {
   "cell_type": "code",
   "execution_count": 54,
   "id": "99060ebb-b43a-4c8a-97aa-094e4ec26647",
   "metadata": {},
   "outputs": [
    {
     "data": {
      "text/plain": [
       "-6.999999999999999"
      ]
     },
     "execution_count": 54,
     "metadata": {},
     "output_type": "execute_result"
    }
   ],
   "source": [
    "np.linalg.det(a)"
   ]
  },
  {
   "cell_type": "code",
   "execution_count": 55,
   "id": "a5e4929b-3110-4bea-bb20-228880558620",
   "metadata": {},
   "outputs": [
    {
     "data": {
      "text/plain": [
       "array([[-1.28571429,  0.57142857],\n",
       "       [ 0.57142857, -0.14285714]])"
      ]
     },
     "execution_count": 55,
     "metadata": {},
     "output_type": "execute_result"
    }
   ],
   "source": [
    "np.linalg.inv(a)"
   ]
  },
  {
   "cell_type": "code",
   "execution_count": 56,
   "id": "57400ee8-6e35-4c54-a72c-2f3a13d9db6f",
   "metadata": {},
   "outputs": [
    {
     "data": {
      "text/plain": [
       "EigResult(eigenvalues=array([-0.65685425, 10.65685425]), eigenvectors=array([[-0.92387953, -0.38268343],\n",
       "       [ 0.38268343, -0.92387953]]))"
      ]
     },
     "execution_count": 56,
     "metadata": {},
     "output_type": "execute_result"
    }
   ],
   "source": [
    "np.linalg.eig(a)"
   ]
  },
  {
   "cell_type": "markdown",
   "id": "0f2386f5-2f7a-493f-af51-d373beee9d1e",
   "metadata": {},
   "source": [
    "# vector"
   ]
  },
  {
   "cell_type": "code",
   "execution_count": 57,
   "id": "0fdd744c-ccaa-4f47-a56d-a9e20b5407fc",
   "metadata": {},
   "outputs": [],
   "source": [
    "vec = np.array([3,6])"
   ]
  },
  {
   "cell_type": "code",
   "execution_count": 58,
   "id": "5b7ce274-fc11-41d6-8a93-799bfadbd23c",
   "metadata": {},
   "outputs": [
    {
     "data": {
      "text/plain": [
       "6.708203932499369"
      ]
     },
     "execution_count": 58,
     "metadata": {},
     "output_type": "execute_result"
    }
   ],
   "source": [
    "np.linalg.norm(vec)"
   ]
  },
  {
   "cell_type": "code",
   "execution_count": 59,
   "id": "d7cde34c-c954-4c5a-b900-8e3e38cac1ec",
   "metadata": {
    "scrolled": true
   },
   "outputs": [
    {
     "name": "stdout",
     "output_type": "stream",
     "text": [
      "Help on _ArrayFunctionDispatcher in module numpy.linalg:\n",
      "\n",
      "norm(x, ord=None, axis=None, keepdims=False)\n",
      "    Matrix or vector norm.\n",
      "\n",
      "    This function is able to return one of eight different matrix norms,\n",
      "    or one of an infinite number of vector norms (described below), depending\n",
      "    on the value of the ``ord`` parameter.\n",
      "\n",
      "    Parameters\n",
      "    ----------\n",
      "    x : array_like\n",
      "        Input array.  If `axis` is None, `x` must be 1-D or 2-D, unless `ord`\n",
      "        is None. If both `axis` and `ord` are None, the 2-norm of\n",
      "        ``x.ravel`` will be returned.\n",
      "    ord : {non-zero int, inf, -inf, 'fro', 'nuc'}, optional\n",
      "        Order of the norm (see table under ``Notes``). inf means numpy's\n",
      "        `inf` object. The default is None.\n",
      "    axis : {None, int, 2-tuple of ints}, optional.\n",
      "        If `axis` is an integer, it specifies the axis of `x` along which to\n",
      "        compute the vector norms.  If `axis` is a 2-tuple, it specifies the\n",
      "        axes that hold 2-D matrices, and the matrix norms of these matrices\n",
      "        are computed.  If `axis` is None then either a vector norm (when `x`\n",
      "        is 1-D) or a matrix norm (when `x` is 2-D) is returned. The default\n",
      "        is None.\n",
      "\n",
      "        .. versionadded:: 1.8.0\n",
      "\n",
      "    keepdims : bool, optional\n",
      "        If this is set to True, the axes which are normed over are left in the\n",
      "        result as dimensions with size one.  With this option the result will\n",
      "        broadcast correctly against the original `x`.\n",
      "\n",
      "        .. versionadded:: 1.10.0\n",
      "\n",
      "    Returns\n",
      "    -------\n",
      "    n : float or ndarray\n",
      "        Norm of the matrix or vector(s).\n",
      "\n",
      "    See Also\n",
      "    --------\n",
      "    scipy.linalg.norm : Similar function in SciPy.\n",
      "\n",
      "    Notes\n",
      "    -----\n",
      "    For values of ``ord < 1``, the result is, strictly speaking, not a\n",
      "    mathematical 'norm', but it may still be useful for various numerical\n",
      "    purposes.\n",
      "\n",
      "    The following norms can be calculated:\n",
      "\n",
      "    =====  ============================  ==========================\n",
      "    ord    norm for matrices             norm for vectors\n",
      "    =====  ============================  ==========================\n",
      "    None   Frobenius norm                2-norm\n",
      "    'fro'  Frobenius norm                --\n",
      "    'nuc'  nuclear norm                  --\n",
      "    inf    max(sum(abs(x), axis=1))      max(abs(x))\n",
      "    -inf   min(sum(abs(x), axis=1))      min(abs(x))\n",
      "    0      --                            sum(x != 0)\n",
      "    1      max(sum(abs(x), axis=0))      as below\n",
      "    -1     min(sum(abs(x), axis=0))      as below\n",
      "    2      2-norm (largest sing. value)  as below\n",
      "    -2     smallest singular value       as below\n",
      "    other  --                            sum(abs(x)**ord)**(1./ord)\n",
      "    =====  ============================  ==========================\n",
      "\n",
      "    The Frobenius norm is given by [1]_:\n",
      "\n",
      "        :math:`||A||_F = [\\sum_{i,j} abs(a_{i,j})^2]^{1/2}`\n",
      "\n",
      "    The nuclear norm is the sum of the singular values.\n",
      "\n",
      "    Both the Frobenius and nuclear norm orders are only defined for\n",
      "    matrices and raise a ValueError when ``x.ndim != 2``.\n",
      "\n",
      "    References\n",
      "    ----------\n",
      "    .. [1] G. H. Golub and C. F. Van Loan, *Matrix Computations*,\n",
      "           Baltimore, MD, Johns Hopkins University Press, 1985, pg. 15\n",
      "\n",
      "    Examples\n",
      "    --------\n",
      "    >>> from numpy import linalg as LA\n",
      "    >>> a = np.arange(9) - 4\n",
      "    >>> a\n",
      "    array([-4, -3, -2, ...,  2,  3,  4])\n",
      "    >>> b = a.reshape((3, 3))\n",
      "    >>> b\n",
      "    array([[-4, -3, -2],\n",
      "           [-1,  0,  1],\n",
      "           [ 2,  3,  4]])\n",
      "\n",
      "    >>> LA.norm(a)\n",
      "    7.745966692414834\n",
      "    >>> LA.norm(b)\n",
      "    7.745966692414834\n",
      "    >>> LA.norm(b, 'fro')\n",
      "    7.745966692414834\n",
      "    >>> LA.norm(a, np.inf)\n",
      "    4.0\n",
      "    >>> LA.norm(b, np.inf)\n",
      "    9.0\n",
      "    >>> LA.norm(a, -np.inf)\n",
      "    0.0\n",
      "    >>> LA.norm(b, -np.inf)\n",
      "    2.0\n",
      "\n",
      "    >>> LA.norm(a, 1)\n",
      "    20.0\n",
      "    >>> LA.norm(b, 1)\n",
      "    7.0\n",
      "    >>> LA.norm(a, -1)\n",
      "    -4.6566128774142013e-010\n",
      "    >>> LA.norm(b, -1)\n",
      "    6.0\n",
      "    >>> LA.norm(a, 2)\n",
      "    7.745966692414834\n",
      "    >>> LA.norm(b, 2)\n",
      "    7.3484692283495345\n",
      "\n",
      "    >>> LA.norm(a, -2)\n",
      "    0.0\n",
      "    >>> LA.norm(b, -2)\n",
      "    1.8570331885190563e-016 # may vary\n",
      "    >>> LA.norm(a, 3)\n",
      "    5.8480354764257312 # may vary\n",
      "    >>> LA.norm(a, -3)\n",
      "    0.0\n",
      "\n",
      "    Using the `axis` argument to compute vector norms:\n",
      "\n",
      "    >>> c = np.array([[ 1, 2, 3],\n",
      "    ...               [-1, 1, 4]])\n",
      "    >>> LA.norm(c, axis=0)\n",
      "    array([ 1.41421356,  2.23606798,  5.        ])\n",
      "    >>> LA.norm(c, axis=1)\n",
      "    array([ 3.74165739,  4.24264069])\n",
      "    >>> LA.norm(c, ord=1, axis=1)\n",
      "    array([ 6.,  6.])\n",
      "\n",
      "    Using the `axis` argument to compute matrix norms:\n",
      "\n",
      "    >>> m = np.arange(8).reshape(2,2,2)\n",
      "    >>> LA.norm(m, axis=(1,2))\n",
      "    array([  3.74165739,  11.22497216])\n",
      "    >>> LA.norm(m[0, :, :]), LA.norm(m[1, :, :])\n",
      "    (3.7416573867739413, 11.224972160321824)\n",
      "\n"
     ]
    }
   ],
   "source": [
    "help(np.linalg.norm)"
   ]
  },
  {
   "cell_type": "markdown",
   "id": "31bc7ae6-498d-4158-b4ea-d50576d266bc",
   "metadata": {},
   "source": [
    "## Problem"
   ]
  },
  {
   "cell_type": "code",
   "execution_count": 60,
   "id": "ada682c5-a1ee-41f4-acec-7a4250f1aa33",
   "metadata": {},
   "outputs": [],
   "source": [
    "## 1. create a numpy array of shape(3,3) with value ranging from 1 to 9 "
   ]
  },
  {
   "cell_type": "code",
   "execution_count": 61,
   "id": "587a468d-a5b4-4801-9b22-9c7db18e363d",
   "metadata": {},
   "outputs": [
    {
     "name": "stdout",
     "output_type": "stream",
     "text": [
      "[[1 2 3]\n",
      " [4 5 6]\n",
      " [7 8 9]]\n"
     ]
    }
   ],
   "source": [
    " a = np.arange(1,10).reshape(3,3)\n",
    "print(a)"
   ]
  },
  {
   "cell_type": "code",
   "execution_count": 62,
   "id": "5900c1f8-dd52-43e3-b645-1701e86fca9e",
   "metadata": {},
   "outputs": [],
   "source": [
    "## 2 . given 10 numpy array [10,20,30,40,50] write code to reverse the array "
   ]
  },
  {
   "cell_type": "code",
   "execution_count": 63,
   "id": "fff723a4-bc9a-41ba-81f7-79acd8d0fbfb",
   "metadata": {},
   "outputs": [],
   "source": [
    "a = np.array([10,20,30,40,50])\n",
    "rev = a[::-1]"
   ]
  },
  {
   "cell_type": "code",
   "execution_count": 64,
   "id": "5f564656-1f72-433d-88b6-f7c627cc2bbd",
   "metadata": {},
   "outputs": [
    {
     "data": {
      "text/plain": [
       "array([50, 40, 30, 20, 10])"
      ]
     },
     "execution_count": 64,
     "metadata": {},
     "output_type": "execute_result"
    }
   ],
   "source": [
    "rev"
   ]
  },
  {
   "cell_type": "code",
   "execution_count": 65,
   "id": "2d14a0cb-9ae3-4451-9c7c-eaede98a66ee",
   "metadata": {},
   "outputs": [],
   "source": [
    "## 3. create a 5X5 numpy array filled with zeros and set the value of middle element to 1"
   ]
  },
  {
   "cell_type": "code",
   "execution_count": 66,
   "id": "8a66531a-f1d1-4c6d-931e-51990c01981c",
   "metadata": {},
   "outputs": [
    {
     "name": "stdout",
     "output_type": "stream",
     "text": [
      "[[0. 0. 0. 0. 0.]\n",
      " [0. 0. 0. 0. 0.]\n",
      " [0. 0. 1. 0. 0.]\n",
      " [0. 0. 0. 0. 0.]\n",
      " [0. 0. 0. 0. 0.]]\n"
     ]
    }
   ],
   "source": [
    "\n",
    "array = np.zeros((5, 5))\n",
    "middle_row = 5 // 2\n",
    "middle_col = 5 // 2\n",
    "array[middle_row, middle_col] = 1\n",
    "print(array)"
   ]
  },
  {
   "cell_type": "code",
   "execution_count": 67,
   "id": "251536df-795a-4f24-a94d-756113e365c9",
   "metadata": {},
   "outputs": [],
   "source": [
    "## 4 . numpy array with 20 random integer between 1 and 100 .replace all even num with -1"
   ]
  },
  {
   "cell_type": "code",
   "execution_count": 68,
   "id": "831f739d-e916-44b3-8c3a-2c37d4b0b583",
   "metadata": {},
   "outputs": [
    {
     "name": "stdout",
     "output_type": "stream",
     "text": [
      "[-1 55 69 -1  1 11 -1 -1 73 51 53 53 -1 23 -1 51 47 95 -1 81]\n"
     ]
    }
   ],
   "source": [
    "random_array = np.random.randint(1, 101, size=20)\n",
    "random_array[random_array % 2 == 0] = -1\n",
    "\n",
    "print(random_array)"
   ]
  },
  {
   "cell_type": "code",
   "execution_count": 2,
   "id": "0d1e2ca0-dbc4-4016-84ba-821573a3e2ad",
   "metadata": {},
   "outputs": [],
   "source": [
    "## 5. Given a NumPy array a = np.array([[1, 2], [3, 4], [5, 6]]) , extract the second column"
   ]
  },
  {
   "cell_type": "code",
   "execution_count": 5,
   "id": "0cd8abea-01f7-4ec3-b14d-93bad79a3d38",
   "metadata": {},
   "outputs": [
    {
     "name": "stdout",
     "output_type": "stream",
     "text": [
      "[2 4 6]\n"
     ]
    }
   ],
   "source": [
    "import numpy as np \n",
    "sec = np.array([[1, 2], [3, 4], [5, 6]])\n",
    "second_column = sec[:, 1]\n",
    "\n",
    "print(second_column)\n"
   ]
  },
  {
   "cell_type": "code",
   "execution_count": 6,
   "id": "0dd091b0-8041-4be9-8699-8a1be4a2c1ae",
   "metadata": {},
   "outputs": [],
   "source": [
    "## 6. Create a NumPy array with values [1, 2, 3, 4] and convert it into a 2x2 matrix"
   ]
  },
  {
   "cell_type": "code",
   "execution_count": 7,
   "id": "db216f2d-c6fe-4025-9a11-0f8532470b7f",
   "metadata": {},
   "outputs": [
    {
     "name": "stdout",
     "output_type": "stream",
     "text": [
      "[[1 2]\n",
      " [3 4]]\n"
     ]
    }
   ],
   "source": [
    "\n",
    "\n",
    "mat = np.array([1, 2, 3, 4])\n",
    "matrix = mat.reshape(2, 2)\n",
    "\n",
    "print(matrix)\n"
   ]
  },
  {
   "cell_type": "code",
   "execution_count": 8,
   "id": "3c91fe60-4c41-4f07-ae5e-a7c6d395f3c5",
   "metadata": {},
   "outputs": [],
   "source": [
    "## 7. Create two NumPy arrays of shape (2, 2) and perform element-wise addition, subtraction,multiplication, and division."
   ]
  },
  {
   "cell_type": "code",
   "execution_count": 9,
   "id": "c21903c2-be4e-43a0-90c5-aede0171c99e",
   "metadata": {},
   "outputs": [
    {
     "name": "stdout",
     "output_type": "stream",
     "text": [
      "Addition:\n",
      " [[ 6  8]\n",
      " [10 12]]\n",
      "Subtraction:\n",
      " [[-4 -4]\n",
      " [-4 -4]]\n",
      "Multiplication:\n",
      " [[ 5 12]\n",
      " [21 32]]\n",
      "Division:\n",
      " [[0.2        0.33333333]\n",
      " [0.42857143 0.5       ]]\n"
     ]
    }
   ],
   "source": [
    "import numpy as np\n",
    "\n",
    "x = np.array([[1, 2], [3, 4]])\n",
    "y = np.array([[5, 6], [7, 8]])\n",
    "\n",
    "addition = x + y\n",
    "subtraction = x - y\n",
    "multiplication = x* y\n",
    "division = x / y  \n",
    "\n",
    "print(\"Addition:\\n\", addition)\n",
    "print(\"Subtraction:\\n\", subtraction)\n",
    "print(\"Multiplication:\\n\", multiplication)\n",
    "print(\"Division:\\n\", division)\n"
   ]
  },
  {
   "cell_type": "code",
   "execution_count": 10,
   "id": "fecb3049-24f6-4455-b1f2-4a22b9ec6faa",
   "metadata": {},
   "outputs": [],
   "source": [
    "## 8.Use NumPy to create an array of 10 linearly spaced values between 0 and 1.\n"
   ]
  },
  {
   "cell_type": "code",
   "execution_count": 11,
   "id": "62262ddb-f7f6-4500-a127-650ac586091a",
   "metadata": {},
   "outputs": [
    {
     "name": "stdout",
     "output_type": "stream",
     "text": [
      "[0.         0.11111111 0.22222222 0.33333333 0.44444444 0.55555556\n",
      " 0.66666667 0.77777778 0.88888889 1.        ]\n"
     ]
    }
   ],
   "source": [
    "import numpy as np\n",
    "\n",
    "linear_array = np.linspace(0, 1, 10)\n",
    "print(linear_array)\n"
   ]
  },
  {
   "cell_type": "code",
   "execution_count": 12,
   "id": "20e426df-c8af-45cf-95a3-bbb0e715c4ab",
   "metadata": {},
   "outputs": [],
   "source": [
    "## 9.Create a NumPy array and demonstrate how to compute its mean, median, and standard deviation.\n"
   ]
  },
  {
   "cell_type": "code",
   "execution_count": 13,
   "id": "bb3d97e1-bee8-4737-8c40-b3845a167000",
   "metadata": {},
   "outputs": [
    {
     "name": "stdout",
     "output_type": "stream",
     "text": [
      "Array: [1 2 3 4 5]\n",
      "Mean: 3.0\n",
      "Median: 3.0\n",
      "Standard Deviation: 1.4142135623730951\n"
     ]
    }
   ],
   "source": [
    "import numpy as np\n",
    "\n",
    "arr = np.array([1, 2, 3, 4, 5])\n",
    "\n",
    "mean = np.mean(arr)\n",
    "median = np.median(arr)\n",
    "std_dev = np.std(arr)\n",
    "\n",
    "print(\"Array:\", arr)\n",
    "print(\"Mean:\", mean)\n",
    "print(\"Median:\", median)\n",
    "print(\"Standard Deviation:\", std_dev)\n"
   ]
  },
  {
   "cell_type": "code",
   "execution_count": 14,
   "id": "267a3529-fcb9-453e-b740-8e6132d439be",
   "metadata": {},
   "outputs": [],
   "source": [
    "## 10.Given a 2D NumPy array, write a function to normalize each column (subtract mean and divide by std deviation).\n"
   ]
  },
  {
   "cell_type": "code",
   "execution_count": 16,
   "id": "a5dca8c9-ff1f-4100-9d51-c9dd2ab7b9ba",
   "metadata": {},
   "outputs": [
    {
     "name": "stdout",
     "output_type": "stream",
     "text": [
      "Original array:\n",
      " [[1 2]\n",
      " [3 4]\n",
      " [5 6]]\n",
      "Normalized array:\n",
      " [[-1.22474487 -1.22474487]\n",
      " [ 0.          0.        ]\n",
      " [ 1.22474487  1.22474487]]\n"
     ]
    }
   ],
   "source": [
    "import numpy as np\n",
    "\n",
    "def normalize_columns(arr):\n",
    "    mean = np.mean(arr, axis=0)\n",
    "    std = np.std(arr, axis=0)\n",
    "    \n",
    "    std[std == 0] = 1\n",
    "    \n",
    "    normalized = (arr - mean) / std\n",
    "    return normalized\n",
    "\n",
    "a = np.array([[1, 2], [3, 4], [5, 6]])\n",
    "normalized_a = normalize_columns(a)\n",
    "\n",
    "print(\"Original array:\\n\", a)\n",
    "print(\"Normalized array:\\n\", normalized_a)\n"
   ]
  },
  {
   "cell_type": "code",
   "execution_count": null,
   "id": "06a9fa24-bf53-4372-88c1-58ee0c34126f",
   "metadata": {},
   "outputs": [],
   "source": []
  }
 ],
 "metadata": {
  "kernelspec": {
   "display_name": "Python [conda env:base] *",
   "language": "python",
   "name": "conda-base-py"
  },
  "language_info": {
   "codemirror_mode": {
    "name": "ipython",
    "version": 3
   },
   "file_extension": ".py",
   "mimetype": "text/x-python",
   "name": "python",
   "nbconvert_exporter": "python",
   "pygments_lexer": "ipython3",
   "version": "3.12.7"
  }
 },
 "nbformat": 4,
 "nbformat_minor": 5
}
