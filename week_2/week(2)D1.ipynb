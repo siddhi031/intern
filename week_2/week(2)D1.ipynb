{
 "cells": [
  {
   "cell_type": "markdown",
   "id": "e7e09dc2-2d4c-4b71-a670-02fb7166ba66",
   "metadata": {},
   "source": [
    "# list"
   ]
  },
  {
   "cell_type": "code",
   "execution_count": 2,
   "id": "0657172d-574a-4ca1-8e9e-cf6389cdb85c",
   "metadata": {},
   "outputs": [],
   "source": [
    "l = [ 12,3,56,9]"
   ]
  },
  {
   "cell_type": "code",
   "execution_count": 3,
   "id": "12d9e80c-1305-4c76-920d-4a393db07b77",
   "metadata": {},
   "outputs": [
    {
     "name": "stdout",
     "output_type": "stream",
     "text": [
      "[12, 3, 56, 9]\n"
     ]
    }
   ],
   "source": [
    "print(l)"
   ]
  },
  {
   "cell_type": "code",
   "execution_count": 5,
   "id": "d324cd8a-ef15-4dfa-b7c5-32f03f752cf3",
   "metadata": {},
   "outputs": [
    {
     "data": {
      "text/plain": [
       "list"
      ]
     },
     "execution_count": 5,
     "metadata": {},
     "output_type": "execute_result"
    }
   ],
   "source": [
    "type(l)"
   ]
  },
  {
   "cell_type": "markdown",
   "id": "114033e4-2617-444d-8bcc-8cdd901cd458",
   "metadata": {},
   "source": [
    "# list are hetero"
   ]
  },
  {
   "cell_type": "code",
   "execution_count": 7,
   "id": "ec45d20a-2473-4893-bc64-974da5bda8a0",
   "metadata": {},
   "outputs": [],
   "source": [
    "l = [ 12,78,'True']"
   ]
  },
  {
   "cell_type": "code",
   "execution_count": 8,
   "id": "737f2a4e-a053-478b-bae2-cbe6f1ac2fff",
   "metadata": {},
   "outputs": [
    {
     "name": "stdout",
     "output_type": "stream",
     "text": [
      "[12, 78, 'True']\n"
     ]
    }
   ],
   "source": [
    "print(l)"
   ]
  },
  {
   "cell_type": "code",
   "execution_count": 10,
   "id": "6581d449-039a-4d34-ba85-3d6293f9f074",
   "metadata": {},
   "outputs": [],
   "source": [
    "l = [ 12,78,'True',12]"
   ]
  },
  {
   "cell_type": "code",
   "execution_count": 11,
   "id": "4d8ee2fe-a8b2-4974-b320-d648397de5c6",
   "metadata": {},
   "outputs": [
    {
     "name": "stdout",
     "output_type": "stream",
     "text": [
      "[12, 78, 'True', 12]\n"
     ]
    }
   ],
   "source": [
    "print(l)"
   ]
  },
  {
   "cell_type": "code",
   "execution_count": 12,
   "id": "10fa4570-9779-41f6-8495-4cae7dc5e1ca",
   "metadata": {},
   "outputs": [],
   "source": [
    "# access the data\n",
    "# list are ordered [indexind is present]"
   ]
  },
  {
   "cell_type": "code",
   "execution_count": 14,
   "id": "ee5a2a41-e89e-4001-bf1d-4f68be458688",
   "metadata": {},
   "outputs": [],
   "source": [
    "l = [ 12,67,'pune',67]"
   ]
  },
  {
   "cell_type": "code",
   "execution_count": 17,
   "id": "19446987-de02-4506-b417-de20ab3e8ee7",
   "metadata": {},
   "outputs": [
    {
     "data": {
      "text/plain": [
       "12"
      ]
     },
     "execution_count": 17,
     "metadata": {},
     "output_type": "execute_result"
    }
   ],
   "source": [
    "l[0]"
   ]
  },
  {
   "cell_type": "code",
   "execution_count": 18,
   "id": "cbbe6d8a-e40d-4333-99a0-2f1550cc9154",
   "metadata": {},
   "outputs": [
    {
     "data": {
      "text/plain": [
       "'pune'"
      ]
     },
     "execution_count": 18,
     "metadata": {},
     "output_type": "execute_result"
    }
   ],
   "source": [
    "l[-2]"
   ]
  },
  {
   "cell_type": "code",
   "execution_count": 19,
   "id": "321213a0-20aa-4e90-b580-9232dc2c0e01",
   "metadata": {},
   "outputs": [],
   "source": [
    "# list are mutuable\n"
   ]
  },
  {
   "cell_type": "code",
   "execution_count": 20,
   "id": "68b189db-eabc-42d2-b9d0-d77c82f3f3be",
   "metadata": {},
   "outputs": [],
   "source": [
    "l = [ 34,45,67,90]"
   ]
  },
  {
   "cell_type": "code",
   "execution_count": 21,
   "id": "088a9692-4a9f-4e71-b70f-05a35285b7b9",
   "metadata": {},
   "outputs": [
    {
     "name": "stdout",
     "output_type": "stream",
     "text": [
      "[34, 45, 67, 90]\n"
     ]
    }
   ],
   "source": [
    "print(l)"
   ]
  },
  {
   "cell_type": "code",
   "execution_count": 22,
   "id": "88a03760-4321-49e7-90c2-576135d9def1",
   "metadata": {},
   "outputs": [],
   "source": [
    "l[2] = 65"
   ]
  },
  {
   "cell_type": "code",
   "execution_count": 23,
   "id": "d56e2d9f-d932-43ce-b84b-4cd15acace40",
   "metadata": {},
   "outputs": [
    {
     "name": "stdout",
     "output_type": "stream",
     "text": [
      "[34, 45, 65, 90]\n"
     ]
    }
   ],
   "source": [
    "print(l)"
   ]
  },
  {
   "cell_type": "code",
   "execution_count": 24,
   "id": "aaedc945-782e-431e-b14d-a9e65209ab42",
   "metadata": {},
   "outputs": [],
   "source": [
    "l = [ 23,34,56,'true','pune',23]"
   ]
  },
  {
   "cell_type": "code",
   "execution_count": 25,
   "id": "eb20c229-f821-4924-a8df-3ad3323fb947",
   "metadata": {},
   "outputs": [
    {
     "name": "stdout",
     "output_type": "stream",
     "text": [
      "[23, 34, 56, 'true', 'pune', 23]\n"
     ]
    }
   ],
   "source": [
    "print(l)"
   ]
  },
  {
   "cell_type": "code",
   "execution_count": 26,
   "id": "e1d8202b-e52a-4220-a0e9-4c17d8be426c",
   "metadata": {},
   "outputs": [
    {
     "data": {
      "text/plain": [
       "'true'"
      ]
     },
     "execution_count": 26,
     "metadata": {},
     "output_type": "execute_result"
    }
   ],
   "source": [
    "l[-3]"
   ]
  },
  {
   "cell_type": "code",
   "execution_count": 27,
   "id": "14317841-88cd-4ca4-8e73-67565231776a",
   "metadata": {},
   "outputs": [],
   "source": [
    "l[-3] = 'false'"
   ]
  },
  {
   "cell_type": "code",
   "execution_count": 28,
   "id": "d9256a57-4242-4482-8d03-98e2db819a4b",
   "metadata": {},
   "outputs": [
    {
     "name": "stdout",
     "output_type": "stream",
     "text": [
      "[23, 34, 56, 'false', 'pune', 23]\n"
     ]
    }
   ],
   "source": [
    "print(l)"
   ]
  },
  {
   "cell_type": "code",
   "execution_count": 29,
   "id": "61e91845-94ed-40e1-9571-594dd91e735d",
   "metadata": {},
   "outputs": [],
   "source": [
    "l1 = [12,23,34,42,10,12,67]"
   ]
  },
  {
   "cell_type": "code",
   "execution_count": 31,
   "id": "cb499c2b-56f8-4a4b-8fac-7a788c38488c",
   "metadata": {},
   "outputs": [
    {
     "name": "stdout",
     "output_type": "stream",
     "text": [
      "[12, 23, 34, 42, 10, 12, 67]\n"
     ]
    }
   ],
   "source": [
    "print(l1)"
   ]
  },
  {
   "cell_type": "code",
   "execution_count": 43,
   "id": "5b4ed224-0122-4869-bf76-df17b09df19a",
   "metadata": {},
   "outputs": [],
   "source": [
    "l2 = [12,23,34,42,10,12,67]"
   ]
  },
  {
   "cell_type": "code",
   "execution_count": 44,
   "id": "67f6e30f-cef0-4d78-85e2-6690296dcc65",
   "metadata": {},
   "outputs": [
    {
     "name": "stdout",
     "output_type": "stream",
     "text": [
      "[12, 23, 34, 42, 10, 12, 67]\n"
     ]
    }
   ],
   "source": [
    "print(l2)"
   ]
  },
  {
   "cell_type": "code",
   "execution_count": 45,
   "id": "01742d30-e13d-4e32-938e-f85b0724f520",
   "metadata": {},
   "outputs": [
    {
     "data": {
      "text/plain": [
       "[12, 42, 67]"
      ]
     },
     "execution_count": 45,
     "metadata": {},
     "output_type": "execute_result"
    }
   ],
   "source": [
    "l2[::3]"
   ]
  },
  {
   "cell_type": "code",
   "execution_count": 49,
   "id": "4a4291d2-5ae7-4f3f-aa6d-01996b9179cd",
   "metadata": {},
   "outputs": [
    {
     "data": {
      "text/plain": [
       "[67, 12, 10, 42, 34, 23, 12]"
      ]
     },
     "execution_count": 49,
     "metadata": {},
     "output_type": "execute_result"
    }
   ],
   "source": [
    "l2[::-1]"
   ]
  },
  {
   "cell_type": "code",
   "execution_count": 51,
   "id": "80e0b3dd-e774-4022-830f-e4433a881f0a",
   "metadata": {},
   "outputs": [
    {
     "data": {
      "text/plain": [
       "[23, 34, 42]"
      ]
     },
     "execution_count": 51,
     "metadata": {},
     "output_type": "execute_result"
    }
   ],
   "source": [
    "l2[1:4]"
   ]
  },
  {
   "cell_type": "code",
   "execution_count": 52,
   "id": "00e114e5-f4a5-4a66-adca-aca2771b76c8",
   "metadata": {},
   "outputs": [],
   "source": [
    "l2[1:4] = [67,90,78]"
   ]
  },
  {
   "cell_type": "code",
   "execution_count": 53,
   "id": "0cdc8ed3-fb1c-44e1-ae22-456ea38b10c5",
   "metadata": {},
   "outputs": [
    {
     "data": {
      "text/plain": [
       "[12, 67, 90, 78, 10, 12, 67]"
      ]
     },
     "execution_count": 53,
     "metadata": {},
     "output_type": "execute_result"
    }
   ],
   "source": [
    "l2"
   ]
  },
  {
   "cell_type": "code",
   "execution_count": 54,
   "id": "d38828f1-c954-409f-92b5-23a43eb0984e",
   "metadata": {},
   "outputs": [],
   "source": [
    "del l2[2]"
   ]
  },
  {
   "cell_type": "code",
   "execution_count": 55,
   "id": "bb4bc00b-afc0-4aa6-bba9-e45d93ae20ea",
   "metadata": {},
   "outputs": [
    {
     "data": {
      "text/plain": [
       "[12, 67, 78, 10, 12, 67]"
      ]
     },
     "execution_count": 55,
     "metadata": {},
     "output_type": "execute_result"
    }
   ],
   "source": [
    "l2"
   ]
  },
  {
   "cell_type": "code",
   "execution_count": 56,
   "id": "99738c8f-38f2-459f-a75f-cde58390efc8",
   "metadata": {},
   "outputs": [],
   "source": [
    "n = [12,45,67]"
   ]
  },
  {
   "cell_type": "code",
   "execution_count": 57,
   "id": "ce62ce0a-daea-47e4-b424-f60b3862cadf",
   "metadata": {},
   "outputs": [
    {
     "data": {
      "text/plain": [
       "[12, 45, 67]"
      ]
     },
     "execution_count": 57,
     "metadata": {},
     "output_type": "execute_result"
    }
   ],
   "source": [
    "n"
   ]
  },
  {
   "cell_type": "code",
   "execution_count": 60,
   "id": "560ca5bb-74c1-41b8-87b3-78a09fdcbee2",
   "metadata": {},
   "outputs": [
    {
     "ename": "NameError",
     "evalue": "name 'n' is not defined",
     "output_type": "error",
     "traceback": [
      "\u001b[1;31m---------------------------------------------------------------------------\u001b[0m",
      "\u001b[1;31mNameError\u001b[0m                                 Traceback (most recent call last)",
      "Cell \u001b[1;32mIn[60], line 2\u001b[0m\n\u001b[0;32m      1\u001b[0m \u001b[38;5;66;03m# is delete the variable not the list\u001b[39;00m\n\u001b[1;32m----> 2\u001b[0m \u001b[38;5;28;01mdel\u001b[39;00m n\n",
      "\u001b[1;31mNameError\u001b[0m: name 'n' is not defined"
     ]
    }
   ],
   "source": [
    "# is delete the variable not the list\n",
    "del n "
   ]
  },
  {
   "cell_type": "code",
   "execution_count": 59,
   "id": "e10bf13f-5c03-47c8-b3ef-ba97200e76e5",
   "metadata": {},
   "outputs": [
    {
     "ename": "NameError",
     "evalue": "name 'n' is not defined",
     "output_type": "error",
     "traceback": [
      "\u001b[1;31m---------------------------------------------------------------------------\u001b[0m",
      "\u001b[1;31mNameError\u001b[0m                                 Traceback (most recent call last)",
      "Cell \u001b[1;32mIn[59], line 1\u001b[0m\n\u001b[1;32m----> 1\u001b[0m n\n",
      "\u001b[1;31mNameError\u001b[0m: name 'n' is not defined"
     ]
    }
   ],
   "source": [
    "n"
   ]
  },
  {
   "cell_type": "code",
   "execution_count": 61,
   "id": "854b39b0-2005-46df-8c2b-eafa0b291273",
   "metadata": {},
   "outputs": [
    {
     "data": {
      "text/plain": [
       "False"
      ]
     },
     "execution_count": 61,
     "metadata": {},
     "output_type": "execute_result"
    }
   ],
   "source": [
    "100 in l2"
   ]
  },
  {
   "cell_type": "code",
   "execution_count": 63,
   "id": "89c26d86-c583-4ab4-87be-c1e31f425af1",
   "metadata": {},
   "outputs": [
    {
     "data": {
      "text/plain": [
       "True"
      ]
     },
     "execution_count": 63,
     "metadata": {},
     "output_type": "execute_result"
    }
   ],
   "source": [
    "12 in l2"
   ]
  },
  {
   "cell_type": "code",
   "execution_count": 64,
   "id": "54ff9f2b-5c62-4e91-aa4c-80d80689813c",
   "metadata": {},
   "outputs": [
    {
     "data": {
      "text/plain": [
       "[12, 67, 78, 10, 12, 67, 12, 67, 78, 10, 12, 67]"
      ]
     },
     "execution_count": 64,
     "metadata": {},
     "output_type": "execute_result"
    }
   ],
   "source": [
    "l2 * 2"
   ]
  },
  {
   "cell_type": "code",
   "execution_count": 65,
   "id": "57535124-5f53-4818-befc-e54f38400bac",
   "metadata": {},
   "outputs": [
    {
     "data": {
      "text/plain": [
       "[12, 67, 78, 10, 12, 67, 10, 100]"
      ]
     },
     "execution_count": 65,
     "metadata": {},
     "output_type": "execute_result"
    }
   ],
   "source": [
    "l2 +[10,100]"
   ]
  },
  {
   "cell_type": "code",
   "execution_count": 66,
   "id": "4bc51f29-edc2-4f25-ba2a-ae2bf95fde04",
   "metadata": {},
   "outputs": [
    {
     "data": {
      "text/plain": [
       "[12, 67, 78, 10, 12, 67, 23, 34, 56, 'false', 'pune', 23]"
      ]
     },
     "execution_count": 66,
     "metadata": {},
     "output_type": "execute_result"
    }
   ],
   "source": [
    "l2 + l"
   ]
  },
  {
   "cell_type": "code",
   "execution_count": 67,
   "id": "24b42ce8-ea9d-4316-968b-6d2041abf0c1",
   "metadata": {},
   "outputs": [],
   "source": [
    "# iterate over l1 and square all number in list"
   ]
  },
  {
   "cell_type": "code",
   "execution_count": 68,
   "id": "fa66ed63-0718-4c82-8b88-880a5c37c7ae",
   "metadata": {},
   "outputs": [],
   "source": [
    "l1 = [12,56,78,97]"
   ]
  },
  {
   "cell_type": "code",
   "execution_count": 69,
   "id": "d3ccc098-54bd-4118-a893-2a8984fd5aa7",
   "metadata": {},
   "outputs": [
    {
     "data": {
      "text/plain": [
       "[12, 56, 78, 97]"
      ]
     },
     "execution_count": 69,
     "metadata": {},
     "output_type": "execute_result"
    }
   ],
   "source": [
    "l1"
   ]
  },
  {
   "cell_type": "code",
   "execution_count": 70,
   "id": "ebef878f-5920-4d8f-a948-c603d92cbf65",
   "metadata": {},
   "outputs": [
    {
     "name": "stdout",
     "output_type": "stream",
     "text": [
      "144 3136 6084 9409 "
     ]
    }
   ],
   "source": [
    "for i in l1:\n",
    "    print(i*i, end = \" \")"
   ]
  },
  {
   "cell_type": "code",
   "execution_count": 71,
   "id": "bc86c772-987e-4aa0-ad8f-c8b32c769318",
   "metadata": {},
   "outputs": [],
   "source": [
    "# print odd number"
   ]
  },
  {
   "cell_type": "code",
   "execution_count": 73,
   "id": "07568da8-6078-4608-9342-9c94afa4088b",
   "metadata": {},
   "outputs": [
    {
     "name": "stdout",
     "output_type": "stream",
     "text": [
      "97\n"
     ]
    }
   ],
   "source": [
    "for i in l1:\n",
    "    if i % 2 != 0:\n",
    "       print(i)"
   ]
  },
  {
   "cell_type": "code",
   "execution_count": 74,
   "id": "4cda8c0b-fec1-41a2-8c27-05b4178c6cd9",
   "metadata": {},
   "outputs": [],
   "source": [
    "# list comprehension"
   ]
  },
  {
   "cell_type": "code",
   "execution_count": 75,
   "id": "78419bda-a309-4c98-8069-538ae2b72fda",
   "metadata": {},
   "outputs": [
    {
     "data": {
      "text/plain": [
       "[12, 56, 78, 97]"
      ]
     },
     "execution_count": 75,
     "metadata": {},
     "output_type": "execute_result"
    }
   ],
   "source": [
    "l1 "
   ]
  },
  {
   "cell_type": "code",
   "execution_count": 76,
   "id": "76fabf22-db87-4e69-8a1d-b86f743b0ac8",
   "metadata": {},
   "outputs": [
    {
     "data": {
      "text/plain": [
       "[144, 3136, 6084, 9409]"
      ]
     },
     "execution_count": 76,
     "metadata": {},
     "output_type": "execute_result"
    }
   ],
   "source": [
    "# map\n",
    "new1 = [ i * i for i in l1]\n",
    "new1"
   ]
  },
  {
   "cell_type": "code",
   "execution_count": 77,
   "id": "2987153c-1c31-43aa-9e70-6984d1be679d",
   "metadata": {},
   "outputs": [
    {
     "data": {
      "text/plain": [
       "list"
      ]
     },
     "execution_count": 77,
     "metadata": {},
     "output_type": "execute_result"
    }
   ],
   "source": [
    "type(new1)"
   ]
  },
  {
   "cell_type": "code",
   "execution_count": 78,
   "id": "faba0a80-2691-440d-94a6-f5508206ab6b",
   "metadata": {},
   "outputs": [],
   "source": [
    "# create list having half of value"
   ]
  },
  {
   "cell_type": "code",
   "execution_count": 83,
   "id": "4ecc3fcf-f01f-4247-910c-dd58057e0ac0",
   "metadata": {},
   "outputs": [],
   "source": [
    "# odd number"
   ]
  },
  {
   "cell_type": "code",
   "execution_count": 84,
   "id": "b80bca02-8b91-4be4-be09-e72d77d17d06",
   "metadata": {},
   "outputs": [
    {
     "data": {
      "text/plain": [
       "[9]"
      ]
     },
     "execution_count": 84,
     "metadata": {},
     "output_type": "execute_result"
    }
   ],
   "source": [
    "n1 = [ i for i in l3 if i % 2 != 0]\n",
    "n1"
   ]
  },
  {
   "cell_type": "code",
   "execution_count": 98,
   "id": "3829f2c9-99b1-494d-8fb6-ea3ad5590d11",
   "metadata": {},
   "outputs": [],
   "source": [
    "name = ['tanushree', 'Palak','aaditi','kalyani','shravani','dhanashree','pooja','vaishnavi','siddhi','mohini','shruti']"
   ]
  },
  {
   "cell_type": "code",
   "execution_count": 87,
   "id": "bdcf2128-a531-4aec-ab06-2a57aee8b534",
   "metadata": {},
   "outputs": [],
   "source": [
    "# create a list having only those name start with p "
   ]
  },
  {
   "cell_type": "code",
   "execution_count": 105,
   "id": "8ba61df2-ebe4-4819-b7c6-8bc49991afca",
   "metadata": {},
   "outputs": [
    {
     "name": "stdout",
     "output_type": "stream",
     "text": [
      "97\n"
     ]
    },
    {
     "data": {
      "text/plain": [
       "['Palak', 'pooja']"
      ]
     },
     "execution_count": 105,
     "metadata": {},
     "output_type": "execute_result"
    }
   ],
   "source": [
    "new4 = [i for i in name if i[0] == 'p' or i[0]=='P']\n",
    "print(i)\n",
    "new4"
   ]
  },
  {
   "cell_type": "code",
   "execution_count": 107,
   "id": "d0208e10-975b-477d-ad57-0ab9b0c484d9",
   "metadata": {},
   "outputs": [
    {
     "data": {
      "text/plain": [
       "['Palak', 'pooja']"
      ]
     },
     "execution_count": 107,
     "metadata": {},
     "output_type": "execute_result"
    }
   ],
   "source": [
    "new4 = [i for i in name if i.lower().startswith('p')]\n",
    "new4"
   ]
  },
  {
   "cell_type": "code",
   "execution_count": 108,
   "id": "8065a36c-29ab-443b-ab97-e5ec3ffbf395",
   "metadata": {},
   "outputs": [],
   "source": [
    "a = ()"
   ]
  },
  {
   "cell_type": "code",
   "execution_count": 109,
   "id": "195269b1-1e0b-4e03-b692-35175f0f8568",
   "metadata": {},
   "outputs": [
    {
     "data": {
      "text/plain": [
       "()"
      ]
     },
     "execution_count": 109,
     "metadata": {},
     "output_type": "execute_result"
    }
   ],
   "source": [
    "a"
   ]
  },
  {
   "cell_type": "code",
   "execution_count": 110,
   "id": "73cbf12c-4441-4af6-9f4f-c3e36a9cd13b",
   "metadata": {},
   "outputs": [
    {
     "ename": "IndexError",
     "evalue": "tuple index out of range",
     "output_type": "error",
     "traceback": [
      "\u001b[1;31m---------------------------------------------------------------------------\u001b[0m",
      "\u001b[1;31mIndexError\u001b[0m                                Traceback (most recent call last)",
      "Cell \u001b[1;32mIn[110], line 1\u001b[0m\n\u001b[1;32m----> 1\u001b[0m a [\u001b[38;5;241m0\u001b[39m]\n",
      "\u001b[1;31mIndexError\u001b[0m: tuple index out of range"
     ]
    }
   ],
   "source": [
    "a [0]"
   ]
  },
  {
   "cell_type": "code",
   "execution_count": 111,
   "id": "002f145e-d439-49d1-82f5-9cc85e324f46",
   "metadata": {},
   "outputs": [],
   "source": [
    "# list decomposition"
   ]
  },
  {
   "cell_type": "code",
   "execution_count": 112,
   "id": "34d74c81-4d02-40fc-9622-6c2c55ad1684",
   "metadata": {},
   "outputs": [],
   "source": [
    "l = [ 12,23,45]"
   ]
  },
  {
   "cell_type": "code",
   "execution_count": 113,
   "id": "62795c3b-c6f3-4a1b-a715-aa5938637830",
   "metadata": {},
   "outputs": [],
   "source": [
    "x,y,z = l "
   ]
  },
  {
   "cell_type": "code",
   "execution_count": 114,
   "id": "baebfe21-afaa-4074-a056-6b00b22e72f7",
   "metadata": {},
   "outputs": [
    {
     "data": {
      "text/plain": [
       "12"
      ]
     },
     "execution_count": 114,
     "metadata": {},
     "output_type": "execute_result"
    }
   ],
   "source": [
    "x"
   ]
  },
  {
   "cell_type": "code",
   "execution_count": 115,
   "id": "89126293-d81d-43be-a696-949668a660e0",
   "metadata": {},
   "outputs": [
    {
     "data": {
      "text/plain": [
       "45"
      ]
     },
     "execution_count": 115,
     "metadata": {},
     "output_type": "execute_result"
    }
   ],
   "source": [
    "z"
   ]
  },
  {
   "cell_type": "code",
   "execution_count": 116,
   "id": "330700df-86bf-4899-8dc6-b1e199e84273",
   "metadata": {},
   "outputs": [],
   "source": [
    "# function "
   ]
  },
  {
   "cell_type": "code",
   "execution_count": 117,
   "id": "10ec225e-c4b9-4ceb-8c3d-e85d3ce68bd9",
   "metadata": {},
   "outputs": [
    {
     "data": {
      "text/plain": [
       "[12, 56, 78, 97]"
      ]
     },
     "execution_count": 117,
     "metadata": {},
     "output_type": "execute_result"
    }
   ],
   "source": [
    "l1"
   ]
  },
  {
   "cell_type": "code",
   "execution_count": 118,
   "id": "a3877de7-e995-4637-8445-b5f74d2fa279",
   "metadata": {},
   "outputs": [
    {
     "data": {
      "text/plain": [
       "4"
      ]
     },
     "execution_count": 118,
     "metadata": {},
     "output_type": "execute_result"
    }
   ],
   "source": [
    "len(l1)"
   ]
  },
  {
   "cell_type": "code",
   "execution_count": 119,
   "id": "b8b677d2-73b9-4adc-bec3-5f468eae8f81",
   "metadata": {},
   "outputs": [
    {
     "data": {
      "text/plain": [
       "243"
      ]
     },
     "execution_count": 119,
     "metadata": {},
     "output_type": "execute_result"
    }
   ],
   "source": [
    "sum(l1)"
   ]
  },
  {
   "cell_type": "code",
   "execution_count": 120,
   "id": "82cb078a-374d-4fe8-8498-b653085d70bf",
   "metadata": {},
   "outputs": [
    {
     "data": {
      "text/plain": [
       "[12, 56, 78, 97]"
      ]
     },
     "execution_count": 120,
     "metadata": {},
     "output_type": "execute_result"
    }
   ],
   "source": [
    "sorted(l1)"
   ]
  },
  {
   "cell_type": "code",
   "execution_count": 121,
   "id": "baa90d77-f846-4394-84dd-c2033d3b695f",
   "metadata": {},
   "outputs": [
    {
     "data": {
      "text/plain": [
       "[97, 78, 56, 12]"
      ]
     },
     "execution_count": 121,
     "metadata": {},
     "output_type": "execute_result"
    }
   ],
   "source": [
    "sorted(l1, reverse = True)"
   ]
  },
  {
   "cell_type": "code",
   "execution_count": 122,
   "id": "3a3d1ee2-f382-4e1b-bb81-ad26b7aed31d",
   "metadata": {},
   "outputs": [],
   "source": [
    "name = 'pune'"
   ]
  },
  {
   "cell_type": "code",
   "execution_count": 123,
   "id": "4998e8eb-b5dd-46e8-84d3-36c83f672b94",
   "metadata": {},
   "outputs": [
    {
     "data": {
      "text/plain": [
       "['p', 'u', 'n', 'e']"
      ]
     },
     "execution_count": 123,
     "metadata": {},
     "output_type": "execute_result"
    }
   ],
   "source": [
    "list(name)"
   ]
  },
  {
   "cell_type": "code",
   "execution_count": 124,
   "id": "d6554fa6-405c-4add-a89f-de318b6b42ba",
   "metadata": {},
   "outputs": [],
   "source": [
    "# method "
   ]
  },
  {
   "cell_type": "code",
   "execution_count": 125,
   "id": "b4f46638-6147-46ca-8b59-3c3e1fbbf48c",
   "metadata": {},
   "outputs": [],
   "source": [
    "# adding the element at end "
   ]
  },
  {
   "cell_type": "code",
   "execution_count": 126,
   "id": "94b76135-7021-494b-8c0c-eab3c5835586",
   "metadata": {},
   "outputs": [
    {
     "data": {
      "text/plain": [
       "[12, 56, 78, 97]"
      ]
     },
     "execution_count": 126,
     "metadata": {},
     "output_type": "execute_result"
    }
   ],
   "source": [
    "l1\n"
   ]
  },
  {
   "cell_type": "code",
   "execution_count": 132,
   "id": "f8b9bab0-273b-479d-96c6-140e3886f66d",
   "metadata": {},
   "outputs": [],
   "source": [
    "l1.append(100)"
   ]
  },
  {
   "cell_type": "code",
   "execution_count": 128,
   "id": "c7bfa28a-e145-4365-a885-9c7e5270ab8a",
   "metadata": {},
   "outputs": [
    {
     "data": {
      "text/plain": [
       "[12, 56, 78, 97, 100]"
      ]
     },
     "execution_count": 128,
     "metadata": {},
     "output_type": "execute_result"
    }
   ],
   "source": [
    "l1"
   ]
  },
  {
   "cell_type": "code",
   "execution_count": 129,
   "id": "0014b311-925d-45a4-b07e-c92ea72572b8",
   "metadata": {},
   "outputs": [],
   "source": [
    "#append and extend "
   ]
  },
  {
   "cell_type": "code",
   "execution_count": 130,
   "id": "c24d99a1-9605-4571-aab3-5d7f5fdf671b",
   "metadata": {},
   "outputs": [],
   "source": [
    "n1 = [12 , 13, 14]\n",
    "n2 = [12 , 13 , 14]"
   ]
  },
  {
   "cell_type": "code",
   "execution_count": 140,
   "id": "1b1515bf-2dd6-45e4-988e-3d6b0ad01a00",
   "metadata": {},
   "outputs": [],
   "source": [
    "n1.append([100,200])\n",
    "n2.extend([100,200])"
   ]
  },
  {
   "cell_type": "code",
   "execution_count": 141,
   "id": "7fb63b41-efab-4e2c-9965-7e7275c9c3ee",
   "metadata": {},
   "outputs": [
    {
     "data": {
      "text/plain": [
       "[12, 13, 14, (100, 200), 100, 200, (100, 200), [100, 200], [100, 200]]"
      ]
     },
     "execution_count": 141,
     "metadata": {},
     "output_type": "execute_result"
    }
   ],
   "source": [
    "n1"
   ]
  },
  {
   "cell_type": "code",
   "execution_count": 137,
   "id": "924ef983-fb89-45f5-b3ba-b58c663cb46d",
   "metadata": {},
   "outputs": [
    {
     "data": {
      "text/plain": [
       "[12, 13, 14, 100, 200]"
      ]
     },
     "execution_count": 137,
     "metadata": {},
     "output_type": "execute_result"
    }
   ],
   "source": [
    "n2"
   ]
  },
  {
   "cell_type": "code",
   "execution_count": 142,
   "id": "bb62fd3d-d964-4e8e-bafd-321c608b90fc",
   "metadata": {},
   "outputs": [
    {
     "data": {
      "text/plain": [
       "(100, 200)"
      ]
     },
     "execution_count": 142,
     "metadata": {},
     "output_type": "execute_result"
    }
   ],
   "source": [
    "n1[3]"
   ]
  },
  {
   "cell_type": "code",
   "execution_count": 149,
   "id": "f8617ef0-6a6d-4269-b171-0266e87d3960",
   "metadata": {},
   "outputs": [
    {
     "data": {
      "text/plain": [
       "100"
      ]
     },
     "execution_count": 149,
     "metadata": {},
     "output_type": "execute_result"
    }
   ],
   "source": [
    "n1[3][0]"
   ]
  },
  {
   "cell_type": "code",
   "execution_count": 150,
   "id": "14e734ea-8a16-4d37-9956-7538eb11ad6f",
   "metadata": {},
   "outputs": [
    {
     "data": {
      "text/plain": [
       "[12, 56, 78, 97, 100, 100]"
      ]
     },
     "execution_count": 150,
     "metadata": {},
     "output_type": "execute_result"
    }
   ],
   "source": [
    "l1"
   ]
  },
  {
   "cell_type": "code",
   "execution_count": 151,
   "id": "0d14cad1-8b13-4f14-aac9-0ee2de76c44d",
   "metadata": {},
   "outputs": [],
   "source": [
    "l1.insert(1,1000)"
   ]
  },
  {
   "cell_type": "code",
   "execution_count": 152,
   "id": "5e34419c-8189-4d86-9c8f-275cb7e0a4a5",
   "metadata": {},
   "outputs": [
    {
     "data": {
      "text/plain": [
       "[12, 1000, 56, 78, 97, 100, 100]"
      ]
     },
     "execution_count": 152,
     "metadata": {},
     "output_type": "execute_result"
    }
   ],
   "source": [
    "l1"
   ]
  },
  {
   "cell_type": "code",
   "execution_count": 153,
   "id": "62c003d7-620a-46d4-ac26-19de1b037fbf",
   "metadata": {},
   "outputs": [],
   "source": [
    "l1.remove(1000)"
   ]
  },
  {
   "cell_type": "code",
   "execution_count": 154,
   "id": "3c614c99-7143-4f9c-9739-46fdda3f2b65",
   "metadata": {},
   "outputs": [
    {
     "data": {
      "text/plain": [
       "[12, 56, 78, 97, 100, 100]"
      ]
     },
     "execution_count": 154,
     "metadata": {},
     "output_type": "execute_result"
    }
   ],
   "source": [
    "l1"
   ]
  },
  {
   "cell_type": "code",
   "execution_count": 155,
   "id": "391e9cf6-2a17-4da4-8d4f-129992977896",
   "metadata": {},
   "outputs": [
    {
     "data": {
      "text/plain": [
       "100"
      ]
     },
     "execution_count": 155,
     "metadata": {},
     "output_type": "execute_result"
    }
   ],
   "source": [
    "l1.pop()"
   ]
  },
  {
   "cell_type": "code",
   "execution_count": 156,
   "id": "e6929d6c-a3d0-462f-85d6-1b540efbb028",
   "metadata": {},
   "outputs": [
    {
     "data": {
      "text/plain": [
       "56"
      ]
     },
     "execution_count": 156,
     "metadata": {},
     "output_type": "execute_result"
    }
   ],
   "source": [
    "l1.pop(1)"
   ]
  },
  {
   "cell_type": "code",
   "execution_count": 159,
   "id": "2a9a23af-f905-4faa-82b0-73095fb3c3a8",
   "metadata": {},
   "outputs": [
    {
     "data": {
      "text/plain": [
       "1"
      ]
     },
     "execution_count": 159,
     "metadata": {},
     "output_type": "execute_result"
    }
   ],
   "source": [
    "l1.index(78)"
   ]
  },
  {
   "cell_type": "code",
   "execution_count": 160,
   "id": "da346692-78e6-46d7-b860-607b37b6fb4c",
   "metadata": {},
   "outputs": [
    {
     "data": {
      "text/plain": [
       "1"
      ]
     },
     "execution_count": 160,
     "metadata": {},
     "output_type": "execute_result"
    }
   ],
   "source": [
    "l1.count(12)"
   ]
  },
  {
   "cell_type": "code",
   "execution_count": 161,
   "id": "f5df8fbc-e9f4-43d3-b802-21450c4fa167",
   "metadata": {},
   "outputs": [
    {
     "data": {
      "text/plain": [
       "[12, 13, 14, (100, 200), 100, 200, (100, 200), [100, 200], [100, 200]]"
      ]
     },
     "execution_count": 161,
     "metadata": {},
     "output_type": "execute_result"
    }
   ],
   "source": [
    "n1"
   ]
  },
  {
   "cell_type": "code",
   "execution_count": 162,
   "id": "0d14ed82-507c-4493-b5df-af9ff6f7a8d4",
   "metadata": {},
   "outputs": [],
   "source": [
    "c1 = n1"
   ]
  },
  {
   "cell_type": "code",
   "execution_count": 163,
   "id": "14064fcf-d4b7-49b9-963f-047772735308",
   "metadata": {},
   "outputs": [
    {
     "data": {
      "text/plain": [
       "[12, 13, 14, (100, 200), 100, 200, (100, 200), [100, 200], [100, 200]]"
      ]
     },
     "execution_count": 163,
     "metadata": {},
     "output_type": "execute_result"
    }
   ],
   "source": [
    "c1"
   ]
  },
  {
   "cell_type": "code",
   "execution_count": 164,
   "id": "d4dccfed-ea9c-4441-b120-d5644edb3ec9",
   "metadata": {},
   "outputs": [
    {
     "data": {
      "text/plain": [
       "[12, 13, 14, (100, 200), 100, 200, (100, 200), [100, 200], [100, 200], 1000]"
      ]
     },
     "execution_count": 164,
     "metadata": {},
     "output_type": "execute_result"
    }
   ],
   "source": [
    "n1.append(1000)\n",
    "n1"
   ]
  },
  {
   "cell_type": "code",
   "execution_count": 165,
   "id": "46894718-71b3-41f1-902d-8c09cb663d55",
   "metadata": {},
   "outputs": [],
   "source": [
    "n1 = c1.copy()\n"
   ]
  },
  {
   "cell_type": "code",
   "execution_count": 166,
   "id": "a18fb1da-c562-44de-8225-0ca016bd44dc",
   "metadata": {},
   "outputs": [
    {
     "data": {
      "text/plain": [
       "[12, 13, 14, (100, 200), 100, 200, (100, 200), [100, 200], [100, 200], 1000]"
      ]
     },
     "execution_count": 166,
     "metadata": {},
     "output_type": "execute_result"
    }
   ],
   "source": [
    "n1"
   ]
  },
  {
   "cell_type": "code",
   "execution_count": 169,
   "id": "c3474245-d33f-43af-922b-d25a366306d4",
   "metadata": {},
   "outputs": [],
   "source": [
    "n1.append(23)"
   ]
  },
  {
   "cell_type": "code",
   "execution_count": 168,
   "id": "a5935c75-6855-4f31-b807-7f3b94a27c69",
   "metadata": {},
   "outputs": [
    {
     "data": {
      "text/plain": [
       "[12,\n",
       " 13,\n",
       " 14,\n",
       " (100, 200),\n",
       " 100,\n",
       " 200,\n",
       " (100, 200),\n",
       " [100, 200],\n",
       " [100, 200],\n",
       " 1000,\n",
       " 23]"
      ]
     },
     "execution_count": 168,
     "metadata": {},
     "output_type": "execute_result"
    }
   ],
   "source": [
    "n1"
   ]
  },
  {
   "cell_type": "code",
   "execution_count": 170,
   "id": "9b246771-b2c0-4191-9c21-9c7d4ec6c27d",
   "metadata": {},
   "outputs": [
    {
     "data": {
      "text/plain": [
       "[12, 13, 14, (100, 200), 100, 200, (100, 200), [100, 200], [100, 200], 1000]"
      ]
     },
     "execution_count": 170,
     "metadata": {},
     "output_type": "execute_result"
    }
   ],
   "source": [
    "c1"
   ]
  },
  {
   "cell_type": "code",
   "execution_count": 175,
   "id": "0c31f02f-3164-4335-a95c-ad2b718290fc",
   "metadata": {},
   "outputs": [],
   "source": [
    "n1[7][0] = 21"
   ]
  },
  {
   "cell_type": "code",
   "execution_count": 176,
   "id": "b574fc29-0d22-4593-94c7-c8c22e434281",
   "metadata": {},
   "outputs": [
    {
     "data": {
      "text/plain": [
       "[12, 13, 14, (100, 200), 100, 200, (100, 200), [21, 200], [100, 200], 1000]"
      ]
     },
     "execution_count": 176,
     "metadata": {},
     "output_type": "execute_result"
    }
   ],
   "source": [
    "c1"
   ]
  },
  {
   "cell_type": "code",
   "execution_count": 177,
   "id": "16d47088-383c-407b-83b5-00b8c4e31746",
   "metadata": {},
   "outputs": [],
   "source": [
    "l5= [ 12, 34, 45,67,45,90,11]"
   ]
  },
  {
   "cell_type": "code",
   "execution_count": 178,
   "id": "cca63142-9dac-439d-8054-01376046225f",
   "metadata": {},
   "outputs": [],
   "source": [
    "# iterate over the list and print index .> value "
   ]
  },
  {
   "cell_type": "code",
   "execution_count": 187,
   "id": "6368faa7-4c63-42be-82e2-d6805a5977c9",
   "metadata": {},
   "outputs": [
    {
     "name": "stdout",
     "output_type": "stream",
     "text": [
      " 0.> 12\n",
      " 1.> 34\n",
      " 2.> 45\n",
      " 3.> 67\n",
      " 4.> 45\n",
      " 5.> 90\n",
      " 6.> 11\n"
     ]
    }
   ],
   "source": [
    "for i in range(len(l5)):\n",
    "    print(f\" {i}.> {l5[i]}\")"
   ]
  },
  {
   "cell_type": "code",
   "execution_count": 188,
   "id": "f908dadd-67ea-42f6-b360-65c81ee12f4b",
   "metadata": {},
   "outputs": [
    {
     "name": "stdout",
     "output_type": "stream",
     "text": [
      "0 .> 12\n",
      "1 .> 34\n",
      "2 .> 45\n",
      "3 .> 67\n",
      "4 .> 45\n",
      "5 .> 90\n",
      "6 .> 11\n"
     ]
    }
   ],
   "source": [
    "for ind, val in enumerate(l5):\n",
    "    print(f\"{ind} .> {val}\")"
   ]
  },
  {
   "cell_type": "code",
   "execution_count": 189,
   "id": "b08c4f1b-4c36-44bb-a2b4-2fc5b0cb0143",
   "metadata": {},
   "outputs": [
    {
     "data": {
      "text/plain": [
       "[12, 23, 45]"
      ]
     },
     "execution_count": 189,
     "metadata": {},
     "output_type": "execute_result"
    }
   ],
   "source": [
    "l"
   ]
  },
  {
   "cell_type": "code",
   "execution_count": 190,
   "id": "9c4da885-1ecf-4046-be0a-1ba7e292eea7",
   "metadata": {},
   "outputs": [],
   "source": [
    "l.clear()"
   ]
  },
  {
   "cell_type": "code",
   "execution_count": 191,
   "id": "b8b8a6ad-dc34-430f-9031-0910813ee33e",
   "metadata": {},
   "outputs": [
    {
     "data": {
      "text/plain": [
       "[]"
      ]
     },
     "execution_count": 191,
     "metadata": {},
     "output_type": "execute_result"
    }
   ],
   "source": [
    "l"
   ]
  },
  {
   "cell_type": "code",
   "execution_count": 192,
   "id": "202dbc07-f8af-4451-8b53-49de12a61e16",
   "metadata": {
    "collapsed": true,
    "jupyter": {
     "outputs_hidden": true
    },
    "scrolled": true
   },
   "outputs": [
    {
     "name": "stdout",
     "output_type": "stream",
     "text": [
      "Help on class list in module builtins:\n",
      "\n",
      "class list(object)\n",
      " |  list(iterable=(), /)\n",
      " |\n",
      " |  Built-in mutable sequence.\n",
      " |\n",
      " |  If no argument is given, the constructor creates a new empty list.\n",
      " |  The argument must be an iterable if specified.\n",
      " |\n",
      " |  Methods defined here:\n",
      " |\n",
      " |  __add__(self, value, /)\n",
      " |      Return self+value.\n",
      " |\n",
      " |  __contains__(self, key, /)\n",
      " |      Return bool(key in self).\n",
      " |\n",
      " |  __delitem__(self, key, /)\n",
      " |      Delete self[key].\n",
      " |\n",
      " |  __eq__(self, value, /)\n",
      " |      Return self==value.\n",
      " |\n",
      " |  __ge__(self, value, /)\n",
      " |      Return self>=value.\n",
      " |\n",
      " |  __getattribute__(self, name, /)\n",
      " |      Return getattr(self, name).\n",
      " |\n",
      " |  __getitem__(self, index, /)\n",
      " |      Return self[index].\n",
      " |\n",
      " |  __gt__(self, value, /)\n",
      " |      Return self>value.\n",
      " |\n",
      " |  __iadd__(self, value, /)\n",
      " |      Implement self+=value.\n",
      " |\n",
      " |  __imul__(self, value, /)\n",
      " |      Implement self*=value.\n",
      " |\n",
      " |  __init__(self, /, *args, **kwargs)\n",
      " |      Initialize self.  See help(type(self)) for accurate signature.\n",
      " |\n",
      " |  __iter__(self, /)\n",
      " |      Implement iter(self).\n",
      " |\n",
      " |  __le__(self, value, /)\n",
      " |      Return self<=value.\n",
      " |\n",
      " |  __len__(self, /)\n",
      " |      Return len(self).\n",
      " |\n",
      " |  __lt__(self, value, /)\n",
      " |      Return self<value.\n",
      " |\n",
      " |  __mul__(self, value, /)\n",
      " |      Return self*value.\n",
      " |\n",
      " |  __ne__(self, value, /)\n",
      " |      Return self!=value.\n",
      " |\n",
      " |  __repr__(self, /)\n",
      " |      Return repr(self).\n",
      " |\n",
      " |  __reversed__(self, /)\n",
      " |      Return a reverse iterator over the list.\n",
      " |\n",
      " |  __rmul__(self, value, /)\n",
      " |      Return value*self.\n",
      " |\n",
      " |  __setitem__(self, key, value, /)\n",
      " |      Set self[key] to value.\n",
      " |\n",
      " |  __sizeof__(self, /)\n",
      " |      Return the size of the list in memory, in bytes.\n",
      " |\n",
      " |  append(self, object, /)\n",
      " |      Append object to the end of the list.\n",
      " |\n",
      " |  clear(self, /)\n",
      " |      Remove all items from list.\n",
      " |\n",
      " |  copy(self, /)\n",
      " |      Return a shallow copy of the list.\n",
      " |\n",
      " |  count(self, value, /)\n",
      " |      Return number of occurrences of value.\n",
      " |\n",
      " |  extend(self, iterable, /)\n",
      " |      Extend list by appending elements from the iterable.\n",
      " |\n",
      " |  index(self, value, start=0, stop=9223372036854775807, /)\n",
      " |      Return first index of value.\n",
      " |\n",
      " |      Raises ValueError if the value is not present.\n",
      " |\n",
      " |  insert(self, index, object, /)\n",
      " |      Insert object before index.\n",
      " |\n",
      " |  pop(self, index=-1, /)\n",
      " |      Remove and return item at index (default last).\n",
      " |\n",
      " |      Raises IndexError if list is empty or index is out of range.\n",
      " |\n",
      " |  remove(self, value, /)\n",
      " |      Remove first occurrence of value.\n",
      " |\n",
      " |      Raises ValueError if the value is not present.\n",
      " |\n",
      " |  reverse(self, /)\n",
      " |      Reverse *IN PLACE*.\n",
      " |\n",
      " |  sort(self, /, *, key=None, reverse=False)\n",
      " |      Sort the list in ascending order and return None.\n",
      " |\n",
      " |      The sort is in-place (i.e. the list itself is modified) and stable (i.e. the\n",
      " |      order of two equal elements is maintained).\n",
      " |\n",
      " |      If a key function is given, apply it once to each list item and sort them,\n",
      " |      ascending or descending, according to their function values.\n",
      " |\n",
      " |      The reverse flag can be set to sort in descending order.\n",
      " |\n",
      " |  ----------------------------------------------------------------------\n",
      " |  Class methods defined here:\n",
      " |\n",
      " |  __class_getitem__(...)\n",
      " |      See PEP 585\n",
      " |\n",
      " |  ----------------------------------------------------------------------\n",
      " |  Static methods defined here:\n",
      " |\n",
      " |  __new__(*args, **kwargs)\n",
      " |      Create and return a new object.  See help(type) for accurate signature.\n",
      " |\n",
      " |  ----------------------------------------------------------------------\n",
      " |  Data and other attributes defined here:\n",
      " |\n",
      " |  __hash__ = None\n",
      "\n"
     ]
    }
   ],
   "source": [
    "help(list)"
   ]
  },
  {
   "cell_type": "code",
   "execution_count": 193,
   "id": "6b9b58e2-e292-4377-bd6c-b18b4e73611e",
   "metadata": {},
   "outputs": [],
   "source": [
    "my_list = [10,20,30,40,50,60]\n"
   ]
  },
  {
   "cell_type": "code",
   "execution_count": 194,
   "id": "127498ed-ec3e-4ed6-a7c0-bba21a30ac56",
   "metadata": {},
   "outputs": [],
   "source": [
    "my_list[2]=35"
   ]
  },
  {
   "cell_type": "code",
   "execution_count": 195,
   "id": "2f5df258-d249-47e9-8c6d-f4895f5bed88",
   "metadata": {},
   "outputs": [
    {
     "data": {
      "text/plain": [
       "[10, 20, 35, 40, 50, 60]"
      ]
     },
     "execution_count": 195,
     "metadata": {},
     "output_type": "execute_result"
    }
   ],
   "source": [
    "my_list"
   ]
  },
  {
   "cell_type": "code",
   "execution_count": 196,
   "id": "2715bbe6-4031-4c30-a4dd-4181e3575512",
   "metadata": {},
   "outputs": [],
   "source": [
    "my_list.append(70)"
   ]
  },
  {
   "cell_type": "code",
   "execution_count": 197,
   "id": "25b04e15-dfc6-421e-8f67-f6f56bd527fc",
   "metadata": {},
   "outputs": [
    {
     "data": {
      "text/plain": [
       "[10, 20, 35, 40, 50, 60, 70]"
      ]
     },
     "execution_count": 197,
     "metadata": {},
     "output_type": "execute_result"
    }
   ],
   "source": [
    "my_list"
   ]
  },
  {
   "cell_type": "code",
   "execution_count": 198,
   "id": "4fc1d2df-2a3b-40ae-9cee-7e935b459284",
   "metadata": {},
   "outputs": [],
   "source": [
    "my_list[0]=5"
   ]
  },
  {
   "cell_type": "code",
   "execution_count": 199,
   "id": "22d57f28-5d51-4146-be80-2ca629919710",
   "metadata": {},
   "outputs": [
    {
     "data": {
      "text/plain": [
       "[5, 20, 35, 40, 50, 60, 70]"
      ]
     },
     "execution_count": 199,
     "metadata": {},
     "output_type": "execute_result"
    }
   ],
   "source": [
    "my_list"
   ]
  },
  {
   "cell_type": "code",
   "execution_count": 200,
   "id": "9cde72d1-5c83-4149-8d94-e1c3c000ac88",
   "metadata": {},
   "outputs": [],
   "source": [
    "my_list.remove(40)"
   ]
  },
  {
   "cell_type": "code",
   "execution_count": 201,
   "id": "ce0b4b17-02fb-49f4-ab89-ba0574e998cf",
   "metadata": {},
   "outputs": [
    {
     "data": {
      "text/plain": [
       "[5, 20, 35, 50, 60, 70]"
      ]
     },
     "execution_count": 201,
     "metadata": {},
     "output_type": "execute_result"
    }
   ],
   "source": [
    "my_list"
   ]
  },
  {
   "cell_type": "code",
   "execution_count": 204,
   "id": "c3f26ffa-0973-4191-a35c-5d39a5bdbc4d",
   "metadata": {},
   "outputs": [
    {
     "name": "stdout",
     "output_type": "stream",
     "text": [
      "final list: [5, 20, 35, 50, 60, 70]\n"
     ]
    }
   ],
   "source": [
    "print(\"final list:\", (my_list))"
   ]
  },
  {
   "cell_type": "code",
   "execution_count": 206,
   "id": "aa2b0899-b54a-45d0-8d77-f029bba23782",
   "metadata": {},
   "outputs": [],
   "source": [
    "# 2"
   ]
  },
  {
   "cell_type": "code",
   "execution_count": 207,
   "id": "ac87b52c-6fcd-42d7-a896-367ad7e36abb",
   "metadata": {},
   "outputs": [
    {
     "name": "stdout",
     "output_type": "stream",
     "text": [
      "even no in list: 12\n",
      "even no in list: 40\n",
      "even no in list: 66\n"
     ]
    }
   ],
   "source": [
    "l = [ 12, 7 ,23,40,15,66,9]\n",
    "for i in l:\n",
    "    if i % 2 == 0:\n",
    "       print(f\"even no in list:\",i)"
   ]
  },
  {
   "cell_type": "code",
   "execution_count": 208,
   "id": "7682c188-7d89-4be7-b5f5-45d9f2adcdc6",
   "metadata": {},
   "outputs": [],
   "source": [
    "# 3 "
   ]
  },
  {
   "cell_type": "code",
   "execution_count": 211,
   "id": "520127de-b570-46e1-984c-4590acebb4d8",
   "metadata": {},
   "outputs": [
    {
     "name": "stdout",
     "output_type": "stream",
     "text": [
      "['elderberry', 'date', 'cherry', 'banana', 'apple']\n"
     ]
    }
   ],
   "source": [
    "l1 = ['apple','banana','cherry','date','elderberry']\n",
    "reverse = l1[::-1]\n",
    "print(reverse)\n"
   ]
  },
  {
   "cell_type": "code",
   "execution_count": 212,
   "id": "b6f2eb78-f665-4d67-8b60-c62feacdb7af",
   "metadata": {},
   "outputs": [],
   "source": [
    "# 4"
   ]
  },
  {
   "cell_type": "code",
   "execution_count": 1,
   "id": "a26b8fe4-57c5-4a55-8bca-7c2ac5e97e05",
   "metadata": {},
   "outputs": [
    {
     "name": "stdout",
     "output_type": "stream",
     "text": [
      "The largest number is: 17\n"
     ]
    }
   ],
   "source": [
    "values = [8, 2, 10, 5, 17, 3, 14]\n",
    "\n",
    "# Start by assuming the first element is the maximum\n",
    "max_value = values[0]\n",
    "\n",
    "# Iterate through the rest of the list\n",
    "for num in values[1:]:\n",
    "    if num > max_value:\n",
    "        max_value = num\n",
    "\n",
    "print(\"The largest number is:\", max_value)\n"
   ]
  },
  {
   "cell_type": "code",
   "execution_count": 2,
   "id": "197c18de-914d-4293-aa9e-bd3bc837153c",
   "metadata": {},
   "outputs": [],
   "source": [
    "# 5"
   ]
  },
  {
   "cell_type": "code",
   "execution_count": 3,
   "id": "9cefa15f-e313-4211-a59d-f57efe14c636",
   "metadata": {},
   "outputs": [
    {
     "name": "stdout",
     "output_type": "stream",
     "text": [
      "The count of 'red' is: 3\n"
     ]
    }
   ],
   "source": [
    "items = ['red', 'blue', 'green', 'red', 'yellow', 'blue', 'red']\n",
    "\n",
    "# Initialize a counter\n",
    "red_count = 0\n",
    "\n",
    "# Loop through each item in the list\n",
    "for color in items:\n",
    "    if color == 'red':\n",
    "        red_count += 1\n",
    "\n",
    "print(\"The count of 'red' is:\", red_count)\n"
   ]
  },
  {
   "cell_type": "code",
   "execution_count": 4,
   "id": "8c4c34a0-38df-49cc-b87b-fe9d4d2c79a6",
   "metadata": {},
   "outputs": [],
   "source": [
    "# 6 "
   ]
  },
  {
   "cell_type": "code",
   "execution_count": 5,
   "id": "1b61513a-ee5d-40ab-ac03-d01d948ced97",
   "metadata": {},
   "outputs": [
    {
     "name": "stdout",
     "output_type": "stream",
     "text": [
      "List after removing all 5s: [1, 2, 3, 4]\n"
     ]
    }
   ],
   "source": [
    "mixed_numbers = [1, 5, 2, 5, 3, 5, 4, 5]\n",
    "new_numbers = []\n",
    "\n",
    "for num in mixed_numbers:\n",
    "    if num != 5:\n",
    "        new_numbers.append(num)\n",
    "\n",
    "print(\"List after removing all 5s:\", new_numbers)\n"
   ]
  },
  {
   "cell_type": "code",
   "execution_count": 6,
   "id": "e6621dcc-396c-4931-b108-d5cd4f9862d4",
   "metadata": {},
   "outputs": [],
   "source": [
    "# 7"
   ]
  },
  {
   "cell_type": "code",
   "execution_count": 7,
   "id": "f358e23a-8f45-410a-8476-22fa13b00815",
   "metadata": {},
   "outputs": [
    {
     "name": "stdout",
     "output_type": "stream",
     "text": [
      "Checking list1:\n",
      "Palindrome\n",
      "Checking list2:\n",
      "Not a Palindrome\n"
     ]
    }
   ],
   "source": [
    "def is_palindrome(lst):\n",
    "    length = len(lst)\n",
    "    for i in range(length // 2):\n",
    "        if lst[i] != lst[length - 1 - i]:\n",
    "            print(\"Not a Palindrome\")\n",
    "            return\n",
    "    print(\"Palindrome\")\n",
    "\n",
    "list1 = [1, 2, 3, 2, 1]\n",
    "list2 = ['a', 'b', 'c', 'b', 'd']\n",
    "\n",
    "print(\"Checking list1:\")\n",
    "is_palindrome(list1)  \n",
    "\n",
    "print(\"Checking list2:\")\n",
    "is_palindrome(list2)  \n"
   ]
  },
  {
   "cell_type": "code",
   "execution_count": 8,
   "id": "c9434cde-77bb-462b-be8f-bef0e0ee721c",
   "metadata": {},
   "outputs": [],
   "source": [
    "# 8"
   ]
  },
  {
   "cell_type": "code",
   "execution_count": 9,
   "id": "49313152-ec56-4399-a9ff-85b228f498ac",
   "metadata": {},
   "outputs": [
    {
     "name": "stdout",
     "output_type": "stream",
     "text": [
      "Sorted list: [0, 1, 2, 3, 4, 5]\n"
     ]
    }
   ],
   "source": [
    "list_a = [3, 1, 4]\n",
    "list_b = [2, 5, 0]\n",
    "\n",
    "merged = list_a + list_b\n",
    "\n",
    "for i in range(len(merged)):\n",
    "    for j in range(len(merged) - 1):\n",
    "        if merged[j] > merged[j + 1]:\n",
    "            merged[j], merged[j + 1] = merged[j + 1], merged[j]\n",
    "\n",
    "print(\"Sorted list:\", merged)\n"
   ]
  },
  {
   "cell_type": "code",
   "execution_count": 10,
   "id": "412ca13c-93b4-4254-a3f3-81c20e64c6a5",
   "metadata": {},
   "outputs": [],
   "source": [
    "# 9"
   ]
  },
  {
   "cell_type": "code",
   "execution_count": 12,
   "id": "01c735d8-3271-427b-9223-f62e6740da35",
   "metadata": {},
   "outputs": [
    {
     "name": "stdout",
     "output_type": "stream",
     "text": [
      "Flattened list: [1, 2, 3, 4, 5, 6, 7, 8]\n"
     ]
    }
   ],
   "source": [
    "nested_list = [1, [2, 3], 4, [5, 6, 7], 8]\n",
    "\n",
    "flat_list = []\n",
    "\n",
    "for item in nested_list:\n",
    "    if isinstance(item, list):  # (isinstance) checks if item is present in list\n",
    "        # If the item is a list, add its elements to the flat list\n",
    "        for num in item:\n",
    "            flat_list.append(num)\n",
    "    else:\n",
    "        # If the item is not a list, just add it directly\n",
    "        flat_list.append(item)\n",
    "\n",
    "print(\"Flattened list:\", flat_list)\n"
   ]
  },
  {
   "cell_type": "code",
   "execution_count": 13,
   "id": "ac29dbe8-383f-4525-b8e3-68522bc788df",
   "metadata": {},
   "outputs": [],
   "source": [
    "# 10"
   ]
  },
  {
   "cell_type": "code",
   "execution_count": 14,
   "id": "2edf0fb5-970a-4109-98da-9238c0b94e86",
   "metadata": {},
   "outputs": [
    {
     "name": "stdout",
     "output_type": "stream",
     "text": [
      "Common elements: [4, 5]\n"
     ]
    }
   ],
   "source": [
    "list_p = [1, 2, 3, 4, 5]\n",
    "list_q = [4, 5, 6, 7, 8]\n",
    "\n",
    "common = []\n",
    "\n",
    "for item in list_p:\n",
    "    if item in list_q:\n",
    "        common.append(item)\n",
    "\n",
    "print(\"Common elements:\", common)\n"
   ]
  },
  {
   "cell_type": "code",
   "execution_count": null,
   "id": "d380b633-c868-4e2d-8205-9bee8110e91c",
   "metadata": {},
   "outputs": [],
   "source": []
  }
 ],
 "metadata": {
  "kernelspec": {
   "display_name": "Python [conda env:base] *",
   "language": "python",
   "name": "conda-base-py"
  },
  "language_info": {
   "codemirror_mode": {
    "name": "ipython",
    "version": 3
   },
   "file_extension": ".py",
   "mimetype": "text/x-python",
   "name": "python",
   "nbconvert_exporter": "python",
   "pygments_lexer": "ipython3",
   "version": "3.12.7"
  }
 },
 "nbformat": 4,
 "nbformat_minor": 5
}
