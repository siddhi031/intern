{
 "cells": [
  {
   "cell_type": "markdown",
   "id": "b29f3e63-91e1-463e-88bb-bae19c1f1961",
   "metadata": {},
   "source": [
    "# function in python"
   ]
  },
  {
   "cell_type": "code",
   "execution_count": 4,
   "id": "4fc71fa5-4be6-4ff3-bdb8-ae42b0ce214f",
   "metadata": {},
   "outputs": [],
   "source": [
    "def show():     # function definition\n",
    "   print(\"hello\")\n",
    "   print(\"ok\")\n"
   ]
  },
  {
   "cell_type": "code",
   "execution_count": 6,
   "id": "e37ce6fa-a262-4a09-aa7a-496925c0c76c",
   "metadata": {},
   "outputs": [
    {
     "name": "stdout",
     "output_type": "stream",
     "text": [
      "hello\n",
      "ok\n"
     ]
    }
   ],
   "source": [
    "show()  # function call"
   ]
  },
  {
   "cell_type": "code",
   "execution_count": 5,
   "id": "7d1cb378-a8ec-440f-a80d-b5b97423bb68",
   "metadata": {},
   "outputs": [
    {
     "name": "stdout",
     "output_type": "stream",
     "text": [
      "hello\n",
      "ok\n",
      "hello\n",
      "ok\n"
     ]
    }
   ],
   "source": [
    "show()\n",
    "show()"
   ]
  },
  {
   "cell_type": "code",
   "execution_count": 7,
   "id": "7a90ca71-a2af-47f6-a751-80fe51d37282",
   "metadata": {},
   "outputs": [],
   "source": [
    "# parameterized  function\n",
    "\n",
    "def sqr(num):\n",
    "    res = num *num\n",
    "    print(res)\n",
    "    "
   ]
  },
  {
   "cell_type": "code",
   "execution_count": 8,
   "id": "5a572149-e873-4079-876a-b18c640d5367",
   "metadata": {},
   "outputs": [
    {
     "name": "stdout",
     "output_type": "stream",
     "text": [
      "64\n"
     ]
    }
   ],
   "source": [
    "sqr(8)"
   ]
  },
  {
   "cell_type": "code",
   "execution_count": 9,
   "id": "88469a20-fdf4-4aff-833d-5598ad4981da",
   "metadata": {},
   "outputs": [],
   "source": [
    "# find largest between 2 no \n",
    "def largest(a,b):\n",
    "    if a>b:\n",
    "        print(\"largest is a \", a)\n",
    "    elif a == b:\n",
    "        print(\"both are equal\")\n",
    "    else:\n",
    "        print(\"largest is b\",b)"
   ]
  },
  {
   "cell_type": "code",
   "execution_count": 10,
   "id": "407370ea-4dfe-4872-93d9-96c20429eaa0",
   "metadata": {},
   "outputs": [
    {
     "name": "stdout",
     "output_type": "stream",
     "text": [
      "largest is b 12\n"
     ]
    }
   ],
   "source": [
    "largest(10,12)"
   ]
  },
  {
   "cell_type": "code",
   "execution_count": 11,
   "id": "73e11d86-1ef8-44f7-acd2-19d22c1580b5",
   "metadata": {},
   "outputs": [],
   "source": [
    "# function to print the 'name'...'n' times (2 para)"
   ]
  },
  {
   "cell_type": "code",
   "execution_count": 26,
   "id": "ad0cc681-cd08-47fe-9415-dc47192c243b",
   "metadata": {},
   "outputs": [],
   "source": [
    "def name(num,name):\n",
    "    for i in range(num):\n",
    "        print(name)"
   ]
  },
  {
   "cell_type": "code",
   "execution_count": 27,
   "id": "39406c0b-2330-4353-9ffd-4d9e5e7b3d45",
   "metadata": {},
   "outputs": [
    {
     "name": "stdout",
     "output_type": "stream",
     "text": [
      "sia\n",
      "sia\n"
     ]
    }
   ],
   "source": [
    "name(2,'sia')"
   ]
  },
  {
   "cell_type": "code",
   "execution_count": 34,
   "id": "fede7bb4-9281-4697-9e3d-f6fb820fe04c",
   "metadata": {},
   "outputs": [
    {
     "name": "stdout",
     "output_type": "stream",
     "text": [
      "The factorial of 5 is 120\n"
     ]
    }
   ],
   "source": [
    "# create a  function to find factorial of number \n",
    "\n",
    "\n",
    "def factorial(num):\n",
    "    if num < 0:\n",
    "        return \"Factorial is not defined for negative numbers.\"\n",
    "    elif num == 0 or num == 1:\n",
    "        return 1\n",
    "    else:\n",
    "        return num * factorial(num - 1)   \n",
    "num = 5        \n",
    "print(f\"The factorial of {num} is {factorial(num)}\")\n"
   ]
  },
  {
   "cell_type": "code",
   "execution_count": 38,
   "id": "830cb91b-427a-4a8b-a25f-1421739bed17",
   "metadata": {},
   "outputs": [],
   "source": [
    "def fact(n):\n",
    "    res = 1\n",
    "    for i in range (1,n+1):\n",
    "         res *= i\n",
    "    print(res)"
   ]
  },
  {
   "cell_type": "code",
   "execution_count": 40,
   "id": "8dc3a466-5a9f-4168-905b-d39ceda490bc",
   "metadata": {},
   "outputs": [
    {
     "name": "stdout",
     "output_type": "stream",
     "text": [
      "120\n"
     ]
    }
   ],
   "source": [
    "fact(5)"
   ]
  },
  {
   "cell_type": "code",
   "execution_count": 47,
   "id": "c1c544b3-0965-49ca-93d4-f07798d23468",
   "metadata": {},
   "outputs": [],
   "source": [
    "def sqr(num):\n",
    "    res = num *num\n",
    "    return res    # exit the flow of code \n",
    "    print(\"end\")"
   ]
  },
  {
   "cell_type": "code",
   "execution_count": 48,
   "id": "cc4e922f-c002-48e3-9752-f28ec291fa3e",
   "metadata": {},
   "outputs": [
    {
     "data": {
      "text/plain": [
       "64"
      ]
     },
     "execution_count": 48,
     "metadata": {},
     "output_type": "execute_result"
    }
   ],
   "source": [
    "sqr(8)"
   ]
  },
  {
   "cell_type": "code",
   "execution_count": 49,
   "id": "b40ee1dd-5872-45a2-854c-2b510d5415c1",
   "metadata": {},
   "outputs": [],
   "source": [
    "# difference between return and print"
   ]
  },
  {
   "cell_type": "code",
   "execution_count": 50,
   "id": "2be18008-4809-4fda-9259-80277651a90c",
   "metadata": {},
   "outputs": [],
   "source": [
    "def add(a,b):\n",
    "    print(a + b)"
   ]
  },
  {
   "cell_type": "code",
   "execution_count": 51,
   "id": "3f4630c9-01e8-48b6-997c-4efecac2b890",
   "metadata": {},
   "outputs": [
    {
     "name": "stdout",
     "output_type": "stream",
     "text": [
      "9\n"
     ]
    }
   ],
   "source": [
    "i = add(2,7)"
   ]
  },
  {
   "cell_type": "code",
   "execution_count": 54,
   "id": "b10d784a-ccc9-4bb5-864b-8f45f24729bc",
   "metadata": {},
   "outputs": [
    {
     "name": "stdout",
     "output_type": "stream",
     "text": [
      "None\n"
     ]
    }
   ],
   "source": [
    "print(i)  # print statement can't store the value "
   ]
  },
  {
   "cell_type": "code",
   "execution_count": 59,
   "id": "53a0b17b-3675-4ec2-b727-6a3840d1b920",
   "metadata": {},
   "outputs": [],
   "source": [
    "def add1(a,b):\n",
    "    return a + b   # return can store the value  "
   ]
  },
  {
   "cell_type": "code",
   "execution_count": 62,
   "id": "758cbc0d-e9fc-42cf-94da-7e9613bd339e",
   "metadata": {},
   "outputs": [],
   "source": [
    "i = add1(2,3)+4"
   ]
  },
  {
   "cell_type": "code",
   "execution_count": 63,
   "id": "83f607d0-3f44-4538-9379-c2ed80048a7b",
   "metadata": {},
   "outputs": [
    {
     "data": {
      "text/plain": [
       "9"
      ]
     },
     "execution_count": 63,
     "metadata": {},
     "output_type": "execute_result"
    }
   ],
   "source": [
    "i"
   ]
  },
  {
   "cell_type": "code",
   "execution_count": 64,
   "id": "bed23a8e-a076-4de7-8264-1a8a2ae83c86",
   "metadata": {},
   "outputs": [],
   "source": [
    "# create function for addition of 3 number"
   ]
  },
  {
   "cell_type": "code",
   "execution_count": 69,
   "id": "1bbda763-a8b1-4a86-829a-3d1733c129c6",
   "metadata": {},
   "outputs": [],
   "source": [
    "def addi(a,b,c):\n",
    "    return a+b+c\n",
    "    i = addi(2,3,4)"
   ]
  },
  {
   "cell_type": "code",
   "execution_count": 70,
   "id": "6146acaf-e266-461f-a248-e400969944fd",
   "metadata": {},
   "outputs": [
    {
     "data": {
      "text/plain": [
       "9"
      ]
     },
     "execution_count": 70,
     "metadata": {},
     "output_type": "execute_result"
    }
   ],
   "source": [
    "i"
   ]
  },
  {
   "cell_type": "code",
   "execution_count": 72,
   "id": "855c1248-72bd-4c81-b901-d77af2fefdae",
   "metadata": {},
   "outputs": [],
   "source": [
    "def cal(a):\n",
    "    sq = a*a\n",
    "    cu = a**3\n",
    "    return sq , cu"
   ]
  },
  {
   "cell_type": "code",
   "execution_count": 73,
   "id": "2dbdcb33-aba6-4c26-9097-6d038b7f07ac",
   "metadata": {},
   "outputs": [
    {
     "data": {
      "text/plain": [
       "(9, 27)"
      ]
     },
     "execution_count": 73,
     "metadata": {},
     "output_type": "execute_result"
    }
   ],
   "source": [
    "cal(3)"
   ]
  },
  {
   "cell_type": "code",
   "execution_count": 74,
   "id": "cb4bacdd-e2bf-469d-8c6a-5d21013b9455",
   "metadata": {},
   "outputs": [],
   "source": [
    "# default parameter\n",
    "\n",
    "\n",
    "def add3(a = 10, b=20, c=30):\n",
    "    return a + b + c"
   ]
  },
  {
   "cell_type": "code",
   "execution_count": 75,
   "id": "cbf05b5b-252b-44c2-a978-3e7393e08916",
   "metadata": {},
   "outputs": [
    {
     "data": {
      "text/plain": [
       "60"
      ]
     },
     "execution_count": 75,
     "metadata": {},
     "output_type": "execute_result"
    }
   ],
   "source": [
    "add3()"
   ]
  },
  {
   "cell_type": "code",
   "execution_count": 76,
   "id": "5ad866ab-1639-4c8f-a94a-65e18644d673",
   "metadata": {},
   "outputs": [
    {
     "data": {
      "text/plain": [
       "53"
      ]
     },
     "execution_count": 76,
     "metadata": {},
     "output_type": "execute_result"
    }
   ],
   "source": [
    "add3(3)"
   ]
  },
  {
   "cell_type": "code",
   "execution_count": 77,
   "id": "89fcc96e-f4b2-4fba-83d7-79d89ad21c51",
   "metadata": {},
   "outputs": [
    {
     "data": {
      "text/plain": [
       "50"
      ]
     },
     "execution_count": 77,
     "metadata": {},
     "output_type": "execute_result"
    }
   ],
   "source": [
    "add3(b = 10)"
   ]
  },
  {
   "cell_type": "code",
   "execution_count": 78,
   "id": "c38436b5-be56-46ef-9224-ccec8c33ecd0",
   "metadata": {},
   "outputs": [
    {
     "data": {
      "text/plain": [
       "35"
      ]
     },
     "execution_count": 78,
     "metadata": {},
     "output_type": "execute_result"
    }
   ],
   "source": [
    "add3(3,2)"
   ]
  },
  {
   "cell_type": "code",
   "execution_count": 84,
   "id": "44866941-2e08-417a-865b-b7e8faa9264a",
   "metadata": {},
   "outputs": [],
   "source": [
    "def add4(a , b=20, c = 30):\n",
    "        return a + b + c"
   ]
  },
  {
   "cell_type": "code",
   "execution_count": 86,
   "id": "c71233f9-d795-4960-8167-8d977e6072fd",
   "metadata": {},
   "outputs": [
    {
     "data": {
      "text/plain": [
       "53"
      ]
     },
     "execution_count": 86,
     "metadata": {},
     "output_type": "execute_result"
    }
   ],
   "source": [
    "add4(3)"
   ]
  },
  {
   "cell_type": "code",
   "execution_count": 92,
   "id": "d88687e8-770a-412a-b899-725498121426",
   "metadata": {},
   "outputs": [
    {
     "ename": "SyntaxError",
     "evalue": "parameter without a default follows parameter with a default (2033728874.py, line 1)",
     "output_type": "error",
     "traceback": [
      "\u001b[1;36m  Cell \u001b[1;32mIn[92], line 1\u001b[1;36m\u001b[0m\n\u001b[1;33m    def add6(a = 9, b = 1 , c):\u001b[0m\n\u001b[1;37m                            ^\u001b[0m\n\u001b[1;31mSyntaxError\u001b[0m\u001b[1;31m:\u001b[0m parameter without a default follows parameter with a default\n"
     ]
    }
   ],
   "source": [
    "def add6(a = 9, b = 1 , c):\n",
    "        return a + b + c"
   ]
  },
  {
   "cell_type": "code",
   "execution_count": 93,
   "id": "163789b2-5665-4e1f-bbdd-9361484c4541",
   "metadata": {},
   "outputs": [
    {
     "ename": "NameError",
     "evalue": "name 'add6' is not defined",
     "output_type": "error",
     "traceback": [
      "\u001b[1;31m---------------------------------------------------------------------------\u001b[0m",
      "\u001b[1;31mNameError\u001b[0m                                 Traceback (most recent call last)",
      "Cell \u001b[1;32mIn[93], line 1\u001b[0m\n\u001b[1;32m----> 1\u001b[0m add6(\u001b[38;5;241m20\u001b[39m,\u001b[38;5;241m9\u001b[39m)\n",
      "\u001b[1;31mNameError\u001b[0m: name 'add6' is not defined"
     ]
    }
   ],
   "source": [
    "add6(20,9)"
   ]
  },
  {
   "cell_type": "markdown",
   "id": "cecdda7a-ae49-43f7-b96b-c712aa6f8fed",
   "metadata": {},
   "source": [
    "# variable length argument\n"
   ]
  },
  {
   "cell_type": "code",
   "execution_count": 95,
   "id": "2d88e125-3192-46d9-b56b-a9fd4942d209",
   "metadata": {},
   "outputs": [],
   "source": [
    "def ini(*args):\n",
    "    return args"
   ]
  },
  {
   "cell_type": "code",
   "execution_count": 96,
   "id": "86e154bd-45fd-410a-9306-f1a27fe7ce7e",
   "metadata": {},
   "outputs": [
    {
     "data": {
      "text/plain": [
       "(2, 4, 5, 7, 8)"
      ]
     },
     "execution_count": 96,
     "metadata": {},
     "output_type": "execute_result"
    }
   ],
   "source": [
    "ini(2,4,5,7,8)"
   ]
  },
  {
   "cell_type": "code",
   "execution_count": 97,
   "id": "25a0262e-3b4c-4701-9f43-1b955423e0d9",
   "metadata": {},
   "outputs": [],
   "source": [
    "# pass any number of argument and return addition"
   ]
  },
  {
   "cell_type": "code",
   "execution_count": 105,
   "id": "9715a8dc-a46f-4966-8a50-f08d5ebf5510",
   "metadata": {},
   "outputs": [],
   "source": [
    "def ini(*args):\n",
    "    res = sum(args)\n",
    "    return res"
   ]
  },
  {
   "cell_type": "code",
   "execution_count": 106,
   "id": "f7575915-73c1-40a3-9adc-29b211f0e377",
   "metadata": {},
   "outputs": [
    {
     "data": {
      "text/plain": [
       "5"
      ]
     },
     "execution_count": 106,
     "metadata": {},
     "output_type": "execute_result"
    }
   ],
   "source": [
    "ini(2,2,1)"
   ]
  },
  {
   "cell_type": "code",
   "execution_count": 111,
   "id": "c0bff4d2-fd9c-40ac-b5ca-b1befcc721c2",
   "metadata": {},
   "outputs": [],
   "source": [
    "def ini(*args):\n",
    "    add = 0\n",
    "    for i in args:\n",
    "        add = add + i \n",
    "    return add"
   ]
  },
  {
   "cell_type": "code",
   "execution_count": 112,
   "id": "28aec444-a3a8-4d55-9147-426007eb48ff",
   "metadata": {},
   "outputs": [
    {
     "data": {
      "text/plain": [
       "4"
      ]
     },
     "execution_count": 112,
     "metadata": {},
     "output_type": "execute_result"
    }
   ],
   "source": [
    "ini(1,1,2)"
   ]
  },
  {
   "cell_type": "markdown",
   "id": "1bb0a6bf-c300-46c7-a189-7562f2b52bb6",
   "metadata": {},
   "source": [
    "# lambda function"
   ]
  },
  {
   "cell_type": "code",
   "execution_count": 113,
   "id": "fec08ea5-1520-4b4f-8e68-e3a95d7b4410",
   "metadata": {},
   "outputs": [],
   "source": [
    "squ = lambda a:a*a"
   ]
  },
  {
   "cell_type": "code",
   "execution_count": 114,
   "id": "2ecf3e16-c724-4c41-970a-227b5d582e85",
   "metadata": {},
   "outputs": [
    {
     "data": {
      "text/plain": [
       "9"
      ]
     },
     "execution_count": 114,
     "metadata": {},
     "output_type": "execute_result"
    }
   ],
   "source": [
    "squ(3)"
   ]
  },
  {
   "cell_type": "code",
   "execution_count": 117,
   "id": "b78b9eb5-2bb7-4a8d-8e99-e3603663f6a0",
   "metadata": {},
   "outputs": [],
   "source": [
    "add = lambda a,b :a+b"
   ]
  },
  {
   "cell_type": "code",
   "execution_count": 118,
   "id": "33d80ba0-f044-4d8f-8f08-9cc0161d87a0",
   "metadata": {},
   "outputs": [
    {
     "data": {
      "text/plain": [
       "5"
      ]
     },
     "execution_count": 118,
     "metadata": {},
     "output_type": "execute_result"
    }
   ],
   "source": [
    "add(2,3)"
   ]
  },
  {
   "cell_type": "code",
   "execution_count": 119,
   "id": "e47b07bc-8322-4f7f-9345-b353bc78a122",
   "metadata": {},
   "outputs": [],
   "source": [
    "# filter"
   ]
  },
  {
   "cell_type": "code",
   "execution_count": 120,
   "id": "85d5781c-111a-4cc0-aa73-b052440e1a01",
   "metadata": {},
   "outputs": [],
   "source": [
    "l = [34,56,77,33,11]"
   ]
  },
  {
   "cell_type": "code",
   "execution_count": 121,
   "id": "4aea3adb-29d0-4aa7-8f99-ede9bc28bfb8",
   "metadata": {},
   "outputs": [],
   "source": [
    "nl = filter(lambda x: x>40,l)"
   ]
  },
  {
   "cell_type": "code",
   "execution_count": 122,
   "id": "ae4d7282-d857-47fc-b127-06f9fa9d5d0a",
   "metadata": {},
   "outputs": [
    {
     "data": {
      "text/plain": [
       "[56, 77]"
      ]
     },
     "execution_count": 122,
     "metadata": {},
     "output_type": "execute_result"
    }
   ],
   "source": [
    "list(nl)"
   ]
  },
  {
   "cell_type": "code",
   "execution_count": 123,
   "id": "75a60154-baa3-482b-a103-4fb182edb622",
   "metadata": {},
   "outputs": [],
   "source": [
    "nl = filter(lambda x:x<20,l)"
   ]
  },
  {
   "cell_type": "code",
   "execution_count": 124,
   "id": "5d0dafc2-804a-4820-a562-938f889f4399",
   "metadata": {},
   "outputs": [
    {
     "data": {
      "text/plain": [
       "[11]"
      ]
     },
     "execution_count": 124,
     "metadata": {},
     "output_type": "execute_result"
    }
   ],
   "source": [
    "list(nl)"
   ]
  },
  {
   "cell_type": "code",
   "execution_count": 126,
   "id": "611b1abe-674b-4f83-9324-1bb80ef03c46",
   "metadata": {},
   "outputs": [],
   "source": [
    "nl = filter(lambda x:x==10,l)"
   ]
  },
  {
   "cell_type": "code",
   "execution_count": 127,
   "id": "0d64129e-23a7-4d54-9606-d9a9eda12106",
   "metadata": {},
   "outputs": [
    {
     "data": {
      "text/plain": [
       "[]"
      ]
     },
     "execution_count": 127,
     "metadata": {},
     "output_type": "execute_result"
    }
   ],
   "source": [
    "list(nl)"
   ]
  },
  {
   "cell_type": "markdown",
   "id": "5d407bda-8306-471f-b183-70b18cf97942",
   "metadata": {},
   "source": [
    "# map "
   ]
  },
  {
   "cell_type": "code",
   "execution_count": 128,
   "id": "bd4975d1-a61a-40b5-a657-8fb8782f695f",
   "metadata": {},
   "outputs": [
    {
     "data": {
      "text/plain": [
       "[1156, 3136, 5929, 1089, 121]"
      ]
     },
     "execution_count": 128,
     "metadata": {},
     "output_type": "execute_result"
    }
   ],
   "source": [
    "nl1 = map(lambda x:x*x,l)\n",
    "list(nl1)"
   ]
  },
  {
   "cell_type": "code",
   "execution_count": 129,
   "id": "c4109363-96e8-4bcc-8685-217b22d38817",
   "metadata": {},
   "outputs": [
    {
     "data": {
      "text/plain": [
       "[True, False, False, True, True]"
      ]
     },
     "execution_count": 129,
     "metadata": {},
     "output_type": "execute_result"
    }
   ],
   "source": [
    "nl1 = map(lambda x:x<40,l)\n",
    "list(nl1)"
   ]
  },
  {
   "cell_type": "markdown",
   "id": "3def85b5-7528-4930-8115-8a2bc4e9f6cc",
   "metadata": {},
   "source": [
    "# modules "
   ]
  },
  {
   "cell_type": "code",
   "execution_count": 130,
   "id": "8a573e9b-d5cb-46fc-b4f2-2a6bce66691d",
   "metadata": {},
   "outputs": [],
   "source": [
    "import math"
   ]
  },
  {
   "cell_type": "code",
   "execution_count": 131,
   "id": "3a2f2f5d-250d-492c-96ff-e7c2e8fd8137",
   "metadata": {},
   "outputs": [
    {
     "data": {
      "text/plain": [
       "4.47213595499958"
      ]
     },
     "execution_count": 131,
     "metadata": {},
     "output_type": "execute_result"
    }
   ],
   "source": [
    "math.sqrt(20)"
   ]
  },
  {
   "cell_type": "code",
   "execution_count": 132,
   "id": "2f102f2c-b197-495f-9cf0-687423469fc9",
   "metadata": {
    "collapsed": true,
    "jupyter": {
     "outputs_hidden": true
    },
    "scrolled": true
   },
   "outputs": [
    {
     "name": "stdout",
     "output_type": "stream",
     "text": [
      "Help on built-in module math:\n",
      "\n",
      "NAME\n",
      "    math\n",
      "\n",
      "DESCRIPTION\n",
      "    This module provides access to the mathematical functions\n",
      "    defined by the C standard.\n",
      "\n",
      "FUNCTIONS\n",
      "    acos(x, /)\n",
      "        Return the arc cosine (measured in radians) of x.\n",
      "\n",
      "        The result is between 0 and pi.\n",
      "\n",
      "    acosh(x, /)\n",
      "        Return the inverse hyperbolic cosine of x.\n",
      "\n",
      "    asin(x, /)\n",
      "        Return the arc sine (measured in radians) of x.\n",
      "\n",
      "        The result is between -pi/2 and pi/2.\n",
      "\n",
      "    asinh(x, /)\n",
      "        Return the inverse hyperbolic sine of x.\n",
      "\n",
      "    atan(x, /)\n",
      "        Return the arc tangent (measured in radians) of x.\n",
      "\n",
      "        The result is between -pi/2 and pi/2.\n",
      "\n",
      "    atan2(y, x, /)\n",
      "        Return the arc tangent (measured in radians) of y/x.\n",
      "\n",
      "        Unlike atan(y/x), the signs of both x and y are considered.\n",
      "\n",
      "    atanh(x, /)\n",
      "        Return the inverse hyperbolic tangent of x.\n",
      "\n",
      "    cbrt(x, /)\n",
      "        Return the cube root of x.\n",
      "\n",
      "    ceil(x, /)\n",
      "        Return the ceiling of x as an Integral.\n",
      "\n",
      "        This is the smallest integer >= x.\n",
      "\n",
      "    comb(n, k, /)\n",
      "        Number of ways to choose k items from n items without repetition and without order.\n",
      "\n",
      "        Evaluates to n! / (k! * (n - k)!) when k <= n and evaluates\n",
      "        to zero when k > n.\n",
      "\n",
      "        Also called the binomial coefficient because it is equivalent\n",
      "        to the coefficient of k-th term in polynomial expansion of the\n",
      "        expression (1 + x)**n.\n",
      "\n",
      "        Raises TypeError if either of the arguments are not integers.\n",
      "        Raises ValueError if either of the arguments are negative.\n",
      "\n",
      "    copysign(x, y, /)\n",
      "        Return a float with the magnitude (absolute value) of x but the sign of y.\n",
      "\n",
      "        On platforms that support signed zeros, copysign(1.0, -0.0)\n",
      "        returns -1.0.\n",
      "\n",
      "    cos(x, /)\n",
      "        Return the cosine of x (measured in radians).\n",
      "\n",
      "    cosh(x, /)\n",
      "        Return the hyperbolic cosine of x.\n",
      "\n",
      "    degrees(x, /)\n",
      "        Convert angle x from radians to degrees.\n",
      "\n",
      "    dist(p, q, /)\n",
      "        Return the Euclidean distance between two points p and q.\n",
      "\n",
      "        The points should be specified as sequences (or iterables) of\n",
      "        coordinates.  Both inputs must have the same dimension.\n",
      "\n",
      "        Roughly equivalent to:\n",
      "            sqrt(sum((px - qx) ** 2.0 for px, qx in zip(p, q)))\n",
      "\n",
      "    erf(x, /)\n",
      "        Error function at x.\n",
      "\n",
      "    erfc(x, /)\n",
      "        Complementary error function at x.\n",
      "\n",
      "    exp(x, /)\n",
      "        Return e raised to the power of x.\n",
      "\n",
      "    exp2(x, /)\n",
      "        Return 2 raised to the power of x.\n",
      "\n",
      "    expm1(x, /)\n",
      "        Return exp(x)-1.\n",
      "\n",
      "        This function avoids the loss of precision involved in the direct evaluation of exp(x)-1 for small x.\n",
      "\n",
      "    fabs(x, /)\n",
      "        Return the absolute value of the float x.\n",
      "\n",
      "    factorial(n, /)\n",
      "        Find n!.\n",
      "\n",
      "        Raise a ValueError if x is negative or non-integral.\n",
      "\n",
      "    floor(x, /)\n",
      "        Return the floor of x as an Integral.\n",
      "\n",
      "        This is the largest integer <= x.\n",
      "\n",
      "    fmod(x, y, /)\n",
      "        Return fmod(x, y), according to platform C.\n",
      "\n",
      "        x % y may differ.\n",
      "\n",
      "    frexp(x, /)\n",
      "        Return the mantissa and exponent of x, as pair (m, e).\n",
      "\n",
      "        m is a float and e is an int, such that x = m * 2.**e.\n",
      "        If x is 0, m and e are both 0.  Else 0.5 <= abs(m) < 1.0.\n",
      "\n",
      "    fsum(seq, /)\n",
      "        Return an accurate floating-point sum of values in the iterable seq.\n",
      "\n",
      "        Assumes IEEE-754 floating-point arithmetic.\n",
      "\n",
      "    gamma(x, /)\n",
      "        Gamma function at x.\n",
      "\n",
      "    gcd(*integers)\n",
      "        Greatest Common Divisor.\n",
      "\n",
      "    hypot(...)\n",
      "        hypot(*coordinates) -> value\n",
      "\n",
      "        Multidimensional Euclidean distance from the origin to a point.\n",
      "\n",
      "        Roughly equivalent to:\n",
      "            sqrt(sum(x**2 for x in coordinates))\n",
      "\n",
      "        For a two dimensional point (x, y), gives the hypotenuse\n",
      "        using the Pythagorean theorem:  sqrt(x*x + y*y).\n",
      "\n",
      "        For example, the hypotenuse of a 3/4/5 right triangle is:\n",
      "\n",
      "            >>> hypot(3.0, 4.0)\n",
      "            5.0\n",
      "\n",
      "    isclose(a, b, *, rel_tol=1e-09, abs_tol=0.0)\n",
      "        Determine whether two floating-point numbers are close in value.\n",
      "\n",
      "          rel_tol\n",
      "            maximum difference for being considered \"close\", relative to the\n",
      "            magnitude of the input values\n",
      "          abs_tol\n",
      "            maximum difference for being considered \"close\", regardless of the\n",
      "            magnitude of the input values\n",
      "\n",
      "        Return True if a is close in value to b, and False otherwise.\n",
      "\n",
      "        For the values to be considered close, the difference between them\n",
      "        must be smaller than at least one of the tolerances.\n",
      "\n",
      "        -inf, inf and NaN behave similarly to the IEEE 754 Standard.  That\n",
      "        is, NaN is not close to anything, even itself.  inf and -inf are\n",
      "        only close to themselves.\n",
      "\n",
      "    isfinite(x, /)\n",
      "        Return True if x is neither an infinity nor a NaN, and False otherwise.\n",
      "\n",
      "    isinf(x, /)\n",
      "        Return True if x is a positive or negative infinity, and False otherwise.\n",
      "\n",
      "    isnan(x, /)\n",
      "        Return True if x is a NaN (not a number), and False otherwise.\n",
      "\n",
      "    isqrt(n, /)\n",
      "        Return the integer part of the square root of the input.\n",
      "\n",
      "    lcm(*integers)\n",
      "        Least Common Multiple.\n",
      "\n",
      "    ldexp(x, i, /)\n",
      "        Return x * (2**i).\n",
      "\n",
      "        This is essentially the inverse of frexp().\n",
      "\n",
      "    lgamma(x, /)\n",
      "        Natural logarithm of absolute value of Gamma function at x.\n",
      "\n",
      "    log(...)\n",
      "        log(x, [base=math.e])\n",
      "        Return the logarithm of x to the given base.\n",
      "\n",
      "        If the base is not specified, returns the natural logarithm (base e) of x.\n",
      "\n",
      "    log10(x, /)\n",
      "        Return the base 10 logarithm of x.\n",
      "\n",
      "    log1p(x, /)\n",
      "        Return the natural logarithm of 1+x (base e).\n",
      "\n",
      "        The result is computed in a way which is accurate for x near zero.\n",
      "\n",
      "    log2(x, /)\n",
      "        Return the base 2 logarithm of x.\n",
      "\n",
      "    modf(x, /)\n",
      "        Return the fractional and integer parts of x.\n",
      "\n",
      "        Both results carry the sign of x and are floats.\n",
      "\n",
      "    nextafter(x, y, /, *, steps=None)\n",
      "        Return the floating-point value the given number of steps after x towards y.\n",
      "\n",
      "        If steps is not specified or is None, it defaults to 1.\n",
      "\n",
      "        Raises a TypeError, if x or y is not a double, or if steps is not an integer.\n",
      "        Raises ValueError if steps is negative.\n",
      "\n",
      "    perm(n, k=None, /)\n",
      "        Number of ways to choose k items from n items without repetition and with order.\n",
      "\n",
      "        Evaluates to n! / (n - k)! when k <= n and evaluates\n",
      "        to zero when k > n.\n",
      "\n",
      "        If k is not specified or is None, then k defaults to n\n",
      "        and the function returns n!.\n",
      "\n",
      "        Raises TypeError if either of the arguments are not integers.\n",
      "        Raises ValueError if either of the arguments are negative.\n",
      "\n",
      "    pow(x, y, /)\n",
      "        Return x**y (x to the power of y).\n",
      "\n",
      "    prod(iterable, /, *, start=1)\n",
      "        Calculate the product of all the elements in the input iterable.\n",
      "\n",
      "        The default start value for the product is 1.\n",
      "\n",
      "        When the iterable is empty, return the start value.  This function is\n",
      "        intended specifically for use with numeric values and may reject\n",
      "        non-numeric types.\n",
      "\n",
      "    radians(x, /)\n",
      "        Convert angle x from degrees to radians.\n",
      "\n",
      "    remainder(x, y, /)\n",
      "        Difference between x and the closest integer multiple of y.\n",
      "\n",
      "        Return x - n*y where n*y is the closest integer multiple of y.\n",
      "        In the case where x is exactly halfway between two multiples of\n",
      "        y, the nearest even value of n is used. The result is always exact.\n",
      "\n",
      "    sin(x, /)\n",
      "        Return the sine of x (measured in radians).\n",
      "\n",
      "    sinh(x, /)\n",
      "        Return the hyperbolic sine of x.\n",
      "\n",
      "    sqrt(x, /)\n",
      "        Return the square root of x.\n",
      "\n",
      "    sumprod(p, q, /)\n",
      "        Return the sum of products of values from two iterables p and q.\n",
      "\n",
      "        Roughly equivalent to:\n",
      "\n",
      "            sum(itertools.starmap(operator.mul, zip(p, q, strict=True)))\n",
      "\n",
      "        For float and mixed int/float inputs, the intermediate products\n",
      "        and sums are computed with extended precision.\n",
      "\n",
      "    tan(x, /)\n",
      "        Return the tangent of x (measured in radians).\n",
      "\n",
      "    tanh(x, /)\n",
      "        Return the hyperbolic tangent of x.\n",
      "\n",
      "    trunc(x, /)\n",
      "        Truncates the Real x to the nearest Integral toward 0.\n",
      "\n",
      "        Uses the __trunc__ magic method.\n",
      "\n",
      "    ulp(x, /)\n",
      "        Return the value of the least significant bit of the float x.\n",
      "\n",
      "DATA\n",
      "    e = 2.718281828459045\n",
      "    inf = inf\n",
      "    nan = nan\n",
      "    pi = 3.141592653589793\n",
      "    tau = 6.283185307179586\n",
      "\n",
      "FILE\n",
      "    (built-in)\n",
      "\n",
      "\n"
     ]
    }
   ],
   "source": [
    "help(math)"
   ]
  },
  {
   "cell_type": "code",
   "execution_count": 134,
   "id": "77949873-31d5-4b22-a54f-8d5053ee1bc4",
   "metadata": {},
   "outputs": [
    {
     "data": {
      "text/plain": [
       "2.080083823051904"
      ]
     },
     "execution_count": 134,
     "metadata": {},
     "output_type": "execute_result"
    }
   ],
   "source": [
    "math.cbrt(9)"
   ]
  },
  {
   "cell_type": "code",
   "execution_count": 135,
   "id": "42e12ce5-053b-46cd-836d-ddcef2b11fce",
   "metadata": {},
   "outputs": [],
   "source": [
    "# create a function to calculate area of circle"
   ]
  },
  {
   "cell_type": "code",
   "execution_count": 141,
   "id": "0814664f-c499-4a25-bcf9-14da87cab911",
   "metadata": {},
   "outputs": [],
   "source": [
    "import math\n",
    "pi = math.pi\n",
    "def area(r):\n",
    "    area = pi*(r**2)\n",
    "    return area"
   ]
  },
  {
   "cell_type": "code",
   "execution_count": 143,
   "id": "8d962965-459e-478f-adc2-51c71ade15da",
   "metadata": {},
   "outputs": [
    {
     "data": {
      "text/plain": [
       "50.26548245743669"
      ]
     },
     "execution_count": 143,
     "metadata": {},
     "output_type": "execute_result"
    }
   ],
   "source": [
    "area(4)"
   ]
  },
  {
   "cell_type": "code",
   "execution_count": 145,
   "id": "a6d8bb6d-99fc-4bda-aace-32948d1f7f3d",
   "metadata": {},
   "outputs": [],
   "source": [
    "import time as t "
   ]
  },
  {
   "cell_type": "code",
   "execution_count": 146,
   "id": "38f87351-499d-483b-8308-754baa5d5f6a",
   "metadata": {},
   "outputs": [
    {
     "data": {
      "text/plain": [
       "'Thu Jun 12 12:04:28 2025'"
      ]
     },
     "execution_count": 146,
     "metadata": {},
     "output_type": "execute_result"
    }
   ],
   "source": [
    "t.asctime()"
   ]
  },
  {
   "cell_type": "code",
   "execution_count": 148,
   "id": "c057fe4a-c2bd-40a4-baad-52b7ee422a9e",
   "metadata": {},
   "outputs": [
    {
     "name": "stdout",
     "output_type": "stream",
     "text": [
      "wake up\n",
      "zzzzz\n"
     ]
    }
   ],
   "source": [
    "print(\"wake up\")\n",
    "t.sleep(4)  # set timer\n",
    "print(\"zzzzz\")"
   ]
  },
  {
   "cell_type": "code",
   "execution_count": 149,
   "id": "c9e0d511-266f-4ee3-9c9e-7f3031b1793f",
   "metadata": {},
   "outputs": [
    {
     "data": {
      "text/plain": [
       "'C:\\\\Users\\\\user\\\\Desktop\\\\internship'"
      ]
     },
     "execution_count": 149,
     "metadata": {},
     "output_type": "execute_result"
    }
   ],
   "source": [
    "pwd"
   ]
  },
  {
   "cell_type": "code",
   "execution_count": 153,
   "id": "97294476-fd9a-4602-bdfe-e4ed1947cd26",
   "metadata": {},
   "outputs": [],
   "source": [
    "import test_mod"
   ]
  },
  {
   "cell_type": "code",
   "execution_count": 154,
   "id": "0f1da7ae-a138-49e9-a106-4aafc08bdd97",
   "metadata": {},
   "outputs": [
    {
     "name": "stdout",
     "output_type": "stream",
     "text": [
      "module is working\n"
     ]
    }
   ],
   "source": [
    "test_mod.check()"
   ]
  },
  {
   "cell_type": "code",
   "execution_count": 156,
   "id": "26f5840b-434a-4655-b930-1a7103e8a5e7",
   "metadata": {},
   "outputs": [
    {
     "name": "stdout",
     "output_type": "stream",
     "text": [
      "Help on module test_mod:\n",
      "\n",
      "NAME\n",
      "    test_mod\n",
      "\n",
      "FUNCTIONS\n",
      "    check()\n",
      "\n",
      "FILE\n",
      "    c:\\users\\user\\desktop\\internship\\test_mod.py\n",
      "\n",
      "\n"
     ]
    }
   ],
   "source": [
    "help(test_mod)"
   ]
  },
  {
   "cell_type": "code",
   "execution_count": 163,
   "id": "49a66a79-ca7f-414e-ae84-d27b0ddb4562",
   "metadata": {},
   "outputs": [],
   "source": [
    "import test_mod"
   ]
  },
  {
   "cell_type": "code",
   "execution_count": 164,
   "id": "29b20250-7b35-4fd2-a2c4-643abce12c92",
   "metadata": {},
   "outputs": [
    {
     "name": "stdout",
     "output_type": "stream",
     "text": [
      "module is working\n"
     ]
    }
   ],
   "source": [
    "test_mod.check()"
   ]
  },
  {
   "cell_type": "code",
   "execution_count": 165,
   "id": "4d5d62ff-d085-46bc-a2fb-0695da8b8d72",
   "metadata": {},
   "outputs": [
    {
     "name": "stdout",
     "output_type": "stream",
     "text": [
      "Help on module test_mod:\n",
      "\n",
      "NAME\n",
      "    test_mod\n",
      "\n",
      "FUNCTIONS\n",
      "    check()\n",
      "\n",
      "FILE\n",
      "    c:\\users\\user\\desktop\\internship\\test_mod.py\n",
      "\n",
      "\n"
     ]
    }
   ],
   "source": [
    "help(test_mod)"
   ]
  },
  {
   "cell_type": "markdown",
   "id": "8dcac655-fe19-4a59-94f2-e2a0f34a0cab",
   "metadata": {},
   "source": [
    "# problem on function "
   ]
  },
  {
   "cell_type": "code",
   "execution_count": 168,
   "id": "8e0ceff0-d58c-4bf3-b2ea-984b8a0e8478",
   "metadata": {},
   "outputs": [
    {
     "name": "stdin",
     "output_type": "stream",
     "text": [
      "Enter first number:  89\n",
      "Enter second number:  90\n"
     ]
    },
    {
     "name": "stdout",
     "output_type": "stream",
     "text": [
      "The HCF/GCD of 89 and 90 is 1\n"
     ]
    }
   ],
   "source": [
    "# 1 \n",
    "def find_hcf(a, b):\n",
    "    while b:\n",
    "        a, b = b, a % b\n",
    "    return a\n",
    "num1 = int(input(\"Enter first number: \"))\n",
    "num2 = int(input(\"Enter second number: \"))\n",
    "\n",
    "hcf = find_hcf(num1, num2)\n",
    "print(f\"The HCF/GCD of {num1} and {num2} is {hcf}\")\n"
   ]
  },
  {
   "cell_type": "code",
   "execution_count": null,
   "id": "26e594ae-61c9-461c-b4f8-f4c354518ce2",
   "metadata": {},
   "outputs": [],
   "source": []
  }
 ],
 "metadata": {
  "kernelspec": {
   "display_name": "Python [conda env:base] *",
   "language": "python",
   "name": "conda-base-py"
  },
  "language_info": {
   "codemirror_mode": {
    "name": "ipython",
    "version": 3
   },
   "file_extension": ".py",
   "mimetype": "text/x-python",
   "name": "python",
   "nbconvert_exporter": "python",
   "pygments_lexer": "ipython3",
   "version": "3.12.7"
  }
 },
 "nbformat": 4,
 "nbformat_minor": 5
}
