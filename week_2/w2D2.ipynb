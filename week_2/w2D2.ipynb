{
 "cells": [
  {
   "cell_type": "code",
   "execution_count": 1,
   "id": "fd6fa2e3-4794-4458-a566-e90a092b9952",
   "metadata": {},
   "outputs": [],
   "source": [
    "# tuple"
   ]
  },
  {
   "cell_type": "code",
   "execution_count": 2,
   "id": "62b0d30b-f993-4737-ab8d-0ea199734f9d",
   "metadata": {},
   "outputs": [],
   "source": [
    "t = (23,45,67)"
   ]
  },
  {
   "cell_type": "code",
   "execution_count": 3,
   "id": "dcdcc177-2dd4-4775-b511-7434573f579f",
   "metadata": {},
   "outputs": [
    {
     "data": {
      "text/plain": [
       "(23, 45, 67)"
      ]
     },
     "execution_count": 3,
     "metadata": {},
     "output_type": "execute_result"
    }
   ],
   "source": [
    "t"
   ]
  },
  {
   "cell_type": "code",
   "execution_count": 4,
   "id": "64d92fcb-d7cd-4ab7-ad8d-81a451ae8153",
   "metadata": {},
   "outputs": [
    {
     "data": {
      "text/plain": [
       "tuple"
      ]
     },
     "execution_count": 4,
     "metadata": {},
     "output_type": "execute_result"
    }
   ],
   "source": [
    "type(t)"
   ]
  },
  {
   "cell_type": "code",
   "execution_count": 5,
   "id": "922a671f-30a8-4353-be44-ff9af9422b8f",
   "metadata": {},
   "outputs": [],
   "source": [
    "t1 = (23,56,89,'pune',23)  #hetero # duplicate are allowed"
   ]
  },
  {
   "cell_type": "code",
   "execution_count": 6,
   "id": "606a6052-5efd-453e-b88b-f0124129aa1f",
   "metadata": {},
   "outputs": [
    {
     "data": {
      "text/plain": [
       "(23, 56, 89, 'pune', 23)"
      ]
     },
     "execution_count": 6,
     "metadata": {},
     "output_type": "execute_result"
    }
   ],
   "source": [
    "t1"
   ]
  },
  {
   "cell_type": "code",
   "execution_count": 7,
   "id": "9d571dc1-1100-435b-bd1a-a35665193f6d",
   "metadata": {},
   "outputs": [
    {
     "data": {
      "text/plain": [
       "56"
      ]
     },
     "execution_count": 7,
     "metadata": {},
     "output_type": "execute_result"
    }
   ],
   "source": [
    "t1[1]"
   ]
  },
  {
   "cell_type": "code",
   "execution_count": 8,
   "id": "c62e17df-441d-442d-a147-592d267b5c6a",
   "metadata": {},
   "outputs": [
    {
     "ename": "TypeError",
     "evalue": "'tuple' object does not support item assignment",
     "output_type": "error",
     "traceback": [
      "\u001b[1;31m---------------------------------------------------------------------------\u001b[0m",
      "\u001b[1;31mTypeError\u001b[0m                                 Traceback (most recent call last)",
      "Cell \u001b[1;32mIn[8], line 1\u001b[0m\n\u001b[1;32m----> 1\u001b[0m t1[\u001b[38;5;241m2\u001b[39m] \u001b[38;5;241m=\u001b[39m \u001b[38;5;241m45\u001b[39m\n",
      "\u001b[1;31mTypeError\u001b[0m: 'tuple' object does not support item assignment"
     ]
    }
   ],
   "source": [
    "t1[2] = 45 # immutuable"
   ]
  },
  {
   "cell_type": "code",
   "execution_count": 9,
   "id": "c9a63cf7-2c2a-4c9a-bc9f-6bc12b95dba3",
   "metadata": {},
   "outputs": [],
   "source": [
    "t = 12,56,89"
   ]
  },
  {
   "cell_type": "code",
   "execution_count": 10,
   "id": "8ed4904e-0e48-41da-afe5-4b7e03db956d",
   "metadata": {},
   "outputs": [
    {
     "data": {
      "text/plain": [
       "(12, 56, 89)"
      ]
     },
     "execution_count": 10,
     "metadata": {},
     "output_type": "execute_result"
    }
   ],
   "source": [
    "t"
   ]
  },
  {
   "cell_type": "code",
   "execution_count": 11,
   "id": "933481a4-e49e-4585-8d2b-996d1a50c551",
   "metadata": {},
   "outputs": [
    {
     "data": {
      "text/plain": [
       "tuple"
      ]
     },
     "execution_count": 11,
     "metadata": {},
     "output_type": "execute_result"
    }
   ],
   "source": [
    "type(t)"
   ]
  },
  {
   "cell_type": "code",
   "execution_count": 14,
   "id": "8c731ed4-61d5-4792-af03-6ba8ca459025",
   "metadata": {},
   "outputs": [],
   "source": [
    "t3 = (1 ,)"
   ]
  },
  {
   "cell_type": "code",
   "execution_count": 15,
   "id": "27080267-9f63-4c42-bb6c-432ec89d73e7",
   "metadata": {},
   "outputs": [
    {
     "data": {
      "text/plain": [
       "tuple"
      ]
     },
     "execution_count": 15,
     "metadata": {},
     "output_type": "execute_result"
    }
   ],
   "source": [
    "type(t3)"
   ]
  },
  {
   "cell_type": "code",
   "execution_count": 16,
   "id": "c4416ab1-6805-47da-b34d-a4a36cfacb03",
   "metadata": {},
   "outputs": [],
   "source": [
    "t3 = 1,"
   ]
  },
  {
   "cell_type": "code",
   "execution_count": 17,
   "id": "12e67767-d5a1-442f-b351-12a9f8ae8d68",
   "metadata": {},
   "outputs": [
    {
     "data": {
      "text/plain": [
       "tuple"
      ]
     },
     "execution_count": 17,
     "metadata": {},
     "output_type": "execute_result"
    }
   ],
   "source": [
    "type(t3)"
   ]
  },
  {
   "cell_type": "code",
   "execution_count": 18,
   "id": "c033e9b0-3714-4c50-b3d4-d72973247535",
   "metadata": {},
   "outputs": [],
   "source": [
    "t = ()"
   ]
  },
  {
   "cell_type": "code",
   "execution_count": 19,
   "id": "e1f3e0d4-0a1f-4999-9a23-18dadccf9cc3",
   "metadata": {},
   "outputs": [
    {
     "data": {
      "text/plain": [
       "()"
      ]
     },
     "execution_count": 19,
     "metadata": {},
     "output_type": "execute_result"
    }
   ],
   "source": [
    "t"
   ]
  },
  {
   "cell_type": "code",
   "execution_count": 20,
   "id": "2d0bb235-4fc5-40e6-8805-ed81a84d11d7",
   "metadata": {},
   "outputs": [],
   "source": [
    "t =(45,67,34,90,12) "
   ]
  },
  {
   "cell_type": "code",
   "execution_count": 21,
   "id": "fbb3773b-e493-4eba-9b55-105e18e83893",
   "metadata": {},
   "outputs": [
    {
     "data": {
      "text/plain": [
       "(67, 34, 90)"
      ]
     },
     "execution_count": 21,
     "metadata": {},
     "output_type": "execute_result"
    }
   ],
   "source": [
    "t[1:4]"
   ]
  },
  {
   "cell_type": "code",
   "execution_count": 22,
   "id": "3c08707f-e09f-4503-9472-759f8dd9d231",
   "metadata": {},
   "outputs": [],
   "source": [
    "t1 = (13,45,[50,89],10)"
   ]
  },
  {
   "cell_type": "code",
   "execution_count": 23,
   "id": "f3d6e93e-ca16-44be-a129-7c06a4ec3ebc",
   "metadata": {},
   "outputs": [
    {
     "data": {
      "text/plain": [
       "(13, 45, [50, 89], 10)"
      ]
     },
     "execution_count": 23,
     "metadata": {},
     "output_type": "execute_result"
    }
   ],
   "source": [
    "t1"
   ]
  },
  {
   "cell_type": "code",
   "execution_count": 24,
   "id": "e1ffb399-a8e5-4246-9e2b-e0188cea83c4",
   "metadata": {},
   "outputs": [
    {
     "ename": "TypeError",
     "evalue": "'tuple' object does not support item assignment",
     "output_type": "error",
     "traceback": [
      "\u001b[1;31m---------------------------------------------------------------------------\u001b[0m",
      "\u001b[1;31mTypeError\u001b[0m                                 Traceback (most recent call last)",
      "Cell \u001b[1;32mIn[24], line 1\u001b[0m\n\u001b[1;32m----> 1\u001b[0m t1[\u001b[38;5;241m2\u001b[39m] \u001b[38;5;241m=\u001b[39m \u001b[38;5;241m12\u001b[39m\n",
      "\u001b[1;31mTypeError\u001b[0m: 'tuple' object does not support item assignment"
     ]
    }
   ],
   "source": [
    "t1[2] = 12"
   ]
  },
  {
   "cell_type": "code",
   "execution_count": 25,
   "id": "397e5f02-1d91-48e2-9656-424dd5bd9176",
   "metadata": {},
   "outputs": [],
   "source": [
    "t1 [2][0] = 12 "
   ]
  },
  {
   "cell_type": "code",
   "execution_count": 26,
   "id": "4b32f604-4115-498a-ad33-df4943363e63",
   "metadata": {},
   "outputs": [
    {
     "data": {
      "text/plain": [
       "(13, 45, [12, 89], 10)"
      ]
     },
     "execution_count": 26,
     "metadata": {},
     "output_type": "execute_result"
    }
   ],
   "source": [
    "t1"
   ]
  },
  {
   "cell_type": "code",
   "execution_count": 28,
   "id": "c51e7bf8-06aa-4a33-ac7b-eb192b6499ed",
   "metadata": {},
   "outputs": [
    {
     "ename": "TypeError",
     "evalue": "'tuple' object does not support item assignment",
     "output_type": "error",
     "traceback": [
      "\u001b[1;31m---------------------------------------------------------------------------\u001b[0m",
      "\u001b[1;31mTypeError\u001b[0m                                 Traceback (most recent call last)",
      "Cell \u001b[1;32mIn[28], line 1\u001b[0m\n\u001b[1;32m----> 1\u001b[0m t1[\u001b[38;5;241m0\u001b[39m]\u001b[38;5;241m=\u001b[39m[\u001b[38;5;241m17\u001b[39m,\u001b[38;5;241m89\u001b[39m,\u001b[38;5;241m9\u001b[39m]\n",
      "\u001b[1;31mTypeError\u001b[0m: 'tuple' object does not support item assignment"
     ]
    }
   ],
   "source": [
    "t1[0]=[17,89,9]"
   ]
  },
  {
   "cell_type": "code",
   "execution_count": 35,
   "id": "059a935d-6c57-4b61-a040-dd5715f9a0a9",
   "metadata": {},
   "outputs": [],
   "source": [
    "t1 = list(t1) # to change the value convert tuple into list"
   ]
  },
  {
   "cell_type": "code",
   "execution_count": 36,
   "id": "20f15942-6280-41de-99ab-0588da5b00ae",
   "metadata": {},
   "outputs": [
    {
     "data": {
      "text/plain": [
       "[1000, 45, [12, 89], 10]"
      ]
     },
     "execution_count": 36,
     "metadata": {},
     "output_type": "execute_result"
    }
   ],
   "source": [
    "t1"
   ]
  },
  {
   "cell_type": "code",
   "execution_count": 37,
   "id": "3d26da94-59c8-4f9d-985d-64c2702523bf",
   "metadata": {},
   "outputs": [],
   "source": [
    "t1[0] = 1000"
   ]
  },
  {
   "cell_type": "code",
   "execution_count": 38,
   "id": "8b0d2f4d-cd12-48e2-b250-6df4f6d7bbb0",
   "metadata": {},
   "outputs": [
    {
     "data": {
      "text/plain": [
       "[1000, 45, [12, 89], 10]"
      ]
     },
     "execution_count": 38,
     "metadata": {},
     "output_type": "execute_result"
    }
   ],
   "source": [
    "t1"
   ]
  },
  {
   "cell_type": "code",
   "execution_count": 39,
   "id": "54db5dcc-2eee-4978-b66a-0f0b6936e3b7",
   "metadata": {},
   "outputs": [],
   "source": [
    "t1[2][1] = tuple(t1)"
   ]
  },
  {
   "cell_type": "code",
   "execution_count": 40,
   "id": "c7a107f3-99f2-4e92-9263-685b0730fad7",
   "metadata": {},
   "outputs": [
    {
     "data": {
      "text/plain": [
       "[1000, 45, [12, (1000, 45, [...], 10)], 10]"
      ]
     },
     "execution_count": 40,
     "metadata": {},
     "output_type": "execute_result"
    }
   ],
   "source": [
    "t1"
   ]
  },
  {
   "cell_type": "code",
   "execution_count": 41,
   "id": "9b6619bc-1897-434f-88f6-707bccf0e112",
   "metadata": {},
   "outputs": [],
   "source": [
    "t = (12, 34,67,89,45)"
   ]
  },
  {
   "cell_type": "code",
   "execution_count": 42,
   "id": "78411a10-94f8-43c7-ba75-1e890921216d",
   "metadata": {},
   "outputs": [
    {
     "data": {
      "text/plain": [
       "(12, 34, 67, 89, 45)"
      ]
     },
     "execution_count": 42,
     "metadata": {},
     "output_type": "execute_result"
    }
   ],
   "source": [
    "t"
   ]
  },
  {
   "cell_type": "code",
   "execution_count": 43,
   "id": "1a5739ba-b8b5-479e-8ebf-63ee02c6eec2",
   "metadata": {},
   "outputs": [
    {
     "data": {
      "text/plain": [
       "5"
      ]
     },
     "execution_count": 43,
     "metadata": {},
     "output_type": "execute_result"
    }
   ],
   "source": [
    "len(t)"
   ]
  },
  {
   "cell_type": "code",
   "execution_count": 44,
   "id": "a2b8db53-973a-4d86-b8c9-1b5e0acd44b3",
   "metadata": {},
   "outputs": [
    {
     "data": {
      "text/plain": [
       "89"
      ]
     },
     "execution_count": 44,
     "metadata": {},
     "output_type": "execute_result"
    }
   ],
   "source": [
    "max(t)"
   ]
  },
  {
   "cell_type": "code",
   "execution_count": 47,
   "id": "f14fe2a0-5151-4dea-9327-94d1b078f9c4",
   "metadata": {},
   "outputs": [
    {
     "ename": "TypeError",
     "evalue": "tuple.count() takes exactly one argument (0 given)",
     "output_type": "error",
     "traceback": [
      "\u001b[1;31m---------------------------------------------------------------------------\u001b[0m",
      "\u001b[1;31mTypeError\u001b[0m                                 Traceback (most recent call last)",
      "Cell \u001b[1;32mIn[47], line 1\u001b[0m\n\u001b[1;32m----> 1\u001b[0m t\u001b[38;5;241m.\u001b[39mcount()\n",
      "\u001b[1;31mTypeError\u001b[0m: tuple.count() takes exactly one argument (0 given)"
     ]
    }
   ],
   "source": [
    "t.count()"
   ]
  },
  {
   "cell_type": "code",
   "execution_count": 46,
   "id": "532bed5f-0651-4782-b12e-98e443d87198",
   "metadata": {},
   "outputs": [
    {
     "name": "stdout",
     "output_type": "stream",
     "text": [
      "Help on class tuple in module builtins:\n",
      "\n",
      "class tuple(object)\n",
      " |  tuple(iterable=(), /)\n",
      " |\n",
      " |  Built-in immutable sequence.\n",
      " |\n",
      " |  If no argument is given, the constructor returns an empty tuple.\n",
      " |  If iterable is specified the tuple is initialized from iterable's items.\n",
      " |\n",
      " |  If the argument is a tuple, the return value is the same object.\n",
      " |\n",
      " |  Built-in subclasses:\n",
      " |      asyncgen_hooks\n",
      " |      MonthDayNano\n",
      " |      UnraisableHookArgs\n",
      " |\n",
      " |  Methods defined here:\n",
      " |\n",
      " |  __add__(self, value, /)\n",
      " |      Return self+value.\n",
      " |\n",
      " |  __contains__(self, key, /)\n",
      " |      Return bool(key in self).\n",
      " |\n",
      " |  __eq__(self, value, /)\n",
      " |      Return self==value.\n",
      " |\n",
      " |  __ge__(self, value, /)\n",
      " |      Return self>=value.\n",
      " |\n",
      " |  __getattribute__(self, name, /)\n",
      " |      Return getattr(self, name).\n",
      " |\n",
      " |  __getitem__(self, key, /)\n",
      " |      Return self[key].\n",
      " |\n",
      " |  __getnewargs__(self, /)\n",
      " |\n",
      " |  __gt__(self, value, /)\n",
      " |      Return self>value.\n",
      " |\n",
      " |  __hash__(self, /)\n",
      " |      Return hash(self).\n",
      " |\n",
      " |  __iter__(self, /)\n",
      " |      Implement iter(self).\n",
      " |\n",
      " |  __le__(self, value, /)\n",
      " |      Return self<=value.\n",
      " |\n",
      " |  __len__(self, /)\n",
      " |      Return len(self).\n",
      " |\n",
      " |  __lt__(self, value, /)\n",
      " |      Return self<value.\n",
      " |\n",
      " |  __mul__(self, value, /)\n",
      " |      Return self*value.\n",
      " |\n",
      " |  __ne__(self, value, /)\n",
      " |      Return self!=value.\n",
      " |\n",
      " |  __repr__(self, /)\n",
      " |      Return repr(self).\n",
      " |\n",
      " |  __rmul__(self, value, /)\n",
      " |      Return value*self.\n",
      " |\n",
      " |  count(self, value, /)\n",
      " |      Return number of occurrences of value.\n",
      " |\n",
      " |  index(self, value, start=0, stop=9223372036854775807, /)\n",
      " |      Return first index of value.\n",
      " |\n",
      " |      Raises ValueError if the value is not present.\n",
      " |\n",
      " |  ----------------------------------------------------------------------\n",
      " |  Class methods defined here:\n",
      " |\n",
      " |  __class_getitem__(...)\n",
      " |      See PEP 585\n",
      " |\n",
      " |  ----------------------------------------------------------------------\n",
      " |  Static methods defined here:\n",
      " |\n",
      " |  __new__(*args, **kwargs)\n",
      " |      Create and return a new object.  See help(type) for accurate signature.\n",
      "\n"
     ]
    }
   ],
   "source": [
    "help(tuple)"
   ]
  },
  {
   "cell_type": "code",
   "execution_count": 49,
   "id": "34b5ee99-18a4-4814-8fc5-b3353af3aebf",
   "metadata": {},
   "outputs": [],
   "source": [
    "# sets"
   ]
  },
  {
   "cell_type": "code",
   "execution_count": 50,
   "id": "c0f11d35-510f-4f24-a900-4a5e65dc9f08",
   "metadata": {},
   "outputs": [],
   "source": [
    "s ={12,78,90,45}"
   ]
  },
  {
   "cell_type": "code",
   "execution_count": 51,
   "id": "ba4252f8-d7bf-428b-b6ff-57630b965209",
   "metadata": {},
   "outputs": [
    {
     "data": {
      "text/plain": [
       "{12, 45, 78, 90}"
      ]
     },
     "execution_count": 51,
     "metadata": {},
     "output_type": "execute_result"
    }
   ],
   "source": [
    "s"
   ]
  },
  {
   "cell_type": "code",
   "execution_count": 52,
   "id": "ddfc62a5-ecfc-454a-862e-4c6e2c537b70",
   "metadata": {},
   "outputs": [
    {
     "data": {
      "text/plain": [
       "set"
      ]
     },
     "execution_count": 52,
     "metadata": {},
     "output_type": "execute_result"
    }
   ],
   "source": [
    "type(s)"
   ]
  },
  {
   "cell_type": "code",
   "execution_count": 57,
   "id": "66f852b6-40e0-49b0-a594-303d1eea373b",
   "metadata": {},
   "outputs": [],
   "source": [
    "s = { 12,67,78,12,'pune'}  #set dont allow duplicate # hetero"
   ]
  },
  {
   "cell_type": "code",
   "execution_count": 58,
   "id": "78f72c66-f171-4203-98bf-1cd119be77a1",
   "metadata": {},
   "outputs": [
    {
     "data": {
      "text/plain": [
       "{12, 67, 78, 'pune'}"
      ]
     },
     "execution_count": 58,
     "metadata": {},
     "output_type": "execute_result"
    }
   ],
   "source": [
    "s"
   ]
  },
  {
   "cell_type": "code",
   "execution_count": 68,
   "id": "71e249b4-d170-40ea-aad5-59346630c0fe",
   "metadata": {},
   "outputs": [],
   "source": [
    "s[0] = 22 # immutuable"
   ]
  },
  {
   "cell_type": "code",
   "execution_count": 61,
   "id": "871c0f67-cad8-437f-8edc-259860886c04",
   "metadata": {},
   "outputs": [
    {
     "ename": "TypeError",
     "evalue": "'set' object is not subscriptable",
     "output_type": "error",
     "traceback": [
      "\u001b[1;31m---------------------------------------------------------------------------\u001b[0m",
      "\u001b[1;31mTypeError\u001b[0m                                 Traceback (most recent call last)",
      "Cell \u001b[1;32mIn[61], line 1\u001b[0m\n\u001b[1;32m----> 1\u001b[0m s[\u001b[38;5;241m2\u001b[39m]\n",
      "\u001b[1;31mTypeError\u001b[0m: 'set' object is not subscriptable"
     ]
    }
   ],
   "source": [
    "s[2]"
   ]
  },
  {
   "cell_type": "code",
   "execution_count": 66,
   "id": "2d1b230c-ec3c-46b4-9eda-1fec24b07943",
   "metadata": {},
   "outputs": [],
   "source": [
    "s = {}"
   ]
  },
  {
   "cell_type": "code",
   "execution_count": 67,
   "id": "eddf8c1a-909b-492b-9e1e-3e2421daf388",
   "metadata": {},
   "outputs": [
    {
     "data": {
      "text/plain": [
       "{}"
      ]
     },
     "execution_count": 67,
     "metadata": {},
     "output_type": "execute_result"
    }
   ],
   "source": [
    "s"
   ]
  },
  {
   "cell_type": "code",
   "execution_count": 69,
   "id": "8f7ab935-33ba-4eea-95e8-9adb6d307acb",
   "metadata": {},
   "outputs": [
    {
     "data": {
      "text/plain": [
       "dict"
      ]
     },
     "execution_count": 69,
     "metadata": {},
     "output_type": "execute_result"
    }
   ],
   "source": [
    "type(s)"
   ]
  },
  {
   "cell_type": "code",
   "execution_count": 72,
   "id": "17c82f9c-a735-4076-ab63-4c5aea2b9765",
   "metadata": {},
   "outputs": [],
   "source": [
    "# empty set \n",
    "s = set ()"
   ]
  },
  {
   "cell_type": "code",
   "execution_count": 73,
   "id": "ad8a4b07-5130-4c1e-b703-fcb972271ad2",
   "metadata": {},
   "outputs": [
    {
     "data": {
      "text/plain": [
       "set()"
      ]
     },
     "execution_count": 73,
     "metadata": {},
     "output_type": "execute_result"
    }
   ],
   "source": [
    "s"
   ]
  },
  {
   "cell_type": "code",
   "execution_count": 74,
   "id": "8fb46ce3-7059-433d-bf9e-824baf05e0b4",
   "metadata": {},
   "outputs": [
    {
     "data": {
      "text/plain": [
       "set"
      ]
     },
     "execution_count": 74,
     "metadata": {},
     "output_type": "execute_result"
    }
   ],
   "source": [
    "type(s)"
   ]
  },
  {
   "cell_type": "code",
   "execution_count": 75,
   "id": "565cb2e3-887f-4055-b8a8-72caf4e484f1",
   "metadata": {},
   "outputs": [],
   "source": [
    "# add element\n"
   ]
  },
  {
   "cell_type": "code",
   "execution_count": 76,
   "id": "f798d43d-0495-44c2-8d1d-4a19975210ea",
   "metadata": {},
   "outputs": [],
   "source": [
    "s = { 1, 2,3}"
   ]
  },
  {
   "cell_type": "code",
   "execution_count": 77,
   "id": "ab2e98c5-0224-492b-8a10-16bc1cb9d49b",
   "metadata": {},
   "outputs": [],
   "source": [
    "s.add(4)"
   ]
  },
  {
   "cell_type": "code",
   "execution_count": 78,
   "id": "8bde7572-5826-4234-8c44-92a7f6e589f4",
   "metadata": {},
   "outputs": [
    {
     "data": {
      "text/plain": [
       "{1, 2, 3, 4}"
      ]
     },
     "execution_count": 78,
     "metadata": {},
     "output_type": "execute_result"
    }
   ],
   "source": [
    "s"
   ]
  },
  {
   "cell_type": "code",
   "execution_count": 79,
   "id": "10368d62-0ac9-4670-a9b5-2b109f11015b",
   "metadata": {},
   "outputs": [],
   "source": [
    "s.add(2)"
   ]
  },
  {
   "cell_type": "code",
   "execution_count": 80,
   "id": "03474104-12ed-4d50-9156-4d930f5e2a14",
   "metadata": {},
   "outputs": [
    {
     "data": {
      "text/plain": [
       "{1, 2, 3, 4}"
      ]
     },
     "execution_count": 80,
     "metadata": {},
     "output_type": "execute_result"
    }
   ],
   "source": [
    "s"
   ]
  },
  {
   "cell_type": "code",
   "execution_count": 81,
   "id": "a7aa2fcf-0bbf-4416-85f5-5c613d49ec18",
   "metadata": {},
   "outputs": [],
   "source": [
    "s.remove(1)"
   ]
  },
  {
   "cell_type": "code",
   "execution_count": 82,
   "id": "6640bacc-8ad5-4c71-b59d-dc4c2a4e0387",
   "metadata": {},
   "outputs": [
    {
     "data": {
      "text/plain": [
       "{2, 3, 4}"
      ]
     },
     "execution_count": 82,
     "metadata": {},
     "output_type": "execute_result"
    }
   ],
   "source": [
    "s"
   ]
  },
  {
   "cell_type": "code",
   "execution_count": 83,
   "id": "d4a24479-a86b-444f-bda9-0266120a53c6",
   "metadata": {},
   "outputs": [],
   "source": [
    "s.discard(2)"
   ]
  },
  {
   "cell_type": "code",
   "execution_count": 84,
   "id": "edf47866-4c54-409f-96f2-7b7db03750ed",
   "metadata": {},
   "outputs": [
    {
     "data": {
      "text/plain": [
       "{3, 4}"
      ]
     },
     "execution_count": 84,
     "metadata": {},
     "output_type": "execute_result"
    }
   ],
   "source": [
    "s"
   ]
  },
  {
   "cell_type": "code",
   "execution_count": 85,
   "id": "db92192d-36c9-4bf1-95dd-35c1375e2e11",
   "metadata": {},
   "outputs": [
    {
     "ename": "KeyError",
     "evalue": "5",
     "output_type": "error",
     "traceback": [
      "\u001b[1;31m---------------------------------------------------------------------------\u001b[0m",
      "\u001b[1;31mKeyError\u001b[0m                                  Traceback (most recent call last)",
      "Cell \u001b[1;32mIn[85], line 1\u001b[0m\n\u001b[1;32m----> 1\u001b[0m s\u001b[38;5;241m.\u001b[39mremove(\u001b[38;5;241m5\u001b[39m)\n",
      "\u001b[1;31mKeyError\u001b[0m: 5"
     ]
    }
   ],
   "source": [
    "s.remove(5)"
   ]
  },
  {
   "cell_type": "code",
   "execution_count": 86,
   "id": "f97f74ff-d8e2-4f51-87d2-dc8d2dd158ff",
   "metadata": {},
   "outputs": [],
   "source": [
    "s.discard(5)"
   ]
  },
  {
   "cell_type": "code",
   "execution_count": 87,
   "id": "eb762dd1-7063-4eb1-bcab-50dfa2876741",
   "metadata": {},
   "outputs": [
    {
     "data": {
      "text/plain": [
       "{3, 4}"
      ]
     },
     "execution_count": 87,
     "metadata": {},
     "output_type": "execute_result"
    }
   ],
   "source": [
    "s"
   ]
  },
  {
   "cell_type": "code",
   "execution_count": 90,
   "id": "2e441dcc-e807-4c72-9824-81a0012e38ff",
   "metadata": {},
   "outputs": [],
   "source": [
    "s1 = {23,45,67}\n",
    "s2 = { 23,89,90}"
   ]
  },
  {
   "cell_type": "code",
   "execution_count": 91,
   "id": "34e602b6-a38f-41a9-adee-f002985242ba",
   "metadata": {},
   "outputs": [
    {
     "data": {
      "text/plain": [
       "{23, 45, 67, 89, 90}"
      ]
     },
     "execution_count": 91,
     "metadata": {},
     "output_type": "execute_result"
    }
   ],
   "source": [
    "s1.union(s2)"
   ]
  },
  {
   "cell_type": "code",
   "execution_count": 92,
   "id": "de0dc717-61e5-4efe-b94c-c81104c9c2ab",
   "metadata": {},
   "outputs": [
    {
     "data": {
      "text/plain": [
       "{23, 45, 67, 89, 90}"
      ]
     },
     "execution_count": 92,
     "metadata": {},
     "output_type": "execute_result"
    }
   ],
   "source": [
    "s1 | s2"
   ]
  },
  {
   "cell_type": "code",
   "execution_count": 94,
   "id": "9a355d43-cad5-4bf4-9e3f-47827007baca",
   "metadata": {},
   "outputs": [
    {
     "data": {
      "text/plain": [
       "{23}"
      ]
     },
     "execution_count": 94,
     "metadata": {},
     "output_type": "execute_result"
    }
   ],
   "source": [
    "s1.intersection(s2)"
   ]
  },
  {
   "cell_type": "code",
   "execution_count": 95,
   "id": "17d8ac0c-55aa-4193-a110-5a6cb53ab79c",
   "metadata": {},
   "outputs": [
    {
     "data": {
      "text/plain": [
       "{45, 67}"
      ]
     },
     "execution_count": 95,
     "metadata": {},
     "output_type": "execute_result"
    }
   ],
   "source": [
    "s1.difference(s2)"
   ]
  },
  {
   "cell_type": "code",
   "execution_count": 96,
   "id": "ab7675ed-14d0-4e20-a3f4-3a602f70d71a",
   "metadata": {},
   "outputs": [
    {
     "data": {
      "text/plain": [
       "{45, 67, 89, 90}"
      ]
     },
     "execution_count": 96,
     "metadata": {},
     "output_type": "execute_result"
    }
   ],
   "source": [
    "s1.symmetric_difference(s2)"
   ]
  },
  {
   "cell_type": "code",
   "execution_count": 97,
   "id": "2759ced5-a7cf-4a67-970e-f6c7030980e9",
   "metadata": {},
   "outputs": [],
   "source": [
    "s1 = { 1, 2,3 ,4,5}\n",
    "s2 = {1,2,3}\n",
    "s3 = { 1,6,8}"
   ]
  },
  {
   "cell_type": "code",
   "execution_count": 98,
   "id": "48cbfe10-d2cf-4b69-934c-686ff6b042c1",
   "metadata": {},
   "outputs": [
    {
     "data": {
      "text/plain": [
       "True"
      ]
     },
     "execution_count": 98,
     "metadata": {},
     "output_type": "execute_result"
    }
   ],
   "source": [
    "s2.issubset(s1)"
   ]
  },
  {
   "cell_type": "code",
   "execution_count": 99,
   "id": "e4992deb-128b-428d-8d9e-b9c7fb1053eb",
   "metadata": {},
   "outputs": [
    {
     "data": {
      "text/plain": [
       "True"
      ]
     },
     "execution_count": 99,
     "metadata": {},
     "output_type": "execute_result"
    }
   ],
   "source": [
    "s1.issuperset(s2)"
   ]
  },
  {
   "cell_type": "code",
   "execution_count": 100,
   "id": "85510b35-7b30-4ffe-8833-05121465b674",
   "metadata": {},
   "outputs": [
    {
     "data": {
      "text/plain": [
       "False"
      ]
     },
     "execution_count": 100,
     "metadata": {},
     "output_type": "execute_result"
    }
   ],
   "source": [
    "s3.issubset(s1)"
   ]
  },
  {
   "cell_type": "code",
   "execution_count": 101,
   "id": "33a37877-9c31-446f-8e8b-341cde874cfd",
   "metadata": {},
   "outputs": [
    {
     "data": {
      "text/plain": [
       "False"
      ]
     },
     "execution_count": 101,
     "metadata": {},
     "output_type": "execute_result"
    }
   ],
   "source": [
    "45 in s1"
   ]
  },
  {
   "cell_type": "code",
   "execution_count": 102,
   "id": "fa1eaf0a-93cc-4b74-988e-de81f8b27a51",
   "metadata": {},
   "outputs": [
    {
     "data": {
      "text/plain": [
       "True"
      ]
     },
     "execution_count": 102,
     "metadata": {},
     "output_type": "execute_result"
    }
   ],
   "source": [
    "3 in s1"
   ]
  },
  {
   "cell_type": "markdown",
   "id": "43e9953a-52e1-4794-8754-12740cb4e3cc",
   "metadata": {},
   "source": [
    "# dictionary"
   ]
  },
  {
   "cell_type": "code",
   "execution_count": 107,
   "id": "978a7853-96c5-4e4a-bf56-97655f3afa09",
   "metadata": {},
   "outputs": [],
   "source": [
    "d = {10:'ajay',2: 'raj', 3:'sia'}"
   ]
  },
  {
   "cell_type": "code",
   "execution_count": 108,
   "id": "1c1c0d67-ed6a-44da-bd82-f801a1ec3165",
   "metadata": {},
   "outputs": [
    {
     "data": {
      "text/plain": [
       "{10: 'ajay', 2: 'raj', 3: 'sia'}"
      ]
     },
     "execution_count": 108,
     "metadata": {},
     "output_type": "execute_result"
    }
   ],
   "source": [
    "d"
   ]
  },
  {
   "cell_type": "code",
   "execution_count": 111,
   "id": "52af0509-bb5d-4572-b89c-0999e80c5332",
   "metadata": {},
   "outputs": [
    {
     "data": {
      "text/plain": [
       "'ajay'"
      ]
     },
     "execution_count": 111,
     "metadata": {},
     "output_type": "execute_result"
    }
   ],
   "source": [
    "d[10]"
   ]
  },
  {
   "cell_type": "code",
   "execution_count": 112,
   "id": "a5b8f084-69c7-4c3a-948e-b347ecf97b1d",
   "metadata": {},
   "outputs": [],
   "source": [
    "# key are unique , values are duplicated,ordered \n",
    "d = {10:'ajay',2: 'raj', 3:'sia',4:'bunny'}"
   ]
  },
  {
   "cell_type": "code",
   "execution_count": 113,
   "id": "9ae927ca-cb9f-43b0-9958-0452e767e5cc",
   "metadata": {},
   "outputs": [
    {
     "data": {
      "text/plain": [
       "{10: 'ajay', 2: 'raj', 3: 'sia', 4: 'bunny'}"
      ]
     },
     "execution_count": 113,
     "metadata": {},
     "output_type": "execute_result"
    }
   ],
   "source": [
    "d"
   ]
  },
  {
   "cell_type": "code",
   "execution_count": 114,
   "id": "12e3b78b-bd67-4b48-b781-aad44c2be3f7",
   "metadata": {},
   "outputs": [],
   "source": [
    "d = {10:'ajay',2: 'raj', 3:'sia',4:'bunny','ray':45}"
   ]
  },
  {
   "cell_type": "code",
   "execution_count": 115,
   "id": "c901dc54-f756-4876-82df-be0a97b74931",
   "metadata": {},
   "outputs": [
    {
     "data": {
      "text/plain": [
       "{10: 'ajay', 2: 'raj', 3: 'sia', 4: 'bunny', 'ray': 45}"
      ]
     },
     "execution_count": 115,
     "metadata": {},
     "output_type": "execute_result"
    }
   ],
   "source": [
    "d # hetero"
   ]
  },
  {
   "cell_type": "code",
   "execution_count": 117,
   "id": "c9398f92-1c7b-4b4d-b1e1-da52bfda9184",
   "metadata": {},
   "outputs": [
    {
     "data": {
      "text/plain": [
       "45"
      ]
     },
     "execution_count": 117,
     "metadata": {},
     "output_type": "execute_result"
    }
   ],
   "source": [
    "d['ray']"
   ]
  },
  {
   "cell_type": "code",
   "execution_count": 120,
   "id": "a3e78698-67ec-4f8b-beca-bce789f988ea",
   "metadata": {},
   "outputs": [],
   "source": [
    "d[3] = ' siddhi'  # mutuable"
   ]
  },
  {
   "cell_type": "code",
   "execution_count": 121,
   "id": "b4bded7c-ee3a-4ef3-89ed-e2c15db3f0c0",
   "metadata": {},
   "outputs": [
    {
     "data": {
      "text/plain": [
       "{10: 'ajay', 2: 'raj', 3: ' siddhi', 4: 'bunny', 'ray': 45}"
      ]
     },
     "execution_count": 121,
     "metadata": {},
     "output_type": "execute_result"
    }
   ],
   "source": [
    "d"
   ]
  },
  {
   "cell_type": "code",
   "execution_count": 122,
   "id": "e2ff6936-0999-4778-9aeb-785136b4066f",
   "metadata": {},
   "outputs": [
    {
     "data": {
      "text/plain": [
       "dict_keys([10, 2, 3, 4, 'ray'])"
      ]
     },
     "execution_count": 122,
     "metadata": {},
     "output_type": "execute_result"
    }
   ],
   "source": [
    "d.keys()"
   ]
  },
  {
   "cell_type": "code",
   "execution_count": 123,
   "id": "d702c650-26fa-4b17-ac48-fbcd51f67225",
   "metadata": {},
   "outputs": [
    {
     "data": {
      "text/plain": [
       "dict_values(['ajay', 'raj', ' siddhi', 'bunny', 45])"
      ]
     },
     "execution_count": 123,
     "metadata": {},
     "output_type": "execute_result"
    }
   ],
   "source": [
    "d.values()"
   ]
  },
  {
   "cell_type": "code",
   "execution_count": 124,
   "id": "12db3f2a-0f0c-451d-a449-c987d3b74fa9",
   "metadata": {},
   "outputs": [],
   "source": [
    "# multiple way to create dict "
   ]
  },
  {
   "cell_type": "code",
   "execution_count": 127,
   "id": "34fb81b9-b938-4020-a3d9-aa461d0ea822",
   "metadata": {},
   "outputs": [],
   "source": [
    "# from list of tuple(k,v)\n",
    "t = [(1,'ok'),( 2,'not ok')]"
   ]
  },
  {
   "cell_type": "code",
   "execution_count": 128,
   "id": "6fb3e988-2627-4b0f-b863-8ab10ebafe16",
   "metadata": {},
   "outputs": [
    {
     "data": {
      "text/plain": [
       "{1: 'ok', 2: 'not ok'}"
      ]
     },
     "execution_count": 128,
     "metadata": {},
     "output_type": "execute_result"
    }
   ],
   "source": [
    "dict(t)"
   ]
  },
  {
   "cell_type": "code",
   "execution_count": 129,
   "id": "e4d25b8e-c562-47ad-9e97-b8ceaf42a14a",
   "metadata": {},
   "outputs": [
    {
     "data": {
      "text/plain": [
       "{10: 'ajay', 2: 'raj', 3: ' siddhi', 4: 'bunny', 'ray': 45}"
      ]
     },
     "execution_count": 129,
     "metadata": {},
     "output_type": "execute_result"
    }
   ],
   "source": [
    "d"
   ]
  },
  {
   "cell_type": "code",
   "execution_count": 130,
   "id": "33c0d70a-2e13-4a88-adcd-c75b14cd42b0",
   "metadata": {},
   "outputs": [],
   "source": [
    "d['ray'] = {1,2,3,4}"
   ]
  },
  {
   "cell_type": "code",
   "execution_count": 131,
   "id": "053b2381-c62f-4e95-92fd-ab383cf49360",
   "metadata": {},
   "outputs": [
    {
     "data": {
      "text/plain": [
       "{10: 'ajay', 2: 'raj', 3: ' siddhi', 4: 'bunny', 'ray': {1, 2, 3, 4}}"
      ]
     },
     "execution_count": 131,
     "metadata": {},
     "output_type": "execute_result"
    }
   ],
   "source": [
    "d"
   ]
  },
  {
   "cell_type": "code",
   "execution_count": 132,
   "id": "4c4feabc-f36e-433d-a04d-3d93b5fd18d8",
   "metadata": {},
   "outputs": [
    {
     "data": {
      "text/plain": [
       "'bunny'"
      ]
     },
     "execution_count": 132,
     "metadata": {},
     "output_type": "execute_result"
    }
   ],
   "source": [
    "d.pop(4)"
   ]
  },
  {
   "cell_type": "code",
   "execution_count": 133,
   "id": "07c665d1-c806-48ba-bcd4-e45b62d52eb3",
   "metadata": {},
   "outputs": [
    {
     "data": {
      "text/plain": [
       "0"
      ]
     },
     "execution_count": 133,
     "metadata": {},
     "output_type": "execute_result"
    }
   ],
   "source": [
    "d.pop(100 , 0)"
   ]
  },
  {
   "cell_type": "code",
   "execution_count": 134,
   "id": "17a1c26a-af8c-431c-951b-83f76acf4e71",
   "metadata": {},
   "outputs": [],
   "source": [
    "d = { 1:'pune',2:'mumbai',4:'city','state' :7}"
   ]
  },
  {
   "cell_type": "code",
   "execution_count": 135,
   "id": "2ca8009c-ee89-4ea7-a59c-14079b052cd5",
   "metadata": {},
   "outputs": [],
   "source": [
    "# iterate over the dict and print\n",
    "#index/key .> value"
   ]
  },
  {
   "cell_type": "code",
   "execution_count": 139,
   "id": "ef0723b7-3a2d-41aa-b07e-9d942dfd77ea",
   "metadata": {},
   "outputs": [
    {
     "name": "stdout",
     "output_type": "stream",
     "text": [
      "1 .> pune\n",
      "2 .> mumbai\n",
      "4 .> city\n",
      "state .> 7\n"
     ]
    }
   ],
   "source": [
    "for key, val in d.items():\n",
    "    print(f\"{key} .> {val}\")"
   ]
  },
  {
   "cell_type": "markdown",
   "id": "0d6bab48-c28e-4b11-8961-4dcbf034248b",
   "metadata": {},
   "source": [
    "Data structure problems"
   ]
  },
  {
   "cell_type": "code",
   "execution_count": null,
   "id": "2237ed7f-378c-4d04-9394-2c90864a31e4",
   "metadata": {},
   "outputs": [],
   "source": [
    "# 4 check list empty or not "
   ]
  },
  {
   "cell_type": "code",
   "execution_count": 142,
   "id": "8bef79ba-d6e1-461c-9f03-93d6e75facae",
   "metadata": {},
   "outputs": [
    {
     "name": "stdout",
     "output_type": "stream",
     "text": [
      "The list is not empty.\n"
     ]
    }
   ],
   "source": [
    "my_list = [ 23,56]\n",
    "\n",
    "if my_list == []:\n",
    "    print(\"The list is empty.\")\n",
    "else:\n",
    "    print(\"The list is not empty.\")\n"
   ]
  },
  {
   "cell_type": "code",
   "execution_count": 152,
   "id": "ef93015d-4d0b-4144-ab4f-fdbed0cc266f",
   "metadata": {},
   "outputs": [],
   "source": [
    "# 5.Write a Python program to print a specified list after removing the 0th, 4th and 5th\n",
    "#elements. "
   ]
  },
  {
   "cell_type": "code",
   "execution_count": 3,
   "id": "0a053280-cade-4052-a2cc-ee636fbef191",
   "metadata": {},
   "outputs": [
    {
     "name": "stdout",
     "output_type": "stream",
     "text": [
      "before operation: ['Green', 'Red', 'White', 'Black', 'Pink', 'Yellow', 'purple']\n",
      "after poping 0 : ['Red', 'White', 'Black', 'Pink', 'Yellow', 'purple']\n",
      "after poping 4 : ['Red', 'White', 'Black', 'Pink', 'purple']\n",
      "final output: ['Red', 'orange', 'White', 'Black', 'Pink']\n"
     ]
    }
   ],
   "source": [
    "l = ['Green','Red','White','Black','Pink','Yellow','purple']\n",
    "print(\"before operation:\",l)\n",
    "l.pop(0)\n",
    "print(\"after poping 0 :\",l)\n",
    "l.pop(4)\n",
    "print(\"after poping 4 :\",l)\n",
    "l.insert(1,'orange')\n",
    "l.pop(5)\n",
    "print(\"final output:\",l)"
   ]
  },
  {
   "cell_type": "code",
   "execution_count": 154,
   "id": "f7f8f604-10e1-4d01-a27e-b1339fcc3ca0",
   "metadata": {},
   "outputs": [],
   "source": [
    "# 6 Write a Python program to create a list by concatenating a given list which range goes from\n",
    "#1 to n. "
   ]
  },
  {
   "cell_type": "code",
   "execution_count": 159,
   "id": "35cd4bc9-09d4-4f27-ba2d-c77ad2580cc4",
   "metadata": {},
   "outputs": [
    {
     "name": "stdout",
     "output_type": "stream",
     "text": [
      "['p1', 'q1', 'p2', 'q2', 'p3', 'q3', 'p4', 'q4', 'p5', 'q5']\n"
     ]
    }
   ],
   "source": [
    "\n",
    "my_list = ['p', 'q']\n",
    "n = 5\n",
    "new_list = ['{}{}'.format(x,y) for y in range(1, n+1) for x in my_list]\n",
    "print(new_list)\n"
   ]
  },
  {
   "cell_type": "code",
   "execution_count": 29,
   "id": "2237b2bd-1e05-440d-97d6-a2faba10a852",
   "metadata": {},
   "outputs": [],
   "source": [
    "# 7 Create a tuple of elements with 5 float values in it and perform following operations.\n",
    "#1. Print the data in sorted manner.\n",
    "#2. Check to see that the element 50 is present in it.\n",
    "#3. Convert this tuple in set"
   ]
  },
  {
   "cell_type": "code",
   "execution_count": 28,
   "id": "264b3bf1-693d-4e8e-8258-f581f9a94636",
   "metadata": {},
   "outputs": [
    {
     "name": "stdout",
     "output_type": "stream",
     "text": [
      "Sorted data: [0.99, 1.59, 2.71, 3.14, 4.67]\n",
      "50 is not present\n",
      "(3.14, 1.59, 2.71, 0.99, 4.67)\n"
     ]
    }
   ],
   "source": [
    "\n",
    "t = (3.14, 1.59, 2.71, 0.99, 4.67)\n",
    "sorted_data = sorted(t) \n",
    "print(\"Sorted data:\", sorted_data)\n",
    "if 50 in t :\n",
    "    print(\"yes! 50 is present\")\n",
    "else:\n",
    "    print(\"50 is not present\")\n",
    "my_set = set(t)\n",
    "print(t)\n"
   ]
  },
  {
   "cell_type": "code",
   "execution_count": 30,
   "id": "7443e1be-8bda-4e6b-b14b-7ad4795a4ec4",
   "metadata": {},
   "outputs": [],
   "source": [
    "# 8. Create a dictionary of elements: {‘a’: ‘apple’, ‘b’: ‘ball’, ‘c’: ‘cat’, ‘d’: ‘doll’, ‘k’: ‘king’} and \n",
    "#perform following operations\n",
    "#1. Access the data at key ‘k’.\n",
    " #2. Add a new values ‘z’: ‘zebra’\n",
    " #3. Replace the contents of ‘d’ as ‘dog’\n",
    " #4. Print all the values from this dictionary.\n",
    " #5. Find the length of this dictionary"
   ]
  },
  {
   "cell_type": "code",
   "execution_count": 26,
   "id": "598795a2-6684-4db8-82f3-63b675514a3f",
   "metadata": {},
   "outputs": [
    {
     "name": "stdout",
     "output_type": "stream",
     "text": [
      "before operation >: {'a': 'apple', 'b': 'ball', 'c': 'cat', 'd': 'doll', 'k': 'king'}\n",
      "Access the data at key ‘k’ .>  king\n",
      "after adding new value: {'a': 'apple', 'b': 'ball', 'c': 'cat', 'd': 'doll', 'k': 'king', 'z': 'zebra'}\n",
      "Print all the values from this dictionary >: {'a': 'apple', 'b': 'ball', 'c': 'cat', 'd': 'dog', 'k': 'king', 'z': 'zebra'}\n",
      "length is: 6\n"
     ]
    }
   ],
   "source": [
    "d = { 'a':'apple', 'b':'ball', 'c':'cat', 'd':'doll', 'k':'king'} \n",
    "print(\"before operation >:\",d)\n",
    "print(\"Access the data at key ‘k’ .> \" ,d['k'])\n",
    "d['z']='zebra'\n",
    "print(\"after adding new value:\",d)\n",
    "d['d'] = 'dog'\n",
    "print(\"Print all the values from this dictionary >:\",d)\n",
    "l = len(d)\n",
    "print(\"length is:\" , l)"
   ]
  },
  {
   "cell_type": "code",
   "execution_count": null,
   "id": "afbf473d-ec9d-4902-89da-4c50b13da237",
   "metadata": {},
   "outputs": [],
   "source": []
  }
 ],
 "metadata": {
  "kernelspec": {
   "display_name": "Python [conda env:base] *",
   "language": "python",
   "name": "conda-base-py"
  },
  "language_info": {
   "codemirror_mode": {
    "name": "ipython",
    "version": 3
   },
   "file_extension": ".py",
   "mimetype": "text/x-python",
   "name": "python",
   "nbconvert_exporter": "python",
   "pygments_lexer": "ipython3",
   "version": "3.12.7"
  }
 },
 "nbformat": 4,
 "nbformat_minor": 5
}
