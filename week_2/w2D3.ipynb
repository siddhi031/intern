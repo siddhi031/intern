{
 "cells": [
  {
   "cell_type": "markdown",
   "id": "51b6c429-e6bf-4c21-b4ff-16d29c72ff69",
   "metadata": {},
   "source": [
    "string"
   ]
  },
  {
   "cell_type": "markdown",
   "id": "9bab47aa-bfb3-4420-a5e9-42912b4d23da",
   "metadata": {},
   "source": [
    "# multi way to create string"
   ]
  },
  {
   "cell_type": "code",
   "execution_count": 6,
   "id": "b13bdc64-0dbb-473e-8f4d-81806af08fc9",
   "metadata": {},
   "outputs": [],
   "source": [
    "sent = \"hello\""
   ]
  },
  {
   "cell_type": "code",
   "execution_count": 7,
   "id": "619cd3ae-b017-4916-91f6-d134e33f9f8f",
   "metadata": {},
   "outputs": [],
   "source": [
    "sent = 'hello'"
   ]
  },
  {
   "cell_type": "code",
   "execution_count": 5,
   "id": "695b958e-3390-4ec0-a6f0-84c3f6168159",
   "metadata": {},
   "outputs": [],
   "source": [
    "multi_sent = \"\"\" this is first line \n",
    "this is second line \n",
    "this third line\"\"\""
   ]
  },
  {
   "cell_type": "code",
   "execution_count": 8,
   "id": "db3f2e66-4c73-4c49-a00f-ad58fe456249",
   "metadata": {},
   "outputs": [
    {
     "data": {
      "text/plain": [
       "' this is first line \\nthis is second line \\nthis third line'"
      ]
     },
     "execution_count": 8,
     "metadata": {},
     "output_type": "execute_result"
    }
   ],
   "source": [
    "multi_sent"
   ]
  },
  {
   "cell_type": "code",
   "execution_count": 9,
   "id": "05701bac-d1a8-47a1-9922-261f4f4c65e5",
   "metadata": {},
   "outputs": [
    {
     "name": "stdout",
     "output_type": "stream",
     "text": [
      " this is first line \n",
      "this is second line \n",
      "this third line\n"
     ]
    }
   ],
   "source": [
    "print(multi_sent)"
   ]
  },
  {
   "cell_type": "code",
   "execution_count": 10,
   "id": "862efa7e-3c89-47ba-81df-397f0e974252",
   "metadata": {},
   "outputs": [],
   "source": [
    "# take a user input => string\n",
    "#iterate over it and print index.> ch"
   ]
  },
  {
   "cell_type": "code",
   "execution_count": 14,
   "id": "949a2aae-e706-4e65-bfa9-5681ef7b3421",
   "metadata": {},
   "outputs": [
    {
     "name": "stdin",
     "output_type": "stream",
     "text": [
      "enter the string: hello\n"
     ]
    },
    {
     "name": "stdout",
     "output_type": "stream",
     "text": [
      " 0.> h\n",
      " 1.> e\n",
      " 2.> l\n",
      " 3.> l\n",
      " 4.> o\n"
     ]
    }
   ],
   "source": [
    "s = input(\"enter the string:\")\n",
    "for i in range(len(s)):\n",
    "    print(f\" {i}.> {s[i]}\")"
   ]
  },
  {
   "cell_type": "code",
   "execution_count": 17,
   "id": "4b79b09c-b50a-4743-a7ad-3da628b5e853",
   "metadata": {},
   "outputs": [
    {
     "name": "stdin",
     "output_type": "stream",
     "text": [
      "enter the string: welcome!!\n"
     ]
    },
    {
     "name": "stdout",
     "output_type": "stream",
     "text": [
      "0 .> w\n",
      "1 .> e\n",
      "2 .> l\n",
      "3 .> c\n",
      "4 .> o\n",
      "5 .> m\n",
      "6 .> e\n",
      "7 .> !\n",
      "8 .> !\n"
     ]
    }
   ],
   "source": [
    "s = input(\"enter the string:\")\n",
    "for ind, val in enumerate(s):\n",
    "    print(f\"{ind} .> {val}\")"
   ]
  },
  {
   "cell_type": "code",
   "execution_count": 18,
   "id": "f6371002-4041-4737-b8bf-e7ccebdcae85",
   "metadata": {},
   "outputs": [
    {
     "data": {
      "text/plain": [
       "'welcome!!'"
      ]
     },
     "execution_count": 18,
     "metadata": {},
     "output_type": "execute_result"
    }
   ],
   "source": [
    "s"
   ]
  },
  {
   "cell_type": "code",
   "execution_count": 23,
   "id": "070fe2c6-1409-4932-953a-8ad29dc034d8",
   "metadata": {},
   "outputs": [
    {
     "data": {
      "text/plain": [
       "'wel'"
      ]
     },
     "execution_count": 23,
     "metadata": {},
     "output_type": "execute_result"
    }
   ],
   "source": [
    "s[0:3]"
   ]
  },
  {
   "cell_type": "code",
   "execution_count": 25,
   "id": "0d7d0442-37b8-49db-a150-7e389cd191e1",
   "metadata": {},
   "outputs": [
    {
     "data": {
      "text/plain": [
       "'wloe'"
      ]
     },
     "execution_count": 25,
     "metadata": {},
     "output_type": "execute_result"
    }
   ],
   "source": [
    "s[0:7:2]"
   ]
  },
  {
   "cell_type": "code",
   "execution_count": 26,
   "id": "f404cdf9-5edf-4351-acf6-4b7c5e934c39",
   "metadata": {},
   "outputs": [
    {
     "data": {
      "text/plain": [
       "'wloe!'"
      ]
     },
     "execution_count": 26,
     "metadata": {},
     "output_type": "execute_result"
    }
   ],
   "source": [
    "s[::2]"
   ]
  },
  {
   "cell_type": "code",
   "execution_count": 27,
   "id": "13d25523-c437-428a-be7f-d273a05c4150",
   "metadata": {},
   "outputs": [],
   "source": [
    "# user input = string\n",
    "# using loop split it into individual character\n",
    "#and put it into empty list "
   ]
  },
  {
   "cell_type": "code",
   "execution_count": 37,
   "id": "8502c248-de45-4b23-bff4-7f08f55ef82c",
   "metadata": {},
   "outputs": [
    {
     "name": "stdin",
     "output_type": "stream",
     "text": [
      "Enter a string:  welcome\n"
     ]
    },
    {
     "name": "stdout",
     "output_type": "stream",
     "text": [
      "List of characters: ['w', 'e', 'l', 'c', 'o', 'm', 'e']\n"
     ]
    }
   ],
   "source": [
    "\n",
    "char_list = []   # empty list\n",
    "user_input = input(\"Enter a string: \")\n",
    "for char in user_input:\n",
    "    char_list.append(char)    # adding the element at the end of list\n",
    "print(\"List of characters:\", char_list)\n"
   ]
  },
  {
   "cell_type": "code",
   "execution_count": 38,
   "id": "ea5e25b0-4863-49c3-bdb4-48283ba58434",
   "metadata": {},
   "outputs": [],
   "source": [
    "# use loop and if else to check specific ch in string\n",
    "#get output for both if they are present or not\n",
    "#take 2 character to check (user input)"
   ]
  },
  {
   "cell_type": "code",
   "execution_count": 28,
   "id": "0cc9fdb1-e88a-4113-bdca-bf638cf757b6",
   "metadata": {},
   "outputs": [
    {
     "name": "stdin",
     "output_type": "stream",
     "text": [
      "Enter the string:  hello\n",
      "Enter the first char to check:  h\n",
      "Enter the second char to check:  w\n"
     ]
    },
    {
     "name": "stdout",
     "output_type": "stream",
     "text": [
      "Character 'h' found\n",
      "Character 'w' not found\n"
     ]
    }
   ],
   "source": [
    "user_input = input(\"Enter the string: \")\n",
    "chr1 = input(\"Enter the first char to check: \")\n",
    "chr2 = input(\"Enter the second char to check: \")\n",
    "if chr1 in user_input:\n",
    "    print(f\"Character '{chr1}' found\")\n",
    "else:\n",
    "    print(f\"Character '{chr1}' not found\")\n",
    "if chr2 in user_input:\n",
    "    print(f\"Character '{chr2}' found\")\n",
    "else:\n",
    "    print(f\"Character '{chr2}' not found\")\n",
    "      "
   ]
  },
  {
   "cell_type": "code",
   "execution_count": 41,
   "id": "61a9f816-5df8-49f1-bd1c-cf846ad0ac65",
   "metadata": {},
   "outputs": [
    {
     "name": "stdin",
     "output_type": "stream",
     "text": [
      "Enter a string:  siddhi\n",
      "Enter the first character to check:  s\n",
      "Enter the second character to check:  h\n"
     ]
    },
    {
     "name": "stdout",
     "output_type": "stream",
     "text": [
      "Both 's' and 'h' are in the string.\n"
     ]
    }
   ],
   "source": [
    "\n",
    "text = input(\"Enter a string: \")\n",
    "char1 = input(\"Enter the first character to check: \")\n",
    "char2 = input(\"Enter the second character to check: \")\n",
    "\n",
    "# Count how many times each character appears\n",
    "count1 = 0\n",
    "count2 = 0\n",
    "\n",
    "# Go through each character in the string\n",
    "for ch in text:\n",
    "    if ch == char1:\n",
    "        count1 = count1 + 1\n",
    "    if ch == char2:\n",
    "        count2 = count2 + 1\n",
    "if count1 > 0 and count2 > 0:\n",
    "    print(f\"Both '{char1}' and '{char2}' are in the string.\")\n",
    "elif count1 > 0:\n",
    "    print(f\"Only '{char1}' is in the string.\")\n",
    "elif count2 > 0:\n",
    "    print(f\"Only '{char2}' is in the string.\")\n",
    "else:\n",
    "    print(f\"Neither '{char1}' nor '{char2}' is in the string.\")\n"
   ]
  },
  {
   "cell_type": "code",
   "execution_count": 51,
   "id": "fdace4e3-c594-43ab-a415-eaf2787cb506",
   "metadata": {},
   "outputs": [
    {
     "name": "stdin",
     "output_type": "stream",
     "text": [
      "Enter a string:  welcome\n",
      "Enter the first character to check:  w\n",
      "Enter the second character to check:  e\n"
     ]
    },
    {
     "name": "stdout",
     "output_type": "stream",
     "text": [
      "w is present\n",
      "e  is present\n",
      "e  is present\n"
     ]
    }
   ],
   "source": [
    "text = input(\"Enter a string: \")\n",
    "char1 = input(\"Enter the first character to check: \")\n",
    "char2 = input(\"Enter the second character to check: \")\n",
    "found_char1 = False\n",
    "found_char2= False\n",
    "for i in text:\n",
    "    if i == char1:\n",
    "        print(f\"{char1} is present\")\n",
    "        found_char1 = True\n",
    "    elif i == char2:\n",
    "        print(f\"{char2}  is present\")\n",
    "        found_char2 = True\n",
    "if found_char1 == False:\n",
    "    print(f\"{char1} is not present\")\n",
    "if found_char2 == False:\n",
    "    print(f\"{char2} is not present\")\n",
    "    \n",
    "    \n",
    "    \n",
    "    \n",
    "    "
   ]
  },
  {
   "cell_type": "code",
   "execution_count": 29,
   "id": "83a0bd62-de37-4ce0-8fea-c3d6e35bc5fe",
   "metadata": {},
   "outputs": [],
   "source": [
    "# string concation"
   ]
  },
  {
   "cell_type": "code",
   "execution_count": 30,
   "id": "93473223-64fa-4c46-a46a-2d71f73e736b",
   "metadata": {},
   "outputs": [
    {
     "data": {
      "text/plain": [
       "'string hi'"
      ]
     },
     "execution_count": 30,
     "metadata": {},
     "output_type": "execute_result"
    }
   ],
   "source": [
    "\"string\" +\" \"+ \"hi\""
   ]
  },
  {
   "cell_type": "code",
   "execution_count": 58,
   "id": "eca9dad4-d462-4291-be94-1b8c912f1a77",
   "metadata": {},
   "outputs": [],
   "source": [
    "sent = \"hii , python , c++\""
   ]
  },
  {
   "cell_type": "code",
   "execution_count": 61,
   "id": "28d3614b-a215-4eac-96af-ac9935623fcf",
   "metadata": {},
   "outputs": [
    {
     "data": {
      "text/plain": [
       "'hii , python , c++'"
      ]
     },
     "execution_count": 61,
     "metadata": {},
     "output_type": "execute_result"
    }
   ],
   "source": [
    "sent"
   ]
  },
  {
   "cell_type": "code",
   "execution_count": 59,
   "id": "533972a7-ce22-4629-9894-2b2f256601c0",
   "metadata": {},
   "outputs": [
    {
     "data": {
      "text/plain": [
       "'oii , pytoon , c++'"
      ]
     },
     "execution_count": 59,
     "metadata": {},
     "output_type": "execute_result"
    }
   ],
   "source": [
    "sent.replace(\"h\",\"o\")"
   ]
  },
  {
   "cell_type": "code",
   "execution_count": 60,
   "id": "500b8811-424f-418d-a471-bd22e8b36a9c",
   "metadata": {},
   "outputs": [
    {
     "data": {
      "text/plain": [
       "['hii , python , c++']"
      ]
     },
     "execution_count": 60,
     "metadata": {},
     "output_type": "execute_result"
    }
   ],
   "source": [
    "sent.split('.')"
   ]
  },
  {
   "cell_type": "code",
   "execution_count": 62,
   "id": "45e010ff-0d21-450c-9eab-b6ea44e9d75b",
   "metadata": {},
   "outputs": [],
   "source": [
    "l = [ '1','2','3','4']"
   ]
  },
  {
   "cell_type": "code",
   "execution_count": 64,
   "id": "8cca9e44-c1d6-43c9-b317-7a0009bd600d",
   "metadata": {},
   "outputs": [
    {
     "data": {
      "text/plain": [
       "'1-2-3-4'"
      ]
     },
     "execution_count": 64,
     "metadata": {},
     "output_type": "execute_result"
    }
   ],
   "source": [
    "'-'.join(l)"
   ]
  },
  {
   "cell_type": "code",
   "execution_count": 66,
   "id": "7282d04f-9a47-46c9-add7-05c65b263ade",
   "metadata": {},
   "outputs": [],
   "source": [
    "# escape sequence "
   ]
  },
  {
   "cell_type": "code",
   "execution_count": 67,
   "id": "35e6a669-1f59-498e-b285-2a3564b29f95",
   "metadata": {},
   "outputs": [
    {
     "name": "stdout",
     "output_type": "stream",
     "text": [
      " this is first string\n",
      " this second\n"
     ]
    }
   ],
   "source": [
    "print(\" this is first string\\n this second\")"
   ]
  },
  {
   "cell_type": "code",
   "execution_count": 68,
   "id": "16190ebd-6146-4b44-af5b-a46753eedbef",
   "metadata": {},
   "outputs": [
    {
     "name": "stdout",
     "output_type": "stream",
     "text": [
      " this is first string\"this second\n"
     ]
    }
   ],
   "source": [
    "print(\" this is first string\\\"this second\")"
   ]
  },
  {
   "cell_type": "code",
   "execution_count": 69,
   "id": "a643c99a-be9f-470b-b925-b2f2ca5a9961",
   "metadata": {},
   "outputs": [
    {
     "name": "stdout",
     "output_type": "stream",
     "text": [
      " this is first string \t this second\n"
     ]
    }
   ],
   "source": [
    "print(\" this is first string \\t this second\")"
   ]
  },
  {
   "cell_type": "code",
   "execution_count": 70,
   "id": "f701c9d0-f14d-44a6-b503-baf2a4e6322d",
   "metadata": {},
   "outputs": [
    {
     "name": "stdout",
     "output_type": "stream",
     "text": [
      " this is first string \\n this second\n"
     ]
    }
   ],
   "source": [
    "print(\" this is first string \\\\n this second\")"
   ]
  },
  {
   "cell_type": "code",
   "execution_count": 71,
   "id": "2ecf592f-c932-4444-bbd8-f62de161915a",
   "metadata": {},
   "outputs": [],
   "source": [
    "# format to print sent"
   ]
  },
  {
   "cell_type": "code",
   "execution_count": 76,
   "id": "f199d8f0-af8d-4a70-bc40-5d1a645647a1",
   "metadata": {},
   "outputs": [],
   "source": [
    "name = \"sia\"\n",
    "marks = 90"
   ]
  },
  {
   "cell_type": "code",
   "execution_count": 77,
   "id": "ac649a25-cbc0-4ee2-8ded-e932999c0869",
   "metadata": {},
   "outputs": [
    {
     "data": {
      "text/plain": [
       "'my name is sia and marks are 90'"
      ]
     },
     "execution_count": 77,
     "metadata": {},
     "output_type": "execute_result"
    }
   ],
   "source": [
    "\"my name is {} and marks are {}\".format(name,marks)"
   ]
  },
  {
   "attachments": {},
   "cell_type": "markdown",
   "id": "513dae2c-8c47-49dc-b8e0-46ec7f58b53b",
   "metadata": {},
   "source": [
    "# string problem\n",
    "\n"
   ]
  },
  {
   "cell_type": "markdown",
   "id": "f7ab1010-aab4-47f6-beb8-a8a5e4fceb6e",
   "metadata": {},
   "source": [
    "# 1 .Vowel Counter:\n",
    "write program on that take input string . using for loop ,iterate through each char is vowel (a,e,i,o,u,case-insensitive ).\n",
    "#increment a counter . store the count of each vowel in dictionary . finally print the total no of vowel found and the dictionary of vowel counts"
   ]
  },
  {
   "cell_type": "code",
   "execution_count": 82,
   "id": "8a42ff9b-eb4f-4cd3-9c79-864572aaecfc",
   "metadata": {},
   "outputs": [
    {
     "name": "stdin",
     "output_type": "stream",
     "text": [
      "Enter a string:  welcome\n"
     ]
    },
    {
     "name": "stdout",
     "output_type": "stream",
     "text": [
      " total vowel: 3\n",
      "vowel counts: {'a': 0, 'e': 2, 'i': 0, 'o': 1, 'u': 0}\n"
     ]
    }
   ],
   "source": [
    "input_string = input(\"Enter a string: \")\n",
    "counts = {\"a\":0,\"e\":0,\"i\":0,\"o\":0,\"u\":0}\n",
    "total = 0\n",
    "for ch in input_string.lower():\n",
    "    if ch == \"a\":\n",
    "        counts['a'] += 1\n",
    "        total += 1\n",
    "    elif ch == \"e\":\n",
    "        counts['e'] += 1\n",
    "        total += 1\n",
    "    elif ch == \"i\":\n",
    "        counts['i'] += 1\n",
    "        total += 1\n",
    "    elif ch == \"o\":\n",
    "        counts['o'] += 1\n",
    "        total += 1    \n",
    "    elif ch == \"u\":\n",
    "        counts['u'] += 1\n",
    "        total += 1   \n",
    "print(\" total vowel:\",total)\n",
    "print(\"vowel counts:\",counts)\n",
    "        "
   ]
  },
  {
   "cell_type": "markdown",
   "id": "603247a0-4f59-49b5-8bdc-01f4fb30d5d1",
   "metadata": {},
   "source": [
    "# 2 palindrome"
   ]
  },
  {
   "cell_type": "code",
   "execution_count": 97,
   "id": "a1657d36-9921-4138-aa3b-97e9ca6c3405",
   "metadata": {},
   "outputs": [
    {
     "name": "stdin",
     "output_type": "stream",
     "text": [
      "enter the string: radar\n"
     ]
    },
    {
     "name": "stdout",
     "output_type": "stream",
     "text": [
      " 'radar' is palindrome\n"
     ]
    }
   ],
   "source": [
    "s = input(\"enter the string:\")\n",
    "reversed_char =[]\n",
    "for char in s:\n",
    "    reversed_char.insert(0,char)\n",
    "reversed_string = ''.join(reversed_char)\n",
    "if s == reversed_string:\n",
    "    print(f\" '{s}' is palindrome\")\n",
    "else:\n",
    "    print(f\"'{s}'is not palindrome\")"
   ]
  },
  {
   "cell_type": "markdown",
   "id": "69905d87-4909-4b9b-8178-3b60fcc07100",
   "metadata": {},
   "source": [
    "# 3 Character Frequency Counter"
   ]
  },
  {
   "cell_type": "code",
   "execution_count": 99,
   "id": "7285a657-9018-43ee-8cf2-7c486e27a360",
   "metadata": {},
   "outputs": [
    {
     "name": "stdin",
     "output_type": "stream",
     "text": [
      "enter the string: hello world\n"
     ]
    },
    {
     "name": "stdout",
     "output_type": "stream",
     "text": [
      "character frequency:\n",
      "'h':1\n",
      "'e':1\n",
      "'l':3\n",
      "'o':2\n",
      "' ':1\n",
      "'w':1\n",
      "'r':1\n",
      "'d':1\n"
     ]
    }
   ],
   "source": [
    "user_input= input(\"enter the string:\")\n",
    "frequency={}\n",
    "for i in user_input:\n",
    "    if i in frequency:\n",
    "        frequency[i]+=1\n",
    "    else:\n",
    "        frequency[i]=1\n",
    "print(\"character frequency:\")\n",
    "for i , count in frequency.items():\n",
    "    print(f\"'{i}':{count}\")"
   ]
  },
  {
   "cell_type": "markdown",
   "id": "9d9256b7-64a5-4b1f-afad-7a03716ae938",
   "metadata": {},
   "source": [
    "# 4. word length classification "
   ]
  },
  {
   "cell_type": "code",
   "execution_count": 108,
   "id": "5c161ce3-1e84-4715-b5f7-aea7d52afc45",
   "metadata": {},
   "outputs": [
    {
     "name": "stdin",
     "output_type": "stream",
     "text": [
      "enter the string : hello world welcome to python_programming\n"
     ]
    },
    {
     "name": "stdout",
     "output_type": "stream",
     "text": [
      "short words: ['to']\n",
      "medium words: ['hello', 'world', 'welcome']\n",
      "large words : ['python_programming']\n"
     ]
    }
   ],
   "source": [
    "s = input(\"enter the string :\")\n",
    "words = s.split()\n",
    "short_words =[]\n",
    "medium_words=[]\n",
    "large_words = []\n",
    "for i in words:\n",
    "    if len(i)<5:\n",
    "        short_words.append(i)\n",
    "    elif len(i) <=8:\n",
    "        medium_words.append(i)\n",
    "    else:\n",
    "        large_words.append(i)\n",
    "print(\"short words:\",short_words)\n",
    "print(\"medium words:\",medium_words)\n",
    "print(\"large words :\" , large_words )"
   ]
  },
  {
   "cell_type": "markdown",
   "id": "643b21e7-d3f7-4f42-bdb6-30a85b7b61bd",
   "metadata": {},
   "source": [
    "### 5.substring with specific start/end"
   ]
  },
  {
   "cell_type": "code",
   "execution_count": 3,
   "id": "6f4be1f1-60d4-4ccc-ae3d-2c651b3c519d",
   "metadata": {},
   "outputs": [
    {
     "name": "stdin",
     "output_type": "stream",
     "text": [
      "Enter strings separated by commas:  py,python,pythonic,pythaon\n",
      "Enter the prefix to match:  py\n",
      "Enter the suffix to match:  on\n"
     ]
    },
    {
     "name": "stdout",
     "output_type": "stream",
     "text": [
      "Matching strings: ['python', 'pythaon']\n"
     ]
    }
   ],
   "source": [
    "\n",
    "user_input = input(\"Enter strings separated by commas: \")\n",
    "strings = [s.strip() for s in user_input.split(\",\")]\n",
    "prefix = input(\"Enter the prefix to match: \")\n",
    "suffix = input(\"Enter the suffix to match: \")\n",
    "matching_strings = []\n",
    "\n",
    "# Iterate through each string and check the conditions\n",
    "for s in strings:\n",
    "    if s.startswith(prefix) and s.endswith(suffix):\n",
    "        matching_strings.append(s)\n",
    "\n",
    "# Print the matching strings\n",
    "print(\"Matching strings:\", matching_strings)\n",
    "\n"
   ]
  },
  {
   "cell_type": "markdown",
   "id": "97544091-cbdf-49d5-b2bd-4f5a78a846dd",
   "metadata": {},
   "source": [
    "# 6. Unique Word Extractor:\n",
    "Write a function that takes a paragraph (string) as input. Convert the paragraph\n",
    " to lowercase and remove punctuation. Use a for loop to split the paragraph into\n",
    " words and add each unique word to a set data structure. Finally, convert the set\n",
    " back to a sorted list and print it"
   ]
  },
  {
   "cell_type": "code",
   "execution_count": 9,
   "id": "27f86009-b74c-48c3-be10-790a38a20d8b",
   "metadata": {},
   "outputs": [
    {
     "name": "stdin",
     "output_type": "stream",
     "text": [
      "Enter a paragraph:  python is great! and easy to learn. is'nt it?\n"
     ]
    },
    {
     "name": "stdout",
     "output_type": "stream",
     "text": [
      "Sorted unique words: ['and', 'easy', 'great', 'is', 'isnt', 'it', 'learn', 'python', 'to']\n"
     ]
    }
   ],
   "source": [
    "import string  # To access punctuation characters\n",
    "paragraph = input(\"Enter a paragraph: \")\n",
    "\n",
    "# Convert paragraph to lowercase\n",
    "paragraph = paragraph.lower()\n",
    "\n",
    "# Remove punctuation\n",
    "for char in string.punctuation:\n",
    "    paragraph = paragraph.replace(char, \"\")\n",
    "\n",
    "# Split paragraph into words\n",
    "words = paragraph.split()\n",
    "\n",
    "# Create an empty set to store unique words\n",
    "unique_words = set()\n",
    "for word in words:\n",
    "    unique_words.add(word)\n",
    "\n",
    "# Convert the set to a sorted list\n",
    "sorted_unique_words = sorted(list(unique_words))\n",
    "print(\"Sorted unique words:\", sorted_unique_words)\n"
   ]
  },
  {
   "cell_type": "markdown",
   "id": "318edcf3-9d9d-4083-bd7b-129c469d7cee",
   "metadata": {},
   "source": [
    "# 7 .Even/Odd Indexed Character Separator:\n",
    "Create a Python function that takes a string. Using a for loop with enumerate,\n",
    "iterate through the string. Use an if-else statement to check if the index of a\n",
    "character is even or odd. Store characters at even indices in one list and\n",
    "characters at odd indices in another list. Print both lists."
   ]
  },
  {
   "cell_type": "code",
   "execution_count": 11,
   "id": "9a809e62-2d2f-43f2-90b5-4c2f1de5b997",
   "metadata": {},
   "outputs": [
    {
     "name": "stdin",
     "output_type": "stream",
     "text": [
      "Enter a string:  welcome\n"
     ]
    },
    {
     "name": "stdout",
     "output_type": "stream",
     "text": [
      "Characters at even indices: ['w', 'l', 'o', 'e']\n",
      "Characters at odd indices: ['e', 'c', 'm']\n"
     ]
    }
   ],
   "source": [
    "# Get user input\n",
    "text = input(\"Enter a string: \")\n",
    "\n",
    "# Lists to store characters\n",
    "even_index_chars = []\n",
    "odd_index_chars = []\n",
    "\n",
    "# Loop through the string with enumerate\n",
    "for index, char in enumerate(text):\n",
    "    if index % 2 == 0:\n",
    "        even_index_chars.append(char)\n",
    "    else:\n",
    "        odd_index_chars.append(char)\n",
    "\n",
    "# Print both lists\n",
    "print(\"Characters at even indices:\", even_index_chars)\n",
    "print(\"Characters at odd indices:\", odd_index_chars)\n"
   ]
  },
  {
   "cell_type": "markdown",
   "id": "888da1ba-4d72-4ed4-a535-eba64d8ce4e9",
   "metadata": {},
   "source": [
    "# 8.String Anagram Checker\n",
    "Write a function that takes two strings as input. Convert both strings into lists of\n",
    "characters. Sort both lists. Use an if-else statement to check if the sorted lists are\n",
    "identical. Print whether the two strings are anagrams of each other (contain the\n",
    "same characters with the same frequencies).\n"
   ]
  },
  {
   "cell_type": "code",
   "execution_count": 14,
   "id": "d4e7559f-240a-42b4-832e-49f983617a20",
   "metadata": {},
   "outputs": [
    {
     "name": "stdin",
     "output_type": "stream",
     "text": [
      "Enter the first string:  hello\n",
      "Enter the second string:  yellow\n"
     ]
    },
    {
     "name": "stdout",
     "output_type": "stream",
     "text": [
      "The strings are NOT anagrams of each other.\n"
     ]
    }
   ],
   "source": [
    "str1 = input(\"Enter the first string: \")\n",
    "str2 = input(\"Enter the second string: \")\n",
    "str1 = str1.lower()\n",
    "str2 = str2.lower()\n",
    "\n",
    "# Convert strings to lists of characters\n",
    "list1 = list(str1)\n",
    "list2 = list(str2)\n",
    "\n",
    "# Sort both lists\n",
    "list1.sort()\n",
    "list2.sort()\n",
    "\n",
    "# Check if the sorted lists are equal\n",
    "if list1 == list2:\n",
    "    print(\"The strings are anagrams of each other.\")\n",
    "else:\n",
    "    print(\"The strings are NOT anagrams of each other.\")\n"
   ]
  },
  {
   "cell_type": "markdown",
   "id": "78d0e066-39b2-4284-853e-bf3f487dc4cd",
   "metadata": {},
   "source": [
    "# 9.Missing Character Finder (Alphabet Check):\n",
    "\n",
    "Given a string, write a function that determines which lowercase English alphabet\n",
    "leers are not present in the string. Use a set to store all lowercase leers. Iterate\n",
    "through the input string, removing each found leer from the set. Print the\n",
    "remaining leers in the set."
   ]
  },
  {
   "cell_type": "code",
   "execution_count": 20,
   "id": "a842b388-96a8-4efb-841f-43e5616e9fe3",
   "metadata": {},
   "outputs": [
    {
     "name": "stdin",
     "output_type": "stream",
     "text": [
      "Enter a string:  hello world\n"
     ]
    },
    {
     "name": "stdout",
     "output_type": "stream",
     "text": [
      "Letters not present: a b c f g i j k m n p q s t u v x y z\n"
     ]
    }
   ],
   "source": [
    "import string \n",
    "input_str = input(\"Enter a string: \").lower()\n",
    "all_letters = set(string.ascii_lowercase)\n",
    "\n",
    "for char in input_str:\n",
    "        if char in all_letters:\n",
    "            all_letters.remove(char)\n",
    "print(\"Letters not present:\", ' '.join(sorted(all_letters)))\n"
   ]
  },
  {
   "cell_type": "markdown",
   "id": "e88da39a-1261-4a3a-84a6-eb669b5d4a75",
   "metadata": {},
   "source": [
    "# 10 .Custom String Reversal (Word by Word):\n",
    "Write a function that takes a sentence. Use a for loop to iterate through the words\n",
    "of the sentence. Store each word in a list. Then, using another loop (or list slicing),\n",
    "reverse the order of words in the list. Finally, join the reversed words back into a\n",
    "single string and print the result. "
   ]
  },
  {
   "cell_type": "code",
   "execution_count": 26,
   "id": "7df8c483-3cde-4544-a809-a99645da4651",
   "metadata": {},
   "outputs": [
    {
     "name": "stdin",
     "output_type": "stream",
     "text": [
      "Enter a sentence:  hello world! welcome\n"
     ]
    },
    {
     "name": "stdout",
     "output_type": "stream",
     "text": [
      "welcome world! hello\n"
     ]
    }
   ],
   "source": [
    "sentence = input(\"Enter a sentence: \")\n",
    "\n",
    "# Split the sentence into words and store in a list using a for loop\n",
    "words = []\n",
    "for word in sentence.split():\n",
    "    words.append(word)\n",
    "\n",
    "# Reverse the list of words without using -1 by inserting at the front\n",
    "reversed_words = []\n",
    "for word in words:\n",
    "    reversed_words.insert(0, word)  # insert each word at the start\n",
    "\n",
    "# Join the reversed words back into a single string\n",
    "reversed_sentence = ' '.join(reversed_words)\n",
    "print(reversed_sentence)\n"
   ]
  },
  {
   "cell_type": "code",
   "execution_count": null,
   "id": "d358744d-4fbe-44ff-8f94-5e75f41facb2",
   "metadata": {},
   "outputs": [],
   "source": []
  }
 ],
 "metadata": {
  "kernelspec": {
   "display_name": "Python [conda env:base] *",
   "language": "python",
   "name": "conda-base-py"
  },
  "language_info": {
   "codemirror_mode": {
    "name": "ipython",
    "version": 3
   },
   "file_extension": ".py",
   "mimetype": "text/x-python",
   "name": "python",
   "nbconvert_exporter": "python",
   "pygments_lexer": "ipython3",
   "version": "3.12.7"
  }
 },
 "nbformat": 4,
 "nbformat_minor": 5
}
