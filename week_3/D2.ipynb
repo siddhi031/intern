{
 "cells": [
  {
   "cell_type": "markdown",
   "id": "79965800-d706-448a-9d55-188a74a9147f",
   "metadata": {},
   "source": [
    "# POLYMORPHISM "
   ]
  },
  {
   "cell_type": "markdown",
   "id": "c27587a0-79ca-4cfc-b646-32636d624a5d",
   "metadata": {},
   "source": [
    "#### The ability for different object to respond to the same method call in thier own \n",
    "#### unique way , thename means 'many forms '"
   ]
  },
  {
   "cell_type": "code",
   "execution_count": 5,
   "id": "61958132-455c-497c-837c-914e99d0ae3c",
   "metadata": {},
   "outputs": [],
   "source": [
    "class Dog:\n",
    "    def speak(self):\n",
    "        print ('bark')\n",
    "class Cat:\n",
    "     def speak(self):\n",
    "         print('meow')\n",
    "        "
   ]
  },
  {
   "cell_type": "code",
   "execution_count": 6,
   "id": "9880ad6f-b3d8-481b-8591-67bcb9d7da20",
   "metadata": {},
   "outputs": [],
   "source": [
    "def animal_speak(animal):\n",
    "    animal.speak()"
   ]
  },
  {
   "cell_type": "code",
   "execution_count": 7,
   "id": "4c6164a9-a8d5-43d7-9041-56adebae75f7",
   "metadata": {},
   "outputs": [],
   "source": [
    "dog = Dog()\n",
    "cat = Cat()"
   ]
  },
  {
   "cell_type": "code",
   "execution_count": 8,
   "id": "6807c7c9-1ba8-4562-9440-599c79ffcc73",
   "metadata": {},
   "outputs": [
    {
     "name": "stdout",
     "output_type": "stream",
     "text": [
      "bark\n"
     ]
    }
   ],
   "source": [
    "animal_speak(dog)"
   ]
  },
  {
   "cell_type": "code",
   "execution_count": 9,
   "id": "db00260c-5136-47e3-b005-8843f807620c",
   "metadata": {},
   "outputs": [
    {
     "name": "stdout",
     "output_type": "stream",
     "text": [
      "meow\n"
     ]
    }
   ],
   "source": [
    "animal_speak(cat)"
   ]
  },
  {
   "cell_type": "markdown",
   "id": "f706f5fe-2c1c-47ec-bbe1-f008eeac2b9c",
   "metadata": {},
   "source": [
    "## Operator overloading"
   ]
  },
  {
   "cell_type": "markdown",
   "id": "549fc266-f143-47db-a896-713f8bc1ea67",
   "metadata": {},
   "source": [
    "##### operator overloading allows you to  redefine how standard operator like +,-,*,==,and > work with your custom object \n",
    "##### essentially, yours giving special meaning to these operator for a class your created."
   ]
  },
  {
   "cell_type": "code",
   "execution_count": 10,
   "id": "99e70042-9a24-4973-af62-11e04b46b04a",
   "metadata": {},
   "outputs": [],
   "source": [
    "class A:\n",
    "    def __init__(self , a):\n",
    "        self.a = a\n",
    "    def __add__(self,o):\n",
    "        return self.a + o.a"
   ]
  },
  {
   "cell_type": "code",
   "execution_count": 11,
   "id": "be08acd2-fef3-497b-8105-c45925555298",
   "metadata": {},
   "outputs": [],
   "source": [
    "obj1 = A(23)\n",
    "obj2 = A(77)"
   ]
  },
  {
   "cell_type": "code",
   "execution_count": 12,
   "id": "497f7713-ebfc-4c6d-ade3-5dde7c33cbd2",
   "metadata": {},
   "outputs": [
    {
     "data": {
      "text/plain": [
       "100"
      ]
     },
     "execution_count": 12,
     "metadata": {},
     "output_type": "execute_result"
    }
   ],
   "source": [
    "obj1 + obj2"
   ]
  },
  {
   "cell_type": "code",
   "execution_count": 13,
   "id": "3c1396c0-1f42-4bd7-bbbf-6595bd174ccf",
   "metadata": {},
   "outputs": [],
   "source": [
    "obj3 = A(\"pune \")\n",
    "obj4 = A(\"maharashtra\")"
   ]
  },
  {
   "cell_type": "code",
   "execution_count": 14,
   "id": "494f8267-9ee7-417e-8e45-18d6cada0817",
   "metadata": {},
   "outputs": [
    {
     "data": {
      "text/plain": [
       "'pune maharashtra'"
      ]
     },
     "execution_count": 14,
     "metadata": {},
     "output_type": "execute_result"
    }
   ],
   "source": [
    "obj3 + obj4"
   ]
  },
  {
   "cell_type": "markdown",
   "id": "26198a6d-ba91-4115-9053-54e00de32cf5",
   "metadata": {},
   "source": [
    "## Destructor"
   ]
  },
  {
   "cell_type": "markdown",
   "id": "98b06a2e-c991-4e2f-b07d-52f6f027cd66",
   "metadata": {},
   "source": [
    "#### A destructor is special member function of a class that is automatically called when an object of that class is destroyed .Its primary purpose is allocate any resources that the object might have acquired during its lifetime ,such as dynamically  allocated memory,file handle or network connetions. "
   ]
  },
  {
   "cell_type": "code",
   "execution_count": 25,
   "id": "29f24261-984e-49a5-99bd-2985a6eb4d59",
   "metadata": {},
   "outputs": [],
   "source": [
    "class Employee:\n",
    "    def __init__(self):     #constructor \n",
    "        print(\"object created\")\n",
    "\n",
    "    \n",
    "    def __del__(self):      # destructor\n",
    "        print(\"object deleted\")"
   ]
  },
  {
   "cell_type": "code",
   "execution_count": 26,
   "id": "ba5fb5ca-d1c8-4ed3-94d2-daf5e74bf71f",
   "metadata": {},
   "outputs": [
    {
     "name": "stdout",
     "output_type": "stream",
     "text": [
      "object created\n",
      "object deleted\n"
     ]
    }
   ],
   "source": [
    "emp = Employee()"
   ]
  },
  {
   "cell_type": "code",
   "execution_count": 27,
   "id": "4e531aab-127c-461b-9dab-ede2333ec8cd",
   "metadata": {},
   "outputs": [
    {
     "name": "stdout",
     "output_type": "stream",
     "text": [
      "object deleted\n"
     ]
    }
   ],
   "source": [
    "del emp"
   ]
  },
  {
   "cell_type": "code",
   "execution_count": null,
   "id": "15576519-d874-4321-b77a-a8737d1b4e4a",
   "metadata": {},
   "outputs": [],
   "source": []
  }
 ],
 "metadata": {
  "kernelspec": {
   "display_name": "Python [conda env:base] *",
   "language": "python",
   "name": "conda-base-py"
  },
  "language_info": {
   "codemirror_mode": {
    "name": "ipython",
    "version": 3
   },
   "file_extension": ".py",
   "mimetype": "text/x-python",
   "name": "python",
   "nbconvert_exporter": "python",
   "pygments_lexer": "ipython3",
   "version": "3.12.7"
  }
 },
 "nbformat": 4,
 "nbformat_minor": 5
}
