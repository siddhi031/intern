{
 "cells": [
  {
   "cell_type": "markdown",
   "id": "f4900841-598f-4dd4-ac9a-c168a17c8b87",
   "metadata": {},
   "source": [
    "# object oriented in python"
   ]
  },
  {
   "cell_type": "markdown",
   "id": "e8d48352-977f-4667-b1f6-7f0e262cc713",
   "metadata": {},
   "source": [
    "#### # oop has  data-centric approach  #"
   ]
  },
  {
   "cell_type": "code",
   "execution_count": 5,
   "id": "62fbdee6-486c-4025-b8ce-120e8ffcc6e6",
   "metadata": {},
   "outputs": [],
   "source": [
    "# class defination\n",
    "class test :\n",
    "    # simple function/method\n",
    "    def fun (self):\n",
    "        print(\"hello\")\n",
    "\n",
    "    "
   ]
  },
  {
   "cell_type": "code",
   "execution_count": 6,
   "id": "a59957ee-8375-4871-b719-810d7090a0fe",
   "metadata": {},
   "outputs": [],
   "source": [
    "# create the object\n",
    "obj = test()"
   ]
  },
  {
   "cell_type": "code",
   "execution_count": 7,
   "id": "0f458b61-ffb3-48ac-88ec-e87af99313d1",
   "metadata": {},
   "outputs": [
    {
     "name": "stdout",
     "output_type": "stream",
     "text": [
      "hello\n"
     ]
    }
   ],
   "source": [
    "obj.fun()"
   ]
  },
  {
   "cell_type": "markdown",
   "id": "f5e5950c-68b5-42b0-911d-276fc5386af8",
   "metadata": {},
   "source": [
    "### define properties / attributes using constructor "
   ]
  },
  {
   "cell_type": "raw",
   "id": "a524d48c-972b-49d5-b815-41feb8bb2eb9",
   "metadata": {},
   "source": [
    "In OOP , a constructor is a special method within class that is automatically invoked when a new object of that class is created .Its primary purpose\n",
    " is to initialize the object attribut or member , setting them to thier initial states. constructor ensure that a new object are in valid and usable \n",
    " state when they are created."
   ]
  },
  {
   "cell_type": "code",
   "execution_count": 18,
   "id": "b0b360fb-e375-4929-b9f8-0088d4788063",
   "metadata": {},
   "outputs": [],
   "source": [
    "class MyClass:\n",
    "    def _init_(self):   # constructor \n",
    "       print(\"hello world \")\n",
    "    "
   ]
  },
  {
   "cell_type": "code",
   "execution_count": 27,
   "id": "8e246f71-4ae4-41a9-919a-ff7a9f3bcf53",
   "metadata": {},
   "outputs": [],
   "source": [
    "obj = MyClass()"
   ]
  },
  {
   "cell_type": "code",
   "execution_count": 41,
   "id": "7896b3d0-aec9-4b52-a2ed-c02b79aceb3b",
   "metadata": {},
   "outputs": [],
   "source": [
    "class MyClass:\n",
    "    def __init__(self , x):   # constructor \n",
    "       print(\"hello world\",x)\n",
    "    "
   ]
  },
  {
   "cell_type": "code",
   "execution_count": 42,
   "id": "7c79d206-c011-436d-b4ed-c296f5b721d3",
   "metadata": {},
   "outputs": [
    {
     "name": "stdout",
     "output_type": "stream",
     "text": [
      "hello world sia\n"
     ]
    }
   ],
   "source": [
    "m = MyClass(\"sia\")"
   ]
  },
  {
   "cell_type": "code",
   "execution_count": 1,
   "id": "c7a342e9-b23e-4ccd-b2e5-f9bf21cef6a6",
   "metadata": {},
   "outputs": [],
   "source": [
    "class MyClass:\n",
    "    def __init__(self , x):# constructor\n",
    "                 self.name = x\n",
    "                 print(\"hello world\",x)\n",
    "    "
   ]
  },
  {
   "cell_type": "code",
   "execution_count": 2,
   "id": "d6253a0f-0fbe-4866-a7ae-a609c19a2952",
   "metadata": {},
   "outputs": [
    {
     "name": "stdout",
     "output_type": "stream",
     "text": [
      "hello world sia\n"
     ]
    }
   ],
   "source": [
    "m = MyClass(\"sia\")"
   ]
  },
  {
   "cell_type": "code",
   "execution_count": 3,
   "id": "82551296-4380-412c-a2de-0c238623ee04",
   "metadata": {},
   "outputs": [
    {
     "data": {
      "text/plain": [
       "'sia'"
      ]
     },
     "execution_count": 3,
     "metadata": {},
     "output_type": "execute_result"
    }
   ],
   "source": [
    "m.name"
   ]
  },
  {
   "cell_type": "code",
   "execution_count": 46,
   "id": "c23cb292-f714-4706-9d8f-c7f3940d9abc",
   "metadata": {},
   "outputs": [],
   "source": [
    "class Calc:\n",
    "    def __init__(self, num):\n",
    "        self.num = num\n",
    "    def square(self):\n",
    "        print(\"square\",self.num,\"is\",self.num*self.num)\n",
    "    def cube(self):\n",
    "        print(\"cube\",self.num,\"is\",self.num**3)"
   ]
  },
  {
   "cell_type": "code",
   "execution_count": 47,
   "id": "7c502e91-835a-41e9-a11b-15ac4c81d66e",
   "metadata": {},
   "outputs": [],
   "source": [
    "c1 = Calc(5)\n",
    "c2 = Calc(7)"
   ]
  },
  {
   "cell_type": "code",
   "execution_count": 48,
   "id": "4bdb36c3-c052-4e4b-ad9c-c88281f0c5d9",
   "metadata": {},
   "outputs": [
    {
     "name": "stdout",
     "output_type": "stream",
     "text": [
      "square 5 is 25\n"
     ]
    }
   ],
   "source": [
    "c1.square()"
   ]
  },
  {
   "cell_type": "code",
   "execution_count": 49,
   "id": "ed9fdf4f-df8e-4672-a652-583f8acb0d44",
   "metadata": {},
   "outputs": [
    {
     "name": "stdout",
     "output_type": "stream",
     "text": [
      "cube 7 is 343\n"
     ]
    }
   ],
   "source": [
    "c2.cube()"
   ]
  },
  {
   "cell_type": "code",
   "execution_count": 50,
   "id": "ebdba5c9-64bf-4d23-9d8e-0d4533445360",
   "metadata": {},
   "outputs": [
    {
     "data": {
      "text/plain": [
       "(5, 7)"
      ]
     },
     "execution_count": 50,
     "metadata": {},
     "output_type": "execute_result"
    }
   ],
   "source": [
    "c1.num,c2.num"
   ]
  },
  {
   "cell_type": "code",
   "execution_count": 57,
   "id": "484e0ede-95c7-4b5e-962b-cbae00be2cf0",
   "metadata": {},
   "outputs": [],
   "source": [
    "class person:\n",
    "    def __init__(self , n ,a):\n",
    "        self.name = n\n",
    "        self.age = a\n",
    "    def show(self):\n",
    "        print(\"your data \")\n",
    "        print (self.name,self.age)"
   ]
  },
  {
   "cell_type": "code",
   "execution_count": 65,
   "id": "64cb82f8-8046-4f5b-9f19-e641f15574dc",
   "metadata": {},
   "outputs": [],
   "source": [
    "p1 = person('ram',34)\n",
    "p2 = person('jay',22)"
   ]
  },
  {
   "cell_type": "code",
   "execution_count": 66,
   "id": "95ee2f27-040e-4b56-861e-588c7f0c574b",
   "metadata": {},
   "outputs": [
    {
     "name": "stdout",
     "output_type": "stream",
     "text": [
      "your data \n",
      "ram 34\n"
     ]
    }
   ],
   "source": [
    "p1.show()"
   ]
  },
  {
   "cell_type": "code",
   "execution_count": 67,
   "id": "5659799b-9f45-419c-9188-adee4daa42cd",
   "metadata": {},
   "outputs": [
    {
     "name": "stdout",
     "output_type": "stream",
     "text": [
      "your data \n",
      "jay 22\n"
     ]
    }
   ],
   "source": [
    "p2.show()"
   ]
  },
  {
   "cell_type": "code",
   "execution_count": 68,
   "id": "b503101e-239b-423d-b43b-6553ac36b8c4",
   "metadata": {},
   "outputs": [],
   "source": [
    "class person:\n",
    "    def __init__(self , n ,a = 25):\n",
    "        self.name = n\n",
    "        self.age = a\n",
    "    def show(self):\n",
    "        print(\"your data \")\n",
    "        print (self.name,self.age)"
   ]
  },
  {
   "cell_type": "code",
   "execution_count": 69,
   "id": "27c9e3b1-2e96-4ad2-a31b-659e0a208545",
   "metadata": {},
   "outputs": [],
   "source": [
    "p3 = person('sia',23)"
   ]
  },
  {
   "cell_type": "code",
   "execution_count": 70,
   "id": "d211d1f5-b070-44bf-a8fd-19a5798ea596",
   "metadata": {},
   "outputs": [
    {
     "name": "stdout",
     "output_type": "stream",
     "text": [
      "your data \n",
      "sia 23\n"
     ]
    }
   ],
   "source": [
    "p3.show()"
   ]
  },
  {
   "cell_type": "code",
   "execution_count": 71,
   "id": "0023de47-33e8-445a-b473-3435af5ccd4c",
   "metadata": {},
   "outputs": [],
   "source": [
    "p4 = person(\"vijay\")"
   ]
  },
  {
   "cell_type": "code",
   "execution_count": 72,
   "id": "d622d8c2-10cb-4554-a397-874c1d777305",
   "metadata": {},
   "outputs": [
    {
     "name": "stdout",
     "output_type": "stream",
     "text": [
      "your data \n",
      "vijay 25\n"
     ]
    }
   ],
   "source": [
    "p4.show()"
   ]
  },
  {
   "cell_type": "code",
   "execution_count": 73,
   "id": "a4edbe1b-75e2-4046-bb67-ad07e3f5ea64",
   "metadata": {},
   "outputs": [],
   "source": [
    "p5 = person(a = 26,n ='riya')"
   ]
  },
  {
   "cell_type": "code",
   "execution_count": 74,
   "id": "31e4db03-a1a3-4750-9956-58c2397b0df9",
   "metadata": {},
   "outputs": [
    {
     "name": "stdout",
     "output_type": "stream",
     "text": [
      "your data \n",
      "riya 26\n"
     ]
    }
   ],
   "source": [
    "p5.show()"
   ]
  },
  {
   "cell_type": "code",
   "execution_count": 75,
   "id": "1a46a65b-9c24-4680-9122-52d1eed9e138",
   "metadata": {},
   "outputs": [],
   "source": [
    "# write method isEligible(),which will print true is he person is eligible for driving license and false if not  "
   ]
  },
  {
   "cell_type": "code",
   "execution_count": 96,
   "id": "1ecb4232-1bb7-4ce9-b2b2-0fd097ffe948",
   "metadata": {},
   "outputs": [],
   "source": [
    "class drive:\n",
    "    def __init__(self ,n ,a=23):\n",
    "        self.name = n\n",
    "        self.age = a\n",
    "    def show(self):\n",
    "        print(\"your data\")\n",
    "        print(self.name,self.age)\n",
    "    def  isEligible(self):   \n",
    "        if self.age >=18:\n",
    "           return True\n",
    "        else:\n",
    "            return False"
   ]
  },
  {
   "cell_type": "code",
   "execution_count": 97,
   "id": "fef475a5-68f6-4d42-b32f-3196edc1ddee",
   "metadata": {},
   "outputs": [
    {
     "data": {
      "text/plain": [
       "False"
      ]
     },
     "execution_count": 97,
     "metadata": {},
     "output_type": "execute_result"
    }
   ],
   "source": [
    "d1 = drive('anita',16)\n",
    "d1.isEligible()"
   ]
  },
  {
   "cell_type": "markdown",
   "id": "ddbfaf34-f6e4-48fe-a91c-6569300505ba",
   "metadata": {},
   "source": [
    "# class variable"
   ]
  },
  {
   "cell_type": "code",
   "execution_count": 102,
   "id": "6c7670b9-ff10-4eaa-a122-05ffca4d5d34",
   "metadata": {},
   "outputs": [],
   "source": [
    "class person:\n",
    "    city = 'pune'  # class variable  # its common for all variable\n",
    "    def __init__(self ,n ,a=23):\n",
    "        self.name = n\n",
    "        self.age = a\n",
    "    def show(self):\n",
    "        print(\"your data\")\n",
    "        print(self.name,self.age)\n",
    "    def  isEligible(self):   \n",
    "        if self.age >=18:\n",
    "           return True\n",
    "        else:\n",
    "            return False"
   ]
  },
  {
   "cell_type": "code",
   "execution_count": 103,
   "id": "1b36d481-dcc5-46ed-a67c-f7d3aa22c9da",
   "metadata": {},
   "outputs": [],
   "source": [
    "p6 = person('anita',45)\n",
    "p7 = person ('anil',78)"
   ]
  },
  {
   "cell_type": "code",
   "execution_count": 104,
   "id": "3ac76e67-4f43-4a26-97c3-479fccf13e74",
   "metadata": {},
   "outputs": [
    {
     "data": {
      "text/plain": [
       "'pune'"
      ]
     },
     "execution_count": 104,
     "metadata": {},
     "output_type": "execute_result"
    }
   ],
   "source": [
    "p6.city"
   ]
  },
  {
   "cell_type": "code",
   "execution_count": 105,
   "id": "79564d43-387f-48a3-b6d8-a381c9dc0ddd",
   "metadata": {},
   "outputs": [
    {
     "data": {
      "text/plain": [
       "'pune'"
      ]
     },
     "execution_count": 105,
     "metadata": {},
     "output_type": "execute_result"
    }
   ],
   "source": [
    "p7.city"
   ]
  },
  {
   "cell_type": "markdown",
   "id": "b306df24-96a3-4942-8690-573ea9bc045c",
   "metadata": {},
   "source": [
    "# data hiding "
   ]
  },
  {
   "cell_type": "markdown",
   "id": "62c272b2-e045-4651-8c74-e37acba9eadc",
   "metadata": {},
   "source": [
    "####  # data hiding is an oop technique of hiding internal object details i.e data member . In python, we use double underscore (or __) before the attribute name and those  attribute will nit be directly visible outside  "
   ]
  },
  {
   "cell_type": "code",
   "execution_count": 106,
   "id": "c8b8b231-237a-4fb6-a2ca-b41a750ef2a0",
   "metadata": {},
   "outputs": [],
   "source": [
    "class player:\n",
    "    def __init__(self, n , m):\n",
    "        self.name = n\n",
    "        self.matches = m\n",
    "    def display(self):\n",
    "        print(self.name,'has played',self.matches,'matches')\n",
    "        "
   ]
  },
  {
   "cell_type": "code",
   "execution_count": 109,
   "id": "1b293430-8f27-465a-b06f-061c61810f45",
   "metadata": {},
   "outputs": [],
   "source": [
    "p1 = player('vijay',122)"
   ]
  },
  {
   "cell_type": "code",
   "execution_count": 110,
   "id": "0b2cacc4-b2c5-4f99-ba3d-666ad9b762ad",
   "metadata": {},
   "outputs": [
    {
     "name": "stdout",
     "output_type": "stream",
     "text": [
      "vijay has played 122 matches\n"
     ]
    }
   ],
   "source": [
    "p1.display()"
   ]
  },
  {
   "cell_type": "code",
   "execution_count": 111,
   "id": "f2263679-e7e2-465d-ae1f-8789798f8431",
   "metadata": {},
   "outputs": [
    {
     "data": {
      "text/plain": [
       "('vijay', 122)"
      ]
     },
     "execution_count": 111,
     "metadata": {},
     "output_type": "execute_result"
    }
   ],
   "source": [
    "p1.name,p1.matches "
   ]
  },
  {
   "cell_type": "code",
   "execution_count": 4,
   "id": "71b7af10-95a1-4574-b3cd-3067f9a00c16",
   "metadata": {},
   "outputs": [],
   "source": [
    "class player:\n",
    "    def __init__(self, n , m):\n",
    "        self.__name = n\n",
    "        self.matches = m\n",
    "    def display(self):\n",
    "        print(self.__name,'has played',self.matches,'matches')"
   ]
  },
  {
   "cell_type": "code",
   "execution_count": 5,
   "id": "ae3b7f0d-50c4-4453-83f0-f6a5cd6330c3",
   "metadata": {},
   "outputs": [
    {
     "name": "stdout",
     "output_type": "stream",
     "text": [
      "vijay has played 122 matches\n"
     ]
    }
   ],
   "source": [
    "p1 = player('vijay',122)\n",
    "p1.display()"
   ]
  },
  {
   "cell_type": "code",
   "execution_count": 7,
   "id": "10a6e81b-2085-413e-9b74-70d466e14a65",
   "metadata": {},
   "outputs": [
    {
     "ename": "AttributeError",
     "evalue": "'player' object has no attribute '__name'",
     "output_type": "error",
     "traceback": [
      "\u001b[1;31m---------------------------------------------------------------------------\u001b[0m",
      "\u001b[1;31mAttributeError\u001b[0m                            Traceback (most recent call last)",
      "Cell \u001b[1;32mIn[7], line 1\u001b[0m\n\u001b[1;32m----> 1\u001b[0m p1\u001b[38;5;241m.\u001b[39m__name,p1\u001b[38;5;241m.\u001b[39mmatches\n",
      "\u001b[1;31mAttributeError\u001b[0m: 'player' object has no attribute '__name'"
     ]
    }
   ],
   "source": [
    "p1.__name,p1.matches    # hiding of name attribute"
   ]
  },
  {
   "cell_type": "code",
   "execution_count": 9,
   "id": "6e08c710-1e1e-45bc-a1d4-dd6210cdc63e",
   "metadata": {},
   "outputs": [
    {
     "data": {
      "text/plain": [
       "122"
      ]
     },
     "execution_count": 9,
     "metadata": {},
     "output_type": "execute_result"
    }
   ],
   "source": [
    "p1.matches   # here no hiding of matches attribute"
   ]
  },
  {
   "cell_type": "markdown",
   "id": "d7ef54ab-4505-45e8-8e68-2f638b7703b9",
   "metadata": {},
   "source": [
    "#  #inheritance"
   ]
  },
  {
   "cell_type": "markdown",
   "id": "c4e8f176-38fe-446f-aedd-aeab4122f71e",
   "metadata": {},
   "source": [
    "#### In inheritance a class (usually called superclass ) is inherited by another class (usually subclass). subclass adds some attribute to superclass"
   ]
  },
  {
   "cell_type": "code",
   "execution_count": 123,
   "id": "67413bef-157b-4e7f-9532-c9829a2642ed",
   "metadata": {},
   "outputs": [],
   "source": [
    "class person:   # super class \n",
    "    city = 'pune'  # class variable  # its common for all variable\n",
    "    def __init__(self ,n ,a=23):\n",
    "        self.name = n\n",
    "        self.age = a\n",
    "    def show(self):\n",
    "        print(\"your data\")\n",
    "        print(self.name,self.age)\n",
    "        \n",
    "class Employee(person):   # sub class \n",
    "    def isEligible(self):\n",
    "        if self.age >=18:\n",
    "           return True\n",
    "        else:\n",
    "            return False\n",
    "    "
   ]
  },
  {
   "cell_type": "code",
   "execution_count": 119,
   "id": "f5c8c417-0dc6-40fe-a4fd-d59c85243a16",
   "metadata": {},
   "outputs": [],
   "source": [
    "emp = person('ani',16)"
   ]
  },
  {
   "cell_type": "code",
   "execution_count": 120,
   "id": "fc1b4445-9141-4f66-b720-a59d6cb4214b",
   "metadata": {},
   "outputs": [
    {
     "name": "stdout",
     "output_type": "stream",
     "text": [
      "your data\n",
      "ani 16\n"
     ]
    }
   ],
   "source": [
    "emp.show()"
   ]
  },
  {
   "cell_type": "code",
   "execution_count": 121,
   "id": "49eb3a38-d287-493f-abdd-8db1277b8f7e",
   "metadata": {},
   "outputs": [
    {
     "data": {
      "text/plain": [
       "False"
      ]
     },
     "execution_count": 121,
     "metadata": {},
     "output_type": "execute_result"
    }
   ],
   "source": [
    "emp1 = Employee('raj',16)\n",
    "emp1.isEligible()"
   ]
  },
  {
   "cell_type": "code",
   "execution_count": 122,
   "id": "dab66eb5-13d4-47af-8dfc-cd826a78878c",
   "metadata": {},
   "outputs": [
    {
     "data": {
      "text/plain": [
       "True"
      ]
     },
     "execution_count": 122,
     "metadata": {},
     "output_type": "execute_result"
    }
   ],
   "source": [
    "emp1 = Employee('raj')\n",
    "emp1.isEligible()"
   ]
  },
  {
   "cell_type": "markdown",
   "id": "684ebdfd-d65a-49d8-829c-469864935aaa",
   "metadata": {},
   "source": [
    "### check the subclass"
   ]
  },
  {
   "cell_type": "code",
   "execution_count": 125,
   "id": "11bc065d-52c4-43bc-b1f6-24e5fb5ec7f0",
   "metadata": {},
   "outputs": [],
   "source": [
    "class base(object):\n",
    "    pass\n",
    "class derived(base):\n",
    "    pass"
   ]
  },
  {
   "cell_type": "code",
   "execution_count": 126,
   "id": "2beb547a-5f24-41e0-8adf-cb3f14779a9e",
   "metadata": {},
   "outputs": [
    {
     "data": {
      "text/plain": [
       "False"
      ]
     },
     "execution_count": 126,
     "metadata": {},
     "output_type": "execute_result"
    }
   ],
   "source": [
    "issubclass(base,derived)"
   ]
  },
  {
   "cell_type": "code",
   "execution_count": 127,
   "id": "738f1d38-1012-466a-9aad-2288df006fb5",
   "metadata": {},
   "outputs": [
    {
     "data": {
      "text/plain": [
       "True"
      ]
     },
     "execution_count": 127,
     "metadata": {},
     "output_type": "execute_result"
    }
   ],
   "source": [
    "issubclass(derived,base )"
   ]
  },
  {
   "cell_type": "code",
   "execution_count": 128,
   "id": "e6faf392-165f-4e0b-8e56-3bb51659573f",
   "metadata": {},
   "outputs": [],
   "source": [
    "b = base()\n",
    "d = derived()"
   ]
  },
  {
   "cell_type": "code",
   "execution_count": 129,
   "id": "5e6c4633-9149-4f4b-a6a1-2ef863ab58e7",
   "metadata": {},
   "outputs": [
    {
     "data": {
      "text/plain": [
       "False"
      ]
     },
     "execution_count": 129,
     "metadata": {},
     "output_type": "execute_result"
    }
   ],
   "source": [
    "isinstance(b,derived)"
   ]
  },
  {
   "cell_type": "code",
   "execution_count": 130,
   "id": "d02a78c3-fff4-4725-955b-1a82c6709314",
   "metadata": {},
   "outputs": [
    {
     "data": {
      "text/plain": [
       "True"
      ]
     },
     "execution_count": 130,
     "metadata": {},
     "output_type": "execute_result"
    }
   ],
   "source": [
    "isinstance(d,derived)"
   ]
  },
  {
   "cell_type": "markdown",
   "id": "44b20e74-b062-4ea2-99f2-984942de0df5",
   "metadata": {},
   "source": [
    "### multiple inheritance "
   ]
  },
  {
   "cell_type": "code",
   "execution_count": 131,
   "id": "0ffbc297-457a-4c6d-b4ca-0f2652a1119e",
   "metadata": {},
   "outputs": [],
   "source": [
    "class base1(object):\n",
    "    def __init__(self):\n",
    "        self.str1 = \"rajesh\"\n",
    "        print(\"base1\")\n",
    "class base2(object):\n",
    "    def __init__(self):\n",
    "        self.str2 = 'raj'\n",
    "        print(\"base2\")\n",
    "class derived(base1,base2):\n",
    "    def __init__(self):\n",
    "        base1.__init__(self)\n",
    "        base2.__init__(self)\n",
    "        print(\"derived\")\n",
    "    def printValues(self):\n",
    "        print(self.str1,self.str2)"
   ]
  },
  {
   "cell_type": "code",
   "execution_count": 132,
   "id": "63e59223-16bb-4510-9ac5-edd5dd01be56",
   "metadata": {},
   "outputs": [
    {
     "name": "stdout",
     "output_type": "stream",
     "text": [
      "base1\n",
      "base2\n",
      "derived\n"
     ]
    }
   ],
   "source": [
    "d = derived()"
   ]
  },
  {
   "cell_type": "code",
   "execution_count": 133,
   "id": "3e7fb685-7355-4ba5-be6e-de4e7d838ba4",
   "metadata": {},
   "outputs": [
    {
     "name": "stdout",
     "output_type": "stream",
     "text": [
      "rajesh raj\n"
     ]
    }
   ],
   "source": [
    "d.printValues()"
   ]
  },
  {
   "cell_type": "code",
   "execution_count": null,
   "id": "04940fd6-ae37-41d8-88a8-0d6f0c60f213",
   "metadata": {},
   "outputs": [],
   "source": []
  }
 ],
 "metadata": {
  "kernelspec": {
   "display_name": "Python [conda env:base] *",
   "language": "python",
   "name": "conda-base-py"
  },
  "language_info": {
   "codemirror_mode": {
    "name": "ipython",
    "version": 3
   },
   "file_extension": ".py",
   "mimetype": "text/x-python",
   "name": "python",
   "nbconvert_exporter": "python",
   "pygments_lexer": "ipython3",
   "version": "3.12.7"
  }
 },
 "nbformat": 4,
 "nbformat_minor": 5
}
