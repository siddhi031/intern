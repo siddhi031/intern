{
 "cells": [
  {
   "cell_type": "markdown",
   "id": "c67e8536-a548-46d3-b183-f57908e1c56d",
   "metadata": {},
   "source": [
    " ## GUI Development in python"
   ]
  },
  {
   "cell_type": "code",
   "execution_count": 5,
   "id": "fc91c044-05a4-48a3-8781-4a8ef09daac0",
   "metadata": {},
   "outputs": [],
   "source": [
    "from  tkinter import *"
   ]
  },
  {
   "cell_type": "markdown",
   "id": "dd2ed687-7751-4d0e-91bf-0da60e09a3a1",
   "metadata": {},
   "source": [
    "##### simple window"
   ]
  },
  {
   "cell_type": "code",
   "execution_count": 3,
   "id": "3c39f66b-35a7-481d-a4f7-5232ae1fe042",
   "metadata": {},
   "outputs": [],
   "source": [
    "top = Tk()\n",
    "\n",
    "top.mainloop()"
   ]
  },
  {
   "cell_type": "markdown",
   "id": "640b4142-603b-4106-8f8c-83849fdcbd8e",
   "metadata": {},
   "source": [
    "### decorate the window "
   ]
  },
  {
   "cell_type": "code",
   "execution_count": 7,
   "id": "db46df48-ea92-4c90-9b3f-2d030fc537d6",
   "metadata": {},
   "outputs": [],
   "source": [
    "top = Tk()\n",
    "top.geometry('600x400+0+0')\n",
    "top.title('My first application')\n",
    "top.mainloop()"
   ]
  },
  {
   "cell_type": "markdown",
   "id": "07a70b9e-2f33-47bd-ab9b-56c91267b8e1",
   "metadata": {},
   "source": [
    "## Label on window"
   ]
  },
  {
   "cell_type": "code",
   "execution_count": 12,
   "id": "1d447f65-d14b-476f-b0e6-d9edaab38985",
   "metadata": {},
   "outputs": [],
   "source": [
    "top = Tk()\n",
    "top.geometry('600x400+0+0')\n",
    "top.title('My first application')\n",
    "\n",
    "l = Label( top, text='welcome to tkinter programming')   ###create the object \n",
    "l.pack()    ## attach to the main window\n",
    "\n",
    "top.mainloop()"
   ]
  },
  {
   "cell_type": "code",
   "execution_count": 13,
   "id": "fbde99a0-d6e6-467d-9329-1fab9ccf0945",
   "metadata": {},
   "outputs": [],
   "source": [
    "top = Tk()\n",
    "top.geometry('600x400+0+0')\n",
    "top.title('My first application')\n",
    "\n",
    "l = Label( top, text='welcome to tkinter programming',fg='red',bg='lightblue')   ###create the object \n",
    "l.pack()    ## attach to the main window\n",
    "\n",
    "top.mainloop()"
   ]
  },
  {
   "cell_type": "code",
   "execution_count": 18,
   "id": "5c15741a-b98f-4da8-80cd-826042e055d4",
   "metadata": {},
   "outputs": [],
   "source": [
    "top = Tk()\n",
    "top.geometry('600x400+0+0')\n",
    "top.title('My first application')\n",
    "\n",
    "l = Label( top, text='welcome to tkinter programming',fg='red',bg='lightblue',  font=('Times New Roman',20))  ## create the object\n",
    "l.pack(side = RIGHT)    ## attach to the main window\n",
    "\n",
    "\n",
    "top.mainloop()"
   ]
  },
  {
   "cell_type": "code",
   "execution_count": 21,
   "id": "a8a4c8fd-3179-44d0-9974-35d260f5680b",
   "metadata": {},
   "outputs": [],
   "source": [
    "top = Tk()\n",
    "top.geometry('600x400')\n",
    "top.title('My first application')\n",
    "\n",
    "l1= Label(top,text='first',fg='red',bg='lightblue',font=('Times New Roman',20))\n",
    "l2= Label(top,text='second',fg='red',bg='lightblue',font=('Times New Roman',20,'italic'))\n",
    "l3= Label(top,text='third',fg='red',bg='lightblue',font=('Times New Roman',20,'bold'))\n",
    "l4= Label(top,text='fourth',fg='red',bg='lightblue',font=('Times New Roman',20,'underline'))\n",
    "\n",
    "l1.pack(side = TOP)\n",
    "l2.pack(side = RIGHT)\n",
    "l3.pack(side = LEFT)\n",
    "l4.pack(side = BOTTOM)\n",
    "\n",
    "top.mainloop()"
   ]
  },
  {
   "cell_type": "markdown",
   "id": "c5aee693-eeed-457b-be04-2b55e94cb30c",
   "metadata": {},
   "source": [
    "### Button"
   ]
  },
  {
   "cell_type": "code",
   "execution_count": 22,
   "id": "a123b7d9-5a29-4f4d-b460-453c2feb4a41",
   "metadata": {},
   "outputs": [],
   "source": [
    "top = Tk()\n",
    "top.geometry('600x400+0+0')\n",
    "top.title('My first application')\n",
    "\n",
    "b=Button(top,text='click me',fg = 'red',bg='magenta',font=('Times New Roman',20))\n",
    "b.pack()\n",
    "\n",
    "top.mainloop()"
   ]
  },
  {
   "cell_type": "code",
   "execution_count": 28,
   "id": "4c4cb97a-3c0c-4983-9331-ad7cdfabf156",
   "metadata": {},
   "outputs": [],
   "source": [
    "top = Tk()\n",
    "top.geometry('600x400+0+0')\n",
    "top.title('My first application')\n",
    "\n",
    "b=Button(top,text='click me',fg = 'red',bg='magenta',font=('Times New Roman',20))\n",
    "b.pack(side = LEFT,padx=200)   ## padding \n",
    "\n",
    "top.mainloop()"
   ]
  },
  {
   "cell_type": "markdown",
   "id": "31751435-6120-4786-abb1-e5daa915d3c1",
   "metadata": {},
   "source": [
    "### action generation using button "
   ]
  },
  {
   "cell_type": "code",
   "execution_count": 32,
   "id": "a3703fe0-491a-45b1-bf00-3be322df8bdf",
   "metadata": {},
   "outputs": [
    {
     "name": "stdout",
     "output_type": "stream",
     "text": [
      "You clicked the button\n",
      "You clicked the button\n",
      "You clicked the button\n",
      "You clicked the button\n"
     ]
    }
   ],
   "source": [
    "top = Tk()\n",
    "top.geometry('600x400')\n",
    "top.title('find the square of number')\n",
    "\n",
    "def calc() :\n",
    "    print('You clicked the button')\n",
    "\n",
    "b=Button(top,text='click here',fg = 'red',bg='magenta',font=('Times New Roman',20),command=calc)\n",
    "b.pack(side = LEFT,padx=200)   ## padding \n",
    "\n",
    "top.mainloop()"
   ]
  },
  {
   "cell_type": "code",
   "execution_count": 8,
   "id": "0931d1bf-7846-4d16-b02e-9ef00953459f",
   "metadata": {},
   "outputs": [],
   "source": [
    "top = Tk()\n",
    "top.geometry('600x400')\n",
    "top.title('find the square of number')\n",
    "\n",
    "def calc() :\n",
    "    l = Label(top,text='hello world',font=('Times New Roman',20))\n",
    "    l.pack()\n",
    "    \n",
    "b=Button(top,text='click here',font=('Times New Roman',20),command=calc)\n",
    "b.pack(side = LEFT,padx=100)   ## padding \n",
    "\n",
    "top.mainloop()"
   ]
  },
  {
   "cell_type": "code",
   "execution_count": 9,
   "id": "2da17e9e-8d27-4eb3-bf65-8f5d9659abc7",
   "metadata": {},
   "outputs": [],
   "source": [
    "top = Tk()\n",
    "top.geometry('600x400')\n",
    "top.title('find the square of number')\n",
    "\n",
    "def calc() :\n",
    "    l.config(text='goodbye',font=('Times New Roman',20),fg='magenta',bg='lightblue')\n",
    "\n",
    "b=Button(top,text='click here',font=('Times New Roman',20),command=calc)\n",
    "l = Label(top,text='hello world',font=('Times New Roman',20))\n",
    "b.pack(side = LEFT,padx=100)   ## padding \n",
    "l.pack()\n",
    "\n",
    "top.mainloop()"
   ]
  },
  {
   "cell_type": "markdown",
   "id": "94853e6d-3ca5-4960-9897-32f856c8ebbf",
   "metadata": {},
   "source": [
    "### Entry(textbox)"
   ]
  },
  {
   "cell_type": "code",
   "execution_count": 43,
   "id": "5231dbaa-1ef2-4733-afec-43e6b7bc6706",
   "metadata": {},
   "outputs": [],
   "source": [
    "top = Tk()\n",
    "top.geometry('600x400')\n",
    "top.title('Entry of application')\n",
    "\n",
    "e = Entry(top,font=('Times New Roman',20),fg='magenta',bg='black')\n",
    "e.pack()\n",
    "top.mainloop()"
   ]
  },
  {
   "cell_type": "code",
   "execution_count": 48,
   "id": "52dfbdb0-677f-4c3a-b23a-24769846a312",
   "metadata": {},
   "outputs": [
    {
     "name": "stdout",
     "output_type": "stream",
     "text": [
      "square of num: 16\n",
      "square of num: 196\n",
      "square of num: 36\n"
     ]
    }
   ],
   "source": [
    "top = Tk()\n",
    "top.geometry('600x400')\n",
    "top.title('Entry of application')\n",
    "\n",
    "def calc():\n",
    "    num = int(e.get())\n",
    "    print('square of num:',num**2)\n",
    "\n",
    "l = Label(top,text='Enter the number',font=('Times New Roman',20))\n",
    "e = Entry(top,font=('Times New Roman',20))\n",
    "b=Button(top,text='find square',font=('Times New Roman',20),command=calc)\n",
    "l.pack()\n",
    "e.pack()\n",
    "b.pack()\n",
    "top.mainloop()"
   ]
  },
  {
   "cell_type": "code",
   "execution_count": 6,
   "id": "c40fdb71-c3af-4901-bff6-eaa94947162b",
   "metadata": {},
   "outputs": [],
   "source": [
    "top = Tk()\n",
    "top.geometry('600x400')\n",
    "top.title('Entry of application')\n",
    "\n",
    "def calc():\n",
    "    num = int(e.get())**2\n",
    "    out.config(text='Result :'+str(num))\n",
    "\n",
    "l = Label(top,text='Enter the number',font=('Times New Roman',20))\n",
    "e = Entry(top,font=('Times New Roman',20))\n",
    "b=Button(top,text='find square',font=('Times New Roman',20),fg='magenta',bg='black',command=calc)\n",
    "out = Label(top,text='Result :',font=('Italic',20,'bold'))\n",
    "l.pack()\n",
    "e.pack()\n",
    "b.pack()\n",
    "out.pack()\n",
    "top.mainloop()"
   ]
  },
  {
   "cell_type": "markdown",
   "id": "ae80333b-53ec-495b-8905-286085f5636a",
   "metadata": {},
   "source": [
    "### text widget ### multiple line input"
   ]
  },
  {
   "cell_type": "code",
   "execution_count": 57,
   "id": "f232eba0-3ffb-4f3d-a65a-c463a9d76b30",
   "metadata": {},
   "outputs": [],
   "source": [
    "top = Tk()\n",
    "top.geometry('600x400')\n",
    "top.title('Entry of application')\n",
    "\n",
    "t = Text(top,font=('Times New Roman',20),height=15,width=40)\n",
    "t.pack()\n",
    "top.mainloop()"
   ]
  },
  {
   "cell_type": "code",
   "execution_count": 7,
   "id": "370104ed-6896-45e4-910c-3c23a9686a03",
   "metadata": {},
   "outputs": [],
   "source": [
    "top = Tk()\n",
    "top.geometry('600x400')\n",
    "top.title('Entry of application')\n",
    "\n",
    "def save():\n",
    "    f=open('demo.txt','w')\n",
    "    f.write(t.get(\"1.0\",END))\n",
    "    f.close()\n",
    "\n",
    "def clear():\n",
    "    pass\n",
    "\n",
    "t = Text(top,font=('Times New Roman',20),height=15,width=40)\n",
    "b1 = Button(top,text='save',font=('Times New Roman',20),command=save)\n",
    "b2 = Button(top,text='clear',font=('Times New Roman',20),command=clear)\n",
    "t.pack()\n",
    "b1.pack()\n",
    "b2.pack()\n",
    "top.mainloop()"
   ]
  },
  {
   "cell_type": "code",
   "execution_count": 61,
   "id": "10c0a8f5-dea8-42a0-aebe-de03be5c4e42",
   "metadata": {},
   "outputs": [],
   "source": [
    "top = Tk()\n",
    "top.geometry('600x400')\n",
    "top.title('notepad')\n",
    "\n",
    "def save():\n",
    "    f=open('demo.txt','w')\n",
    "    f.write(t.get(\"1.0\",END))\n",
    "    f.close()\n",
    "\n",
    "def clear():\n",
    "    t.delete(\"1.0\",END)\n",
    "\n",
    "t = Text(top,font=('Times New Roman',20),height=15,width=40)\n",
    "b1 = Button(top,text='save',font=('Times New Roman',20),command=save)\n",
    "b2 = Button(top,text='clear',font=('Times New Roman',20),command=clear)\n",
    "t.pack()\n",
    "b1.pack()\n",
    "b2.pack()\n",
    "top.mainloop()"
   ]
  },
  {
   "cell_type": "markdown",
   "id": "23154ae6-7241-4cb1-a26a-754dc185dbba",
   "metadata": {},
   "source": [
    "## Biding the events"
   ]
  },
  {
   "cell_type": "code",
   "execution_count": 66,
   "id": "1b34dc18-7e97-4092-9de3-9e5304609e43",
   "metadata": {},
   "outputs": [
    {
     "name": "stdout",
     "output_type": "stream",
     "text": [
      "double click!\n",
      "double click!\n",
      "double click!\n",
      "right click!\n",
      "double click!\n",
      "right click!\n",
      "right click!\n",
      "double click!\n",
      "double click!\n"
     ]
    }
   ],
   "source": [
    "top = Tk()\n",
    "top.geometry('800x600')\n",
    "top.title('notepad')\n",
    "\n",
    "def hello(event):\n",
    "    print('left click!')\n",
    "\n",
    "def quit(event):\n",
    "    print('double click!')\n",
    "\n",
    "def right(event):\n",
    "    print('right click!')\n",
    "\n",
    "b=Button(top,text='Button click',font =('Times New Roman',20))\n",
    "b.bind('<Button-1>',hello)\n",
    "b.bind('<Button-1>',quit)\n",
    "b.bind('<Button-3>',right)\n",
    "b.pack()\n",
    "top.mainloop()"
   ]
  },
  {
   "cell_type": "markdown",
   "id": "2d57ad2f-eb6a-4a9f-90b4-9ce373eb3eab",
   "metadata": {},
   "source": [
    "### pack wih fill "
   ]
  },
  {
   "cell_type": "code",
   "execution_count": 72,
   "id": "068f8dd5-330a-4ddf-b050-72c6ce64a6cb",
   "metadata": {},
   "outputs": [],
   "source": [
    "top = Tk()\n",
    "top.geometry('600x400')\n",
    "top.title('My first application')\n",
    "\n",
    "l1= Label(top,text='first',fg='black',bg='red',font=('Times New Roman',20))\n",
    "l2= Label(top,text='second',fg='black',bg='orange',font=('Times New Roman',20,'italic'))\n",
    "l3= Label(top,text='third',fg='black',bg='yellow',font=('Times New Roman',20,'bold'))\n",
    "l4= Label(top,text='fourth',fg='black',bg='lightblue',font=('Times New Roman',20,'underline'))\n",
    "\n",
    "l1.pack(fill=X)\n",
    "l2.pack(fill=X)\n",
    "l3.pack(fill=X)\n",
    "l4.pack(fill=X)\n",
    "\n",
    "top.mainloop()"
   ]
  },
  {
   "cell_type": "code",
   "execution_count": 76,
   "id": "bf2c10da-0019-417e-9283-dca3864ed01d",
   "metadata": {},
   "outputs": [],
   "source": [
    "top = Tk()\n",
    "top.geometry('600x400')\n",
    "top.title('My first application')\n",
    "\n",
    "l1= Label(top,text='first',fg='black',bg='red',font=('Times New Roman',20))\n",
    "l2= Label(top,text='second',fg='black',bg='orange',font=('Times New Roman',20,'italic'))\n",
    "l3= Label(top,text='third',fg='black',bg='yellow',font=('Times New Roman',20,'bold'))\n",
    "l4= Label(top,text='fourth',fg='black',bg='lightblue',font=('Times New Roman',20,'underline'))\n",
    "\n",
    "l1.pack(fill=X,padx=20,pady=20)\n",
    "l2.pack(fill=Y,padx=20,pady=20)\n",
    "l3.pack(fill=X,padx=20,pady=20)\n",
    "l4.pack(fill=Y,padx=20,pady=20)\n",
    "\n",
    "top.mainloop()"
   ]
  },
  {
   "cell_type": "markdown",
   "id": "667288c8-d968-47d5-ae57-82dc10dbc30d",
   "metadata": {},
   "source": [
    "## place manager"
   ]
  },
  {
   "cell_type": "code",
   "execution_count": 81,
   "id": "b9bf7acf-f782-4b3a-a380-cd2f706e25e1",
   "metadata": {},
   "outputs": [],
   "source": [
    "top = Tk()\n",
    "top.geometry('600x400')\n",
    "top.title('Entry of application')\n",
    "\n",
    "def calc():\n",
    "    num = int(e.get())**2\n",
    "    out.config(text='Result :'+str(num))\n",
    "\n",
    "l = Label(top,text='Enter the number',font=('Times New Roman',20))\n",
    "e = Entry(top,font=('Times New Roman',20))\n",
    "b=Button(top,text='find square',font=('Times New Roman',20),fg='magenta',bg='black',command=calc)\n",
    "out = Label(top,text='Result :',font=('Italic',20,'bold'))\n",
    "l.place(x=20,y=20)   ## position of widget\n",
    "e.place(x=250,y=20)\n",
    "b.place(x=250,y=80)\n",
    "out.place(x=250,y=150)\n",
    "top.mainloop()"
   ]
  },
  {
   "cell_type": "markdown",
   "id": "cd0cba0b-b479-402c-80c2-aa16c2890365",
   "metadata": {},
   "source": [
    "## grid manager"
   ]
  },
  {
   "cell_type": "code",
   "execution_count": 83,
   "id": "a3bf1c8b-ea15-4503-93a1-8579f53eed2b",
   "metadata": {},
   "outputs": [],
   "source": [
    "top = Tk()\n",
    "top.geometry('600x400')\n",
    "top.title('Entry of application')\n",
    "\n",
    "def calc():\n",
    "    num = int(e.get())**2\n",
    "    out.config(text='Result :'+str(num))\n",
    "\n",
    "l = Label(top,text='Enter the number',font=('Times New Roman',20))\n",
    "e = Entry(top,font=('Times New Roman',20))\n",
    "b=Button(top,text='find square',font=('Times New Roman',20),fg='magenta',bg='black',command=calc)\n",
    "out = Label(top,text='Result :',font=('Italic',20,'bold'))\n",
    "l.grid(row = 0,column=0)   ## position of widget\n",
    "e.grid(row = 0,column=1)\n",
    "b.grid(row = 1,column=0)\n",
    "out.grid(row = 1,column=1)\n",
    "top.mainloop()"
   ]
  },
  {
   "cell_type": "markdown",
   "id": "36c73180-7f54-4e2a-8030-98d9c45393f9",
   "metadata": {},
   "source": [
    "## simple calculator"
   ]
  },
  {
   "cell_type": "code",
   "execution_count": 4,
   "id": "41218d3a-8823-4428-9358-39c97d811f50",
   "metadata": {},
   "outputs": [],
   "source": [
    "top = Tk()\n",
    "top.geometry('600x400')\n",
    "top.title('simple calculator')\n",
    "\n",
    "def add():\n",
    "   a = int(num1.get()) + int(num2.get()) \n",
    "   result.config(text='addition:'+str(a))\n",
    "\n",
    "def sub():\n",
    "   a = int(num1.get()) - int(num2.get()) \n",
    "   result.config(text='subtraction:'+str(a))\n",
    "\n",
    "def mul():\n",
    "   a = int(num1.get()) * int(num2.get()) \n",
    "   result.config(text='multiplication :'+str(a))\n",
    "\n",
    "def div():\n",
    "   a = int(num1.get()) / int(num2.get()) \n",
    "   result.config(text='division:'+str(a))\n",
    "\n",
    "\n",
    "num1 = Entry(top,font=('Times New Roman',20))\n",
    "num2 = Entry(top,font=('Times New Roman',20))\n",
    "add = Button(top,text='add',font=('Times New Roman',20),command=add)\n",
    "sub = Button(top,text='sub',font=('Times New Roman',20),command=sub)\n",
    "mul = Button(top,text='mul',font=('Times New Roman',20),command=mul)\n",
    "div = Button(top,text='div',font=('Times New Roman',20),command=div)\n",
    "result = Label(top,text='Result:',font=('Times New Roman',20))\n",
    "num1.place(x=50,y=20); num2.place(x=300,y=20);\n",
    "add.place(x=50,y=100); sub.place(x=150,y=100);\n",
    "mul.place(x=250,y=100); div.place(x=350,y=100)\n",
    "result.place(x=50,y=200)\n",
    "\n",
    "top.mainloop()\n",
    "\n"
   ]
  },
  {
   "cell_type": "markdown",
   "id": "5dd4fa7b-7b3b-419c-addc-ff1af240d347",
   "metadata": {},
   "source": []
  }
 ],
 "metadata": {
  "kernelspec": {
   "display_name": "Python [conda env:base] *",
   "language": "python",
   "name": "conda-base-py"
  },
  "language_info": {
   "codemirror_mode": {
    "name": "ipython",
    "version": 3
   },
   "file_extension": ".py",
   "mimetype": "text/x-python",
   "name": "python",
   "nbconvert_exporter": "python",
   "pygments_lexer": "ipython3",
   "version": "3.12.7"
  }
 },
 "nbformat": 4,
 "nbformat_minor": 5
}
