{
 "cells": [
  {
   "cell_type": "markdown",
   "id": "08b90dc5-80ef-47b9-ac75-759a2cb99631",
   "metadata": {},
   "source": [
    "## example "
   ]
  },
  {
   "cell_type": "markdown",
   "id": "2671c835-2e2c-47e6-8d09-8418772fdadd",
   "metadata": {},
   "source": [
    "##### Given with three text files, count the total of all numerical elements from these files "
   ]
  },
  {
   "cell_type": "code",
   "execution_count": 2,
   "id": "8e04006a-9d3e-4d9f-ae9d-2a33e99f8dcd",
   "metadata": {},
   "outputs": [
    {
     "data": {
      "text/plain": [
       "'23\\n54\\n12\\n67\\n39\\n81\\n50\\n88\\n97\\n33\\n'"
      ]
     },
     "execution_count": 2,
     "metadata": {},
     "output_type": "execute_result"
    }
   ],
   "source": [
    "f = open('num1.txt')\n",
    "data = f.read()\n",
    "data"
   ]
  },
  {
   "cell_type": "code",
   "execution_count": 3,
   "id": "642e0f3a-5b5a-4d79-9fc4-aad25e0f8b60",
   "metadata": {},
   "outputs": [
    {
     "data": {
      "text/plain": [
       "'23\\n54\\n12\\n67\\n39\\n81\\n50\\n88\\n97\\n33\\n'"
      ]
     },
     "execution_count": 3,
     "metadata": {},
     "output_type": "execute_result"
    }
   ],
   "source": [
    "nums = data.split()\n",
    "data"
   ]
  },
  {
   "cell_type": "code",
   "execution_count": 4,
   "id": "81b5487a-f941-4eaa-8c6d-18b4451a66ed",
   "metadata": {},
   "outputs": [
    {
     "data": {
      "text/plain": [
       "['23', '54', '12', '67', '39', '81', '50', '88', '97', '33']"
      ]
     },
     "execution_count": 4,
     "metadata": {},
     "output_type": "execute_result"
    }
   ],
   "source": [
    "nums"
   ]
  },
  {
   "cell_type": "code",
   "execution_count": 5,
   "id": "e3d4f8c3-633b-4a92-a97b-e633fed02bb5",
   "metadata": {},
   "outputs": [
    {
     "data": {
      "text/plain": [
       "[23, 54, 12, 67, 39, 81, 50, 88, 97, 33]"
      ]
     },
     "execution_count": 5,
     "metadata": {},
     "output_type": "execute_result"
    }
   ],
   "source": [
    "nums = [ int (n) for n in nums]\n",
    "nums"
   ]
  },
  {
   "cell_type": "code",
   "execution_count": 6,
   "id": "34610afe-14de-41e7-8752-4cf5550920e2",
   "metadata": {},
   "outputs": [
    {
     "data": {
      "text/plain": [
       "544"
      ]
     },
     "execution_count": 6,
     "metadata": {},
     "output_type": "execute_result"
    }
   ],
   "source": [
    "sum(nums)"
   ]
  },
  {
   "cell_type": "code",
   "execution_count": 7,
   "id": "51ec52c5-6c02-4f54-9c02-1ad3ea5fc051",
   "metadata": {},
   "outputs": [
    {
     "data": {
      "text/plain": [
       "'45 abc\\n67 78 12\\nfcdc 34 11\\ngh ed hy\\n56\\n34 56 7f\\n12 64 rrrr\\n4\\n56 64 78 dr\\n12 f34 63 '"
      ]
     },
     "execution_count": 7,
     "metadata": {},
     "output_type": "execute_result"
    }
   ],
   "source": [
    "f = open('num2.txt')\n",
    "data = f.read()\n",
    "data "
   ]
  },
  {
   "cell_type": "code",
   "execution_count": 8,
   "id": "7935869e-a9e9-4dc3-91a7-42385a74c0d3",
   "metadata": {},
   "outputs": [],
   "source": [
    "nums = data.split()"
   ]
  },
  {
   "cell_type": "code",
   "execution_count": 9,
   "id": "276d8d2c-c84e-44ee-8486-b4be11a0029a",
   "metadata": {},
   "outputs": [
    {
     "data": {
      "text/plain": [
       "['45',\n",
       " 'abc',\n",
       " '67',\n",
       " '78',\n",
       " '12',\n",
       " 'fcdc',\n",
       " '34',\n",
       " '11',\n",
       " 'gh',\n",
       " 'ed',\n",
       " 'hy',\n",
       " '56',\n",
       " '34',\n",
       " '56',\n",
       " '7f',\n",
       " '12',\n",
       " '64',\n",
       " 'rrrr',\n",
       " '4',\n",
       " '56',\n",
       " '64',\n",
       " '78',\n",
       " 'dr',\n",
       " '12',\n",
       " 'f34',\n",
       " '63']"
      ]
     },
     "execution_count": 9,
     "metadata": {},
     "output_type": "execute_result"
    }
   ],
   "source": [
    "nums"
   ]
  },
  {
   "cell_type": "code",
   "execution_count": 10,
   "id": "ef4c3906-7689-40a2-a856-e6078ee1e5c0",
   "metadata": {},
   "outputs": [],
   "source": [
    "nums = [ int (n) for n in nums if n.isdigit()]\n"
   ]
  },
  {
   "cell_type": "code",
   "execution_count": 11,
   "id": "b108ef74-f446-4e62-997b-34afdb28d14e",
   "metadata": {},
   "outputs": [
    {
     "data": {
      "text/plain": [
       "[45, 67, 78, 12, 34, 11, 56, 34, 56, 12, 64, 4, 56, 64, 78, 12, 63]"
      ]
     },
     "execution_count": 11,
     "metadata": {},
     "output_type": "execute_result"
    }
   ],
   "source": [
    "nums"
   ]
  },
  {
   "cell_type": "code",
   "execution_count": 12,
   "id": "f1756a04-dd81-460e-a8d6-3cc26beeff08",
   "metadata": {},
   "outputs": [
    {
     "data": {
      "text/plain": [
       "746"
      ]
     },
     "execution_count": 12,
     "metadata": {},
     "output_type": "execute_result"
    }
   ],
   "source": [
    "sum(nums)"
   ]
  },
  {
   "cell_type": "markdown",
   "id": "0582a8f9-117a-4c64-9b02-74947f949104",
   "metadata": {},
   "source": [
    "### file position"
   ]
  },
  {
   "cell_type": "markdown",
   "id": "54135d44-dcab-4776-b44a-81a7e50518f1",
   "metadata": {},
   "source": [
    "#### the file position knows as the file pointer or file cursor refers to the current location within an open file where the next read or write operation will occur."
   ]
  },
  {
   "cell_type": "code",
   "execution_count": 13,
   "id": "1bb7f43c-2632-4721-b6db-66c684b5b7ac",
   "metadata": {},
   "outputs": [],
   "source": [
    "f = open('maharashtra.txt')"
   ]
  },
  {
   "cell_type": "code",
   "execution_count": 14,
   "id": "fb858c0e-bcac-4e6a-8636-781cda6c66d5",
   "metadata": {},
   "outputs": [
    {
     "data": {
      "text/plain": [
       "0"
      ]
     },
     "execution_count": 14,
     "metadata": {},
     "output_type": "execute_result"
    }
   ],
   "source": [
    "f.tell()"
   ]
  },
  {
   "cell_type": "code",
   "execution_count": 15,
   "id": "6828a218-bb5f-4f35-a2ca-7e5882ce18a6",
   "metadata": {},
   "outputs": [
    {
     "data": {
      "text/plain": [
       "'It is raining heavinglyIt may cause flood'"
      ]
     },
     "execution_count": 15,
     "metadata": {},
     "output_type": "execute_result"
    }
   ],
   "source": [
    "f.readline()"
   ]
  },
  {
   "cell_type": "code",
   "execution_count": 16,
   "id": "09d4ef9e-7ace-4fac-8821-6f1b12bcfe3e",
   "metadata": {},
   "outputs": [
    {
     "data": {
      "text/plain": [
       "41"
      ]
     },
     "execution_count": 16,
     "metadata": {},
     "output_type": "execute_result"
    }
   ],
   "source": [
    "f.tell()"
   ]
  },
  {
   "cell_type": "code",
   "execution_count": 17,
   "id": "9e4a892e-25a4-4c96-8165-82d00dfd3fae",
   "metadata": {},
   "outputs": [
    {
     "data": {
      "text/plain": [
       "''"
      ]
     },
     "execution_count": 17,
     "metadata": {},
     "output_type": "execute_result"
    }
   ],
   "source": [
    "f.readline()"
   ]
  },
  {
   "cell_type": "code",
   "execution_count": 18,
   "id": "be2f9293-7e9f-42c6-b0d3-bd2e6c21c967",
   "metadata": {},
   "outputs": [
    {
     "data": {
      "text/plain": [
       "41"
      ]
     },
     "execution_count": 18,
     "metadata": {},
     "output_type": "execute_result"
    }
   ],
   "source": [
    "f.tell()"
   ]
  },
  {
   "cell_type": "code",
   "execution_count": 19,
   "id": "11c9d06a-da43-49da-8fce-bcd22e12d216",
   "metadata": {},
   "outputs": [
    {
     "data": {
      "text/plain": [
       "10"
      ]
     },
     "execution_count": 19,
     "metadata": {},
     "output_type": "execute_result"
    }
   ],
   "source": [
    "f.seek(10)"
   ]
  },
  {
   "cell_type": "code",
   "execution_count": 20,
   "id": "421a3025-8008-471e-9ebd-ecc490a69b66",
   "metadata": {},
   "outputs": [
    {
     "data": {
      "text/plain": [
       "'ing heavinglyIt may cause flood'"
      ]
     },
     "execution_count": 20,
     "metadata": {},
     "output_type": "execute_result"
    }
   ],
   "source": [
    "f.readline()"
   ]
  },
  {
   "cell_type": "markdown",
   "id": "a77169f4-5ebf-4446-bb5e-54f1655f99fa",
   "metadata": {},
   "source": [
    "## binary mode"
   ]
  },
  {
   "cell_type": "markdown",
   "id": "81357b6b-a04e-4535-abc9-c8915c5ff5c6",
   "metadata": {},
   "source": [
    "#### opening a file in binary mode means your telling the interpreter to treat the file content as a sequence ofraw byte,\n",
    "#### rather than trying to interpret it as text with specific character encoding  "
   ]
  },
  {
   "cell_type": "markdown",
   "id": "ac5e3774-aa04-4f0a-8b4f-2b30ba5d78ca",
   "metadata": {},
   "source": [
    "#### how to open a file in binary mode:\n",
    "#### -------------------------------------------------\n",
    "#### you add 'b' to your usual mode:\n",
    "\n",
    "#### 'rb' : Read binary. Open the file for reading in binary mode.\n",
    "#### 'wb' : Write binary.Open the file writing in binary mode.If the file exists.its content are truncate .If the file doesnt exist ,it's created .\n",
    "#### 'ab' : Append binary.Open the file for appending in binary mode. Data is writen to the end of the file. \n",
    "#### 'r+b' : Read and write binary.\n",
    "#### 'w+b' : Read and write binary . Truncate the file first.\n",
    "#### 'a+b' : Read and write binary.Append data to the end.\n",
    "\n"
   ]
  },
  {
   "cell_type": "code",
   "execution_count": 21,
   "id": "63ccbb6b-836d-4798-90f6-0505fd5ef87e",
   "metadata": {},
   "outputs": [],
   "source": [
    "with open('mydata.bin','wb') as f :\n",
    "    f.write(b'hello world')"
   ]
  },
  {
   "cell_type": "code",
   "execution_count": 22,
   "id": "6ea932c5-83b4-4d22-be62-fe65168d33ce",
   "metadata": {},
   "outputs": [
    {
     "name": "stdout",
     "output_type": "stream",
     "text": [
      "data in file b'hello world'\n"
     ]
    }
   ],
   "source": [
    "with open('mydata.bin','rb') as f :\n",
    "    content = f.read()\n",
    "    print(f'data in file {content}')"
   ]
  },
  {
   "cell_type": "markdown",
   "id": "8a0fbe0a-c890-4fac-af98-eb6de1e20ce6",
   "metadata": {},
   "source": [
    "# exception handling"
   ]
  },
  {
   "cell_type": "markdown",
   "id": "696d5e50-bb56-48ff-8eeb-403f87919cbf",
   "metadata": {},
   "source": [
    "### exception can be said to be abnormal condition in a program resulting to the disruption in flow of program. "
   ]
  },
  {
   "cell_type": "code",
   "execution_count": 23,
   "id": "6bd6569e-d5c5-40aa-ac2f-03d093abb0c2",
   "metadata": {},
   "outputs": [
    {
     "ename": "SyntaxError",
     "evalue": "expected ':' (1245497235.py, line 1)",
     "output_type": "error",
     "traceback": [
      "\u001b[1;36m  Cell \u001b[1;32mIn[23], line 1\u001b[1;36m\u001b[0m\n\u001b[1;33m    if True\u001b[0m\n\u001b[1;37m            ^\u001b[0m\n\u001b[1;31mSyntaxError\u001b[0m\u001b[1;31m:\u001b[0m expected ':'\n"
     ]
    }
   ],
   "source": [
    "if True \n",
    "print ('ok')"
   ]
  },
  {
   "cell_type": "code",
   "execution_count": 24,
   "id": "ffdd7164-7699-4627-a7a7-2945385c7543",
   "metadata": {},
   "outputs": [
    {
     "ename": "IndentationError",
     "evalue": "expected an indented block after function definition on line 1 (1635008653.py, line 2)",
     "output_type": "error",
     "traceback": [
      "\u001b[1;36m  Cell \u001b[1;32mIn[24], line 2\u001b[1;36m\u001b[0m\n\u001b[1;33m    print('hello')\u001b[0m\n\u001b[1;37m    ^\u001b[0m\n\u001b[1;31mIndentationError\u001b[0m\u001b[1;31m:\u001b[0m expected an indented block after function definition on line 1\n"
     ]
    }
   ],
   "source": [
    "def hello():\n",
    "print('hello')"
   ]
  },
  {
   "cell_type": "code",
   "execution_count": 25,
   "id": "e2d14097-5dba-468f-b2b5-9af0550da1eb",
   "metadata": {},
   "outputs": [
    {
     "ename": "TypeError",
     "evalue": "can only concatenate str (not \"int\") to str",
     "output_type": "error",
     "traceback": [
      "\u001b[1;31m---------------------------------------------------------------------------\u001b[0m",
      "\u001b[1;31mTypeError\u001b[0m                                 Traceback (most recent call last)",
      "Cell \u001b[1;32mIn[25], line 3\u001b[0m\n\u001b[0;32m      1\u001b[0m x \u001b[38;5;241m=\u001b[39m \u001b[38;5;124m'\u001b[39m\u001b[38;5;124mhello\u001b[39m\u001b[38;5;124m'\u001b[39m\n\u001b[0;32m      2\u001b[0m y \u001b[38;5;241m=\u001b[39m \u001b[38;5;241m345\u001b[39m\n\u001b[1;32m----> 3\u001b[0m z \u001b[38;5;241m=\u001b[39m x\u001b[38;5;241m+\u001b[39my\n",
      "\u001b[1;31mTypeError\u001b[0m: can only concatenate str (not \"int\") to str"
     ]
    }
   ],
   "source": [
    "x = 'hello'\n",
    "y = 345\n",
    "z = x+y"
   ]
  },
  {
   "cell_type": "code",
   "execution_count": 26,
   "id": "9a594102-fdd9-432a-ae4a-2a5e3b91392c",
   "metadata": {},
   "outputs": [],
   "source": [
    "t = (56,78,90,76)"
   ]
  },
  {
   "cell_type": "code",
   "execution_count": 27,
   "id": "0e09ce55-7cb5-40cd-b089-cec3802c90e2",
   "metadata": {},
   "outputs": [
    {
     "ename": "AttributeError",
     "evalue": "'tuple' object has no attribute 'append'",
     "output_type": "error",
     "traceback": [
      "\u001b[1;31m---------------------------------------------------------------------------\u001b[0m",
      "\u001b[1;31mAttributeError\u001b[0m                            Traceback (most recent call last)",
      "Cell \u001b[1;32mIn[27], line 1\u001b[0m\n\u001b[1;32m----> 1\u001b[0m t\u001b[38;5;241m.\u001b[39mappend(\u001b[38;5;241m23\u001b[39m)\n",
      "\u001b[1;31mAttributeError\u001b[0m: 'tuple' object has no attribute 'append'"
     ]
    }
   ],
   "source": [
    "t.append(23)"
   ]
  },
  {
   "cell_type": "code",
   "execution_count": 28,
   "id": "8edbea4d-21c3-4217-ae97-88a4ab879a4d",
   "metadata": {},
   "outputs": [
    {
     "ename": "AttributeError",
     "evalue": "'_io.BufferedReader' object has no attribute 'open'",
     "output_type": "error",
     "traceback": [
      "\u001b[1;31m---------------------------------------------------------------------------\u001b[0m",
      "\u001b[1;31mAttributeError\u001b[0m                            Traceback (most recent call last)",
      "Cell \u001b[1;32mIn[28], line 1\u001b[0m\n\u001b[1;32m----> 1\u001b[0m f\u001b[38;5;241m.\u001b[39mopen(\u001b[38;5;124m'\u001b[39m\u001b[38;5;124mindia.txt\u001b[39m\u001b[38;5;124m'\u001b[39m)\n",
      "\u001b[1;31mAttributeError\u001b[0m: '_io.BufferedReader' object has no attribute 'open'"
     ]
    }
   ],
   "source": [
    "f.open('india.txt')"
   ]
  },
  {
   "cell_type": "markdown",
   "id": "b575a0c3-e391-48b5-abf7-ac81e1e5a1da",
   "metadata": {},
   "source": [
    "## uncaught exception"
   ]
  },
  {
   "cell_type": "code",
   "execution_count": 30,
   "id": "8d14d8f2-f3f2-4293-8a50-3201336d426d",
   "metadata": {},
   "outputs": [
    {
     "name": "stdin",
     "output_type": "stream",
     "text": [
      "enter the no: 89\n",
      "enter the no2: 90\n"
     ]
    },
    {
     "name": "stdout",
     "output_type": "stream",
     "text": [
      "division: 0.9888888888888889\n"
     ]
    }
   ],
   "source": [
    "num1 = int(input('enter the no:'))\n",
    "num2 = int(input('enter the no2:'))\n",
    "div = num1/num2\n",
    "print('division:',div)\n",
    "                 "
   ]
  },
  {
   "cell_type": "code",
   "execution_count": 31,
   "id": "80b547a0-b51d-4a09-bb19-848f1c8fd6a2",
   "metadata": {},
   "outputs": [
    {
     "name": "stdin",
     "output_type": "stream",
     "text": [
      "enter the no: 78\n",
      "enter the no2: 0\n"
     ]
    },
    {
     "ename": "ZeroDivisionError",
     "evalue": "division by zero",
     "output_type": "error",
     "traceback": [
      "\u001b[1;31m---------------------------------------------------------------------------\u001b[0m",
      "\u001b[1;31mZeroDivisionError\u001b[0m                         Traceback (most recent call last)",
      "Cell \u001b[1;32mIn[31], line 3\u001b[0m\n\u001b[0;32m      1\u001b[0m num1 \u001b[38;5;241m=\u001b[39m \u001b[38;5;28mint\u001b[39m(\u001b[38;5;28minput\u001b[39m(\u001b[38;5;124m'\u001b[39m\u001b[38;5;124menter the no:\u001b[39m\u001b[38;5;124m'\u001b[39m))\n\u001b[0;32m      2\u001b[0m num2 \u001b[38;5;241m=\u001b[39m \u001b[38;5;28mint\u001b[39m(\u001b[38;5;28minput\u001b[39m(\u001b[38;5;124m'\u001b[39m\u001b[38;5;124menter the no2:\u001b[39m\u001b[38;5;124m'\u001b[39m))\n\u001b[1;32m----> 3\u001b[0m div \u001b[38;5;241m=\u001b[39m num1\u001b[38;5;241m/\u001b[39mnum2\n\u001b[0;32m      4\u001b[0m \u001b[38;5;28mprint\u001b[39m(\u001b[38;5;124m'\u001b[39m\u001b[38;5;124mdivision:\u001b[39m\u001b[38;5;124m'\u001b[39m,div)\n",
      "\u001b[1;31mZeroDivisionError\u001b[0m: division by zero"
     ]
    }
   ],
   "source": [
    "num1 = int(input('enter the no:'))\n",
    "num2 = int(input('enter the no2:'))\n",
    "div = num1/num2\n",
    "print('division:',div)\n",
    "                 "
   ]
  },
  {
   "cell_type": "markdown",
   "id": "b5ce3f3d-472f-4e7a-be8b-f3c593fd7ea8",
   "metadata": {},
   "source": [
    "# Using try and except"
   ]
  },
  {
   "cell_type": "markdown",
   "id": "86d6c028-36c1-46e0-ad97-b08aa0554adf",
   "metadata": {},
   "source": [
    "#### try : Run this code \n",
    "#### except : Excute this code when there is an exception \n",
    "#### else : No exception? run this code \n",
    "#### finally : Always run this code"
   ]
  },
  {
   "cell_type": "code",
   "execution_count": 2,
   "id": "1c7fd715-9cd5-4419-a429-e8ac6cd08bd7",
   "metadata": {},
   "outputs": [
    {
     "name": "stdin",
     "output_type": "stream",
     "text": [
      "enter the no: 45\n",
      "enter the no2: 9\n"
     ]
    },
    {
     "name": "stdout",
     "output_type": "stream",
     "text": [
      "division: 5.0\n"
     ]
    }
   ],
   "source": [
    "import os\n",
    "num1 = int(input('enter the no:'))\n",
    "num2 = int(input('enter the no2:'))\n",
    "try:\n",
    "    div = num1/num2\n",
    "except ZeroDivisionError:\n",
    "    print('denominator must be non-zero')\n",
    "    os._exit(0)\n",
    "print('division:',div)"
   ]
  },
  {
   "cell_type": "code",
   "execution_count": 1,
   "id": "c42d1c27-9a82-4456-935d-b11eb21da168",
   "metadata": {},
   "outputs": [
    {
     "name": "stdin",
     "output_type": "stream",
     "text": [
      "enter the no: 45\n",
      "enter the no2: zero\n"
     ]
    },
    {
     "ename": "ValueError",
     "evalue": "invalid literal for int() with base 10: 'zero'",
     "output_type": "error",
     "traceback": [
      "\u001b[1;31m---------------------------------------------------------------------------\u001b[0m",
      "\u001b[1;31mValueError\u001b[0m                                Traceback (most recent call last)",
      "Cell \u001b[1;32mIn[1], line 3\u001b[0m\n\u001b[0;32m      1\u001b[0m \u001b[38;5;28;01mimport\u001b[39;00m \u001b[38;5;21;01mos\u001b[39;00m\n\u001b[0;32m      2\u001b[0m num1 \u001b[38;5;241m=\u001b[39m \u001b[38;5;28mint\u001b[39m(\u001b[38;5;28minput\u001b[39m(\u001b[38;5;124m'\u001b[39m\u001b[38;5;124menter the no:\u001b[39m\u001b[38;5;124m'\u001b[39m))\n\u001b[1;32m----> 3\u001b[0m num2 \u001b[38;5;241m=\u001b[39m \u001b[38;5;28mint\u001b[39m(\u001b[38;5;28minput\u001b[39m(\u001b[38;5;124m'\u001b[39m\u001b[38;5;124menter the no2:\u001b[39m\u001b[38;5;124m'\u001b[39m))\n\u001b[0;32m      4\u001b[0m \u001b[38;5;28;01mtry\u001b[39;00m:\n\u001b[0;32m      5\u001b[0m     div \u001b[38;5;241m=\u001b[39m num1\u001b[38;5;241m/\u001b[39mnum2\n",
      "\u001b[1;31mValueError\u001b[0m: invalid literal for int() with base 10: 'zero'"
     ]
    }
   ],
   "source": [
    "import os\n",
    "num1 = int(input('enter the no:'))\n",
    "num2 = int(input('enter the no2:'))\n",
    "try:\n",
    "    div = num1/num2\n",
    "except ZeroDivisionError:\n",
    "    print('denominator must be non-zero')\n",
    "    os._exit(0)\n",
    "print('division:',div)"
   ]
  },
  {
   "cell_type": "code",
   "execution_count": 1,
   "id": "61022ae2-8eed-4a73-b2e0-d1b3e5f398a1",
   "metadata": {},
   "outputs": [
    {
     "name": "stdin",
     "output_type": "stream",
     "text": [
      "enter the no: 56\n",
      "enter the no2: 8\n"
     ]
    },
    {
     "name": "stdout",
     "output_type": "stream",
     "text": [
      "division: 7.0\n"
     ]
    }
   ],
   "source": [
    "import os\n",
    "try:\n",
    "   num1 = int(input('enter the no:'))\n",
    "   num2 = int(input('enter the no2:'))\n",
    "   div = num1/num2\n",
    "except :\n",
    "    print('error')\n",
    "    os._exit(0)\n",
    "print('division:',div)"
   ]
  },
  {
   "cell_type": "code",
   "execution_count": 3,
   "id": "66ab6947-9089-4f0f-8803-ec58c48ab6ce",
   "metadata": {},
   "outputs": [
    {
     "name": "stdin",
     "output_type": "stream",
     "text": [
      "enter the no: three\n"
     ]
    },
    {
     "name": "stdout",
     "output_type": "stream",
     "text": [
      "error invalid literal for int() with base 10: 'three'\n"
     ]
    }
   ],
   "source": [
    "import os\n",
    "try:\n",
    "   num1 = int(input('enter the no:'))\n",
    "   num2 = int(input('enter the no2:'))\n",
    "   div = num1/num2\n",
    "   print('division:',div)\n",
    "except Exception as e  :\n",
    "    print('error',e)\n",
    "    "
   ]
  },
  {
   "cell_type": "markdown",
   "id": "f6152841-3715-4fbd-b57d-1961f973507e",
   "metadata": {},
   "source": [
    "## try-except- else"
   ]
  },
  {
   "cell_type": "code",
   "execution_count": 6,
   "id": "8dfc41fc-6632-4ae9-a3eb-234ff3e8bbcc",
   "metadata": {},
   "outputs": [
    {
     "name": "stdin",
     "output_type": "stream",
     "text": [
      "enter the no: 45\n",
      "enter the no2: 90\n"
     ]
    },
    {
     "name": "stdout",
     "output_type": "stream",
     "text": [
      "division: 0.5\n"
     ]
    }
   ],
   "source": [
    "\n",
    "try:\n",
    "   num1 = int(input('enter the no:'))\n",
    "   num2 = int(input('enter the no2:'))\n",
    "   div = num1/num2\n",
    "except Exception as e  :\n",
    "    print('error',e)\n",
    "else:\n",
    "    print('division:',div)"
   ]
  },
  {
   "cell_type": "markdown",
   "id": "8c38ab09-0795-43c8-a46e-e4943a1654b7",
   "metadata": {},
   "source": [
    "## finally block "
   ]
  },
  {
   "cell_type": "markdown",
   "id": "e7439a38-6041-47ec-b3f3-452aacd5ed74",
   "metadata": {},
   "source": [
    "#### ⚫ In case if there is any code which the user want to be excuted ,whether exception occur or not then that code can be placed inside the finally block"
   ]
  },
  {
   "cell_type": "code",
   "execution_count": 7,
   "id": "6f57e8c2-4394-4a22-94d2-3687cd9276ae",
   "metadata": {},
   "outputs": [
    {
     "name": "stdin",
     "output_type": "stream",
     "text": [
      "enter the no: 45\n",
      "enter the no2: 0\n"
     ]
    },
    {
     "name": "stdout",
     "output_type": "stream",
     "text": [
      "error division by zero\n",
      "program end \n"
     ]
    }
   ],
   "source": [
    "try:\n",
    "   num1 = int(input('enter the no:'))\n",
    "   num2 = int(input('enter the no2:'))\n",
    "   div = num1/num2\n",
    "except Exception as e  :\n",
    "    print('error',e)\n",
    "else:\n",
    "    print('division:',div)\n",
    "finally:\n",
    "    print('program end ')"
   ]
  },
  {
   "cell_type": "markdown",
   "id": "d041e7ed-dc27-4319-bb23-5647cf4b2e5a",
   "metadata": {},
   "source": [
    "## raising a exception"
   ]
  },
  {
   "cell_type": "markdown",
   "id": "6e3a4677-a17c-40d5-84ac-e7fe324cb9b5",
   "metadata": {},
   "source": [
    "### we can use raise to throw an exception if a condition occurs."
   ]
  },
  {
   "cell_type": "code",
   "execution_count": 1,
   "id": "e5fe68af-a0e0-471a-b5f1-dcceb488a2b0",
   "metadata": {},
   "outputs": [
    {
     "name": "stdin",
     "output_type": "stream",
     "text": [
      "enter the no: 890\n"
     ]
    },
    {
     "name": "stdout",
     "output_type": "stream",
     "text": [
      "your no is: 890\n"
     ]
    }
   ],
   "source": [
    "num = int(input('enter the no:'))\n",
    "if num > 1000:\n",
    "    raise Exception('large no')\n",
    "print('your no is:',num)"
   ]
  },
  {
   "cell_type": "markdown",
   "id": "c9264b7d-686e-4188-85bd-533738f01fe3",
   "metadata": {},
   "source": [
    "## create your own exception"
   ]
  },
  {
   "cell_type": "code",
   "execution_count": 9,
   "id": "92920d2c-eb8d-4ded-af3f-11925596a652",
   "metadata": {},
   "outputs": [],
   "source": [
    "class NegativeNumberException(Exception):\n",
    "    def __init__(self,data):\n",
    "        self.data = data\n",
    "    def __str__(self):\n",
    "        return repr ('number is negative')"
   ]
  },
  {
   "cell_type": "code",
   "execution_count": 16,
   "id": "62294066-4345-4ada-9158-2fce763512c4",
   "metadata": {
    "scrolled": true
   },
   "outputs": [
    {
     "name": "stdin",
     "output_type": "stream",
     "text": [
      "enter the no: -9\n"
     ]
    },
    {
     "name": "stdout",
     "output_type": "stream",
     "text": [
      "Error: 'number is negative'\n"
     ]
    }
   ],
   "source": [
    "num = int(input('enter the no:'))\n",
    "\n",
    "try:\n",
    "    if num < 0:\n",
    "        raise NegativeNumberException(num)\n",
    "    print('square as number:', num ** 2)\n",
    "except NegativeNumberException as e:\n",
    "    print('Error:',e)"
   ]
  },
  {
   "cell_type": "code",
   "execution_count": null,
   "id": "cab4a23f-33cc-4097-8390-8c7208197219",
   "metadata": {},
   "outputs": [],
   "source": []
  }
 ],
 "metadata": {
  "kernelspec": {
   "display_name": "Python [conda env:base] *",
   "language": "python",
   "name": "conda-base-py"
  },
  "language_info": {
   "codemirror_mode": {
    "name": "ipython",
    "version": 3
   },
   "file_extension": ".py",
   "mimetype": "text/x-python",
   "name": "python",
   "nbconvert_exporter": "python",
   "pygments_lexer": "ipython3",
   "version": "3.12.7"
  }
 },
 "nbformat": 4,
 "nbformat_minor": 5
}
